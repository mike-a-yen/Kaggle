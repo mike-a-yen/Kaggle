{
 "cells": [
  {
   "cell_type": "code",
   "execution_count": 1,
   "metadata": {},
   "outputs": [],
   "source": [
    "import operator\n",
    "from typing import Callable, List\n",
    "\n",
    "import matplotlib.pyplot as plt\n",
    "import numpy as np\n",
    "from sklearn.feature_extraction.text import TfidfVectorizer\n",
    "from sklearn.linear_model import LogisticRegression\n",
    "from sklearn.ensemble import RandomForestClassifier\n",
    "from sklearn.metrics import accuracy_score, f1_score, roc_curve, roc_auc_score\n",
    "import pandas as pd\n",
    "\n",
    "from data_utils import map_column_to_ints, concat_cols\n",
    "from raw_dataset import RawDataset\n",
    "from processed_dataset import ProcessedDataset\n",
    "from split_dataset import SplitDataset\n",
    "from nn_toolkit.vocab import Vocab, VocabBuilder\n",
    "\n",
    "%matplotlib notebook\n",
    "%load_ext autoreload\n",
    "%autoreload 2"
   ]
  },
  {
   "cell_type": "code",
   "execution_count": 2,
   "metadata": {},
   "outputs": [],
   "source": [
    "raw = RawDataset()\n",
    "processed = ProcessedDataset(raw)\n",
    "processed.process()\n",
    "split_ds = SplitDataset(processed)"
   ]
  },
  {
   "cell_type": "code",
   "execution_count": 15,
   "metadata": {},
   "outputs": [],
   "source": [
    "token_columns = ['raw_text_tokens', 'clean_text_tokens', 'location_tokens', 'keyword_tokens', 'hashtag_tokens']\n",
    "concat_cols(split_ds, token_columns, 'tokens', '<sep>')"
   ]
  },
  {
   "cell_type": "code",
   "execution_count": 17,
   "metadata": {},
   "outputs": [
    {
     "name": "stdout",
     "output_type": "stream",
     "text": [
      "Vocab size: 5896\n"
     ]
    }
   ],
   "source": [
    "vocab = VocabBuilder(max_size=20000, min_count=2).from_df(\n",
    "    split_ds.train_df, 'raw_text_tokens'\n",
    ")\n",
    "print(f'Vocab size: {vocab.size}')"
   ]
  },
  {
   "cell_type": "code",
   "execution_count": 18,
   "metadata": {},
   "outputs": [
    {
     "data": {
      "text/plain": [
       "1993    [reusing, advanced, in, life, equipments, in, ...\n",
       "4749    [couple, storms, near, guthrie, ok, ., leaving...\n",
       "2453    [<@user-handle>, i, know, the, cow, incident, ...\n",
       "603     [fedex, no, longer, to, transport, bioterror, ...\n",
       "1128    [storm, in, ri, worse, than, last, hurricane, ...\n",
       "                              ...                        \n",
       "6980    [just, stop, fucking, saying, , ûïa, whole, ...\n",
       "4184    [get, that, hazard, pay, <sep>, <sep>, arizona...\n",
       "5265    [<@user-handle>, can'twon't, tell, <@user-hand...\n",
       "2990    [i'm, drowning, in, hw, now, and, that's, w, /...\n",
       "900     [damn, bloody, hot, <sep>, <sep>, singapore, <...\n",
       "Name: tokens, Length: 6090, dtype: object"
      ]
     },
     "execution_count": 18,
     "metadata": {},
     "output_type": "execute_result"
    }
   ],
   "source": [
    "split_ds.train_df['tokens']"
   ]
  },
  {
   "cell_type": "code",
   "execution_count": 19,
   "metadata": {},
   "outputs": [],
   "source": [
    "vectorizer = TfidfVectorizer(\n",
    "    tokenizer=lambda x: [t if t in vocab else vocab.unk for t in x],\n",
    "    preprocessor=lambda x: x,\n",
    "    vocabulary=vocab.token_to_int\n",
    ")"
   ]
  },
  {
   "cell_type": "code",
   "execution_count": 20,
   "metadata": {},
   "outputs": [],
   "source": [
    "X_train = vectorizer.fit_transform(split_ds.train_df.tokens)\n",
    "X_val = vectorizer.transform(split_ds.val_df.tokens)\n",
    "X_test = vectorizer.transform(split_ds.test_df.tokens)"
   ]
  },
  {
   "cell_type": "code",
   "execution_count": 21,
   "metadata": {},
   "outputs": [],
   "source": [
    "y_train = split_ds.train_df.target.values\n",
    "y_val = split_ds.val_df.target.values"
   ]
  },
  {
   "cell_type": "code",
   "execution_count": 22,
   "metadata": {},
   "outputs": [],
   "source": [
    "def plot_roc_curve(y_true, y_prob):\n",
    "    fpr, tpr, _ = roc_curve(y_true, y_prob)\n",
    "    score = roc_auc_score(y_true, y_prob)\n",
    "    plt.plot(fpr, tpr)\n",
    "    plt.title(f'ROC AUC Score: {100 * score: 0.2f}')\n",
    "    plt.xlabel('FPR')\n",
    "    plt.ylabel('TPR')\n",
    "    plt.plot(np.linspace(0, 1), np.linspace(0, 1), 'k--')\n",
    "    plt.show()"
   ]
  },
  {
   "cell_type": "code",
   "execution_count": 23,
   "metadata": {},
   "outputs": [],
   "source": [
    "def sklearn_test_predictions(split_ds: SplitDataset, transforms, clf, test: bool = False):\n",
    "    if test:\n",
    "        train_df = pd.concat([split_ds.train_df, split_ds.val_df], sort=False)\n",
    "        test_df = split_ds.test_df\n",
    "    else:\n",
    "        train_df = split_ds.train_df\n",
    "        test_df = split_ds.val_df\n",
    "    X_train = transforms.fit_transform(train_df.tokens)\n",
    "    X_test = transforms.transform(test_df.tokens)\n",
    "    y_train = train_df.target.values\n",
    "    \n",
    "    clf.fit(X_train, y_train)\n",
    "    y_pred = clf.predict(X_test)\n",
    "    if test:\n",
    "        test_df['target'] = y_pred\n",
    "        return test_df[['id', 'target']]\n",
    "    else:\n",
    "        y_proba = clf.predict_proba(X_test)[:, 1]\n",
    "        y_test = test_df.target.values\n",
    "        plot_roc_curve(y_test, y_proba)\n",
    "        acc = accuracy_score(y_test, y_pred)\n",
    "        print(f'Validation Accuracy: {100 * acc:0.2f}%')\n",
    "        test_df['y_pred'] = y_pred\n",
    "        test_df['y_proba'] = y_proba.tolist()\n",
    "        return test_df"
   ]
  },
  {
   "cell_type": "code",
   "execution_count": 24,
   "metadata": {},
   "outputs": [
    {
     "name": "stderr",
     "output_type": "stream",
     "text": [
      "/home/mayen/miniconda3/envs/kaggle/lib/python3.7/site-packages/sklearn/linear_model/logistic.py:432: FutureWarning: Default solver will be changed to 'lbfgs' in 0.22. Specify a solver to silence this warning.\n",
      "  FutureWarning)\n"
     ]
    },
    {
     "data": {
      "image/png": "[encoded data removed]",
      "text/plain": [
       "<Figure size 432x288 with 1 Axes>"
      ]
     },
     "metadata": {
      "needs_background": "light"
     },
     "output_type": "display_data"
    },
    {
     "name": "stdout",
     "output_type": "stream",
     "text": [
      "Validation Accuracy: 79.91%\n"
     ]
    }
   ],
   "source": [
    "_ = sklearn_test_predictions(split_ds, vectorizer, LogisticRegression(), test=False)"
   ]
  },
  {
   "cell_type": "code",
   "execution_count": 20,
   "metadata": {},
   "outputs": [
    {
     "name": "stderr",
     "output_type": "stream",
     "text": [
      "/home/mayen/miniconda3/envs/kaggle/lib/python3.7/site-packages/sklearn/linear_model/logistic.py:432: FutureWarning: Default solver will be changed to 'lbfgs' in 0.22. Specify a solver to silence this warning.\n",
      "  FutureWarning)\n"
     ]
    }
   ],
   "source": [
    "submission_df = sklearn_test_predictions(\n",
    "    split_ds,\n",
    "    vectorizer,\n",
    "    LogisticRegression(),\n",
    "    test=True\n",
    ")\n",
    "submission_df.to_csv('../data/submissions/sklearn_lr.csv', index=False)"
   ]
  },
  {
   "cell_type": "code",
   "execution_count": 21,
   "metadata": {},
   "outputs": [
    {
     "name": "stderr",
     "output_type": "stream",
     "text": [
      "/home/mayen/miniconda3/envs/kaggle/lib/python3.7/site-packages/sklearn/ensemble/forest.py:245: FutureWarning: The default value of n_estimators will change from 10 in version 0.20 to 100 in 0.22.\n",
      "  \"10 in version 0.20 to 100 in 0.22.\", FutureWarning)\n"
     ]
    },
    {
     "data": {
      "image/png": "[encoded data removed]",
      "text/plain": [
       "<Figure size 432x288 with 1 Axes>"
      ]
     },
     "metadata": {
      "needs_background": "light"
     },
     "output_type": "display_data"
    },
    {
     "name": "stdout",
     "output_type": "stream",
     "text": [
      "Validation Accuracy: 75.84%\n"
     ]
    }
   ],
   "source": [
    "submission_df = sklearn_test_predictions(\n",
    "    split_ds,\n",
    "    vectorizer,\n",
    "    RandomForestClassifier(),\n",
    "    test=False\n",
    ")"
   ]
  },
  {
   "cell_type": "code",
   "execution_count": 181,
   "metadata": {},
   "outputs": [],
   "source": [
    "submission_df = sklearn_test_predictions(\n",
    "    split_ds,\n",
    "    vectorizer,\n",
    "    RandomForestClassifier(),\n",
    "    test=True\n",
    ")\n",
    "submission_df.to_csv('../data/submissions/sklearn_rf.csv', index=False)"
   ]
  },
  {
   "cell_type": "code",
   "execution_count": null,
   "metadata": {},
   "outputs": [],
   "source": []
  }
 ],
 "metadata": {
  "kernelspec": {
   "display_name": "Python 3",
   "language": "python",
   "name": "python3"
  },
  "language_info": {
   "codemirror_mode": {
    "name": "ipython",
    "version": 3
   },
   "file_extension": ".py",
   "mimetype": "text/x-python",
   "name": "python",
   "nbconvert_exporter": "python",
   "pygments_lexer": "ipython3",
   "version": "3.7.4"
  }
 },
 "nbformat": 4,
 "nbformat_minor": 4
}
