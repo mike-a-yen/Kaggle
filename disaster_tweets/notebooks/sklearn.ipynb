{
 "cells": [
  {
   "cell_type": "code",
   "execution_count": 172,
   "metadata": {},
   "outputs": [
    {
     "name": "stdout",
     "output_type": "stream",
     "text": [
      "The autoreload extension is already loaded. To reload it, use:\n",
      "  %reload_ext autoreload\n"
     ]
    }
   ],
   "source": [
    "import operator\n",
    "from typing import Callable, List\n",
    "\n",
    "import matplotlib.pyplot as plt\n",
    "import numpy as np\n",
    "from sklearn.feature_extraction.text import TfidfVectorizer\n",
    "from sklearn.linear_model import LogisticRegression\n",
    "from sklearn.ensemble import RandomForestClassifier\n",
    "from sklearn.metrics import accuracy_score, f1_score, roc_curve, roc_auc_score\n",
    "import pandas as pd\n",
    "\n",
    "from raw_dataset import RawDataset\n",
    "from processed_dataset import ProcessedDataset\n",
    "from split_dataset import SplitDataset\n",
    "from nn_toolkit.vocab import Vocab, VocabBuilder\n",
    "\n",
    "%matplotlib notebook\n",
    "%load_ext autoreload\n",
    "%autoreload 2"
   ]
  },
  {
   "cell_type": "code",
   "execution_count": 129,
   "metadata": {},
   "outputs": [],
   "source": [
    "raw = RawDataset()\n",
    "processed = ProcessedDataset(raw)\n",
    "processed.process()\n",
    "split_ds = SplitDataset(processed)"
   ]
  },
  {
   "cell_type": "code",
   "execution_count": 130,
   "metadata": {},
   "outputs": [],
   "source": [
    "vocab = VocabBuilder(max_size=20000, min_count=5).from_df(split_ds.train_df, 'tokens')"
   ]
  },
  {
   "cell_type": "code",
   "execution_count": 131,
   "metadata": {},
   "outputs": [],
   "source": [
    "vectorizer = TfidfVectorizer(tokenizer=lambda x: x, preprocessor=lambda x: x, vocabulary=vocab.token_to_int)"
   ]
  },
  {
   "cell_type": "code",
   "execution_count": 132,
   "metadata": {},
   "outputs": [],
   "source": [
    "X_train = vectorizer.fit_transform(split_ds.train_df.tokens)\n",
    "X_val = vectorizer.transform(split_ds.val_df.tokens)\n",
    "X_test = vectorizer.transform(processed_ds.test_df.tokens)"
   ]
  },
  {
   "cell_type": "code",
   "execution_count": 136,
   "metadata": {},
   "outputs": [],
   "source": [
    "y_train = split_ds.train_df.target.values\n",
    "y_val = split_ds.val_df.target.values"
   ]
  },
  {
   "cell_type": "code",
   "execution_count": 159,
   "metadata": {},
   "outputs": [],
   "source": [
    "def plot_roc_curve(y_true, y_prob):\n",
    "    fpr, tpr, _ = roc_curve(y_true, y_prob)\n",
    "    score = roc_auc_score(y_true, y_prob)\n",
    "    plt.plot(fpr, tpr)\n",
    "    plt.title(f'ROC AUC Score: {100 * score: 0.2f}')\n",
    "    plt.xlabel('FPR')\n",
    "    plt.ylabel('TPR')\n",
    "    plt.plot(np.linspace(0, 1), np.linspace(0, 1), 'k--')\n",
    "    plt.show()"
   ]
  },
  {
   "cell_type": "code",
   "execution_count": 178,
   "metadata": {},
   "outputs": [],
   "source": [
    "def sklearn_test_predictions(split_ds: SplitDataset, transforms, clf):\n",
    "    train_df = pd.concat([split_ds.train_df, split_ds.val_df])\n",
    "    X_train = transforms.fit_transform(train_df.tokens)\n",
    "    X_test = transforms.transform(split_ds.test_df.tokens)\n",
    "    y_train = train_df.target.values\n",
    "    \n",
    "    clf.fit(X_train, y_train)\n",
    "    y_pred = clf.predict(X_test)\n",
    "    split_ds.test_df['target'] = y_pred\n",
    "    return split_ds.test_df[['id', 'target']]"
   ]
  },
  {
   "cell_type": "code",
   "execution_count": 180,
   "metadata": {},
   "outputs": [],
   "source": [
    "submission_df = sklearn_test_predictions(\n",
    "    split_ds,\n",
    "    vectorizer,\n",
    "    LogisticRegression()\n",
    ")\n",
    "submission_df.to_csv('../data/submissions/sklearn_lr.csv', index=False)"
   ]
  },
  {
   "cell_type": "code",
   "execution_count": 181,
   "metadata": {},
   "outputs": [],
   "source": [
    "submission_df = sklearn_test_predictions(\n",
    "    split_ds,\n",
    "    vectorizer,\n",
    "    RandomForestClassifier()\n",
    ")\n",
    "submission_df.to_csv('../data/submissions/sklearn_rf.csv', index=False)"
   ]
  },
  {
   "cell_type": "code",
   "execution_count": null,
   "metadata": {},
   "outputs": [],
   "source": []
  }
 ],
 "metadata": {
  "kernelspec": {
   "display_name": "Python 3",
   "language": "python",
   "name": "python3"
  },
  "language_info": {
   "codemirror_mode": {
    "name": "ipython",
    "version": 3
   },
   "file_extension": ".py",
   "mimetype": "text/x-python",
   "name": "python",
   "nbconvert_exporter": "python",
   "pygments_lexer": "ipython3",
   "version": "3.7.6"
  }
 },
 "nbformat": 4,
 "nbformat_minor": 4
}
