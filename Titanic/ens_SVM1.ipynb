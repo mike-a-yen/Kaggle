{
 "cells": [
  {
   "cell_type": "code",
   "execution_count": 1,
   "metadata": {
    "collapsed": true
   },
   "outputs": [],
   "source": [
    "import numpy as np\n",
    "import pandas as pd\n",
    "from datetime import datetime\n",
    "from preprocess import *\n",
    "from useful_tools import *\n",
    "from sklearn.svm import SVC\n",
    "from sklearn.cross_validation import train_test_split\n",
    "from sklearn.cross_validation import KFold\n",
    "import matplotlib.pyplot as plt\n",
    "plt.style.use('bmh')\n",
    "%matplotlib inline"
   ]
  },
  {
   "cell_type": "code",
   "execution_count": 2,
   "metadata": {
    "collapsed": false
   },
   "outputs": [],
   "source": [
    "train = pd.read_csv('data_sets/preprocessed_v1.csv')"
   ]
  },
  {
   "cell_type": "code",
   "execution_count": 3,
   "metadata": {
    "collapsed": false
   },
   "outputs": [],
   "source": [
    "train_x = train.drop(['Survived'],axis=1)\n",
    "train_y = train['Survived'].values"
   ]
  },
  {
   "cell_type": "code",
   "execution_count": 4,
   "metadata": {
    "collapsed": true
   },
   "outputs": [],
   "source": [
    "X_train, X_valid, Y_train, Y_valid = train_test_split(train_x, train_y, test_size=0.15, random_state=0)"
   ]
  },
  {
   "cell_type": "code",
   "execution_count": 5,
   "metadata": {
    "collapsed": true
   },
   "outputs": [],
   "source": [
    "def cross_validation(train_x,train_y,p_range,k=50,parameter='C',silence=True,**kwargs):\n",
    "    errors = []\n",
    "    for p in p_range:\n",
    "        kfold = KFold(len(train_x), n_folds=k,shuffle=True)\n",
    "        error = 0\n",
    "        params = dict({parameter:p},**kwargs)\n",
    "        for train_index, val_index in kfold:\n",
    "            x_train = train_x.iloc[train_index]\n",
    "            y_train = train_y[train_index]\n",
    "            x_val = train_x.iloc[val_index]\n",
    "            y_val = train_y[val_index]\n",
    "            clf = SVC(**params)\n",
    "            clf.fit(x_train,y_train)\n",
    "            predictions = clf.predict(x_val)\n",
    "            err = np.sum((predictions != y_val),dtype=float)/len(y_val)\n",
    "            error += err/k\n",
    "        if silence != True:\n",
    "            print p,':',error\n",
    "        errors.append(error)\n",
    "    best = p_range[np.argmin(errors)]\n",
    "    return best,errors"
   ]
  },
  {
   "cell_type": "code",
   "execution_count": 6,
   "metadata": {
    "collapsed": false
   },
   "outputs": [],
   "source": [
    "best_c = 1e-5"
   ]
  },
  {
   "cell_type": "code",
   "execution_count": null,
   "metadata": {
    "collapsed": false
   },
   "outputs": [],
   "source": [
    "lrc = SVC(C=best_c,kernel='linear')\n",
    "lrc.fit(X_train,Y_train)"
   ]
  },
  {
   "cell_type": "code",
   "execution_count": null,
   "metadata": {
    "collapsed": true
   },
   "outputs": [],
   "source": [
    "predictions = lrc.predict(X_valid)\n",
    "print error_rate(predictions,Y_valid)"
   ]
  },
  {
   "cell_type": "code",
   "execution_count": null,
   "metadata": {
    "collapsed": true
   },
   "outputs": [],
   "source": [
    "np.savetxt('Predictions/train_svm1_predictions.csv',\n",
    "           np.c_[predictions],\n",
    "           delimiter=',',\n",
    "           fmt='%d',\n",
    "           comments='')"
   ]
  },
  {
   "cell_type": "code",
   "execution_count": null,
   "metadata": {
    "collapsed": true
   },
   "outputs": [],
   "source": [
    "test = pd.read_csv('data_sets/preprocessed_test_v1.csv')"
   ]
  },
  {
   "cell_type": "code",
   "execution_count": null,
   "metadata": {
    "collapsed": true
   },
   "outputs": [],
   "source": [
    "test_predictions = lrc.predict(test)\n",
    "np.savetxt('Predictions/test_svm1_predictions.csv',\n",
    "           np.c_[test_predictions],\n",
    "           delimiter=',',\n",
    "           fmt='%d',\n",
    "           comments='')"
   ]
  },
  {
   "cell_type": "code",
   "execution_count": null,
   "metadata": {
    "collapsed": true
   },
   "outputs": [],
   "source": []
  }
 ],
 "metadata": {
  "kernelspec": {
   "display_name": "Python 2",
   "language": "python",
   "name": "python2"
  },
  "language_info": {
   "codemirror_mode": {
    "name": "ipython",
    "version": 2
   },
   "file_extension": ".py",
   "mimetype": "text/x-python",
   "name": "python",
   "nbconvert_exporter": "python",
   "pygments_lexer": "ipython2",
   "version": "2.7.10"
  }
 },
 "nbformat": 4,
 "nbformat_minor": 0
}
