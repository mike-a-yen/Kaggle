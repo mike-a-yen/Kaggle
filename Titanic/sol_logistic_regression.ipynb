{
 "cells": [
  {
   "cell_type": "code",
   "execution_count": 17,
   "metadata": {
    "collapsed": false
   },
   "outputs": [],
   "source": [
    "import numpy as np\n",
    "import pandas as pd\n",
    "from sklearn import linear_model\n",
    "from sklearn.cross_validation import train_test_split\n",
    "from sklearn.cross_validation import KFold\n",
    "import matplotlib.pyplot as plt\n",
    "plt.style.use('bmh')\n",
    "%matplotlib inline"
   ]
  },
  {
   "cell_type": "code",
   "execution_count": 18,
   "metadata": {
    "collapsed": false
   },
   "outputs": [],
   "source": [
    "train_raw = pd.read_csv('data_sets/train.csv')"
   ]
  },
  {
   "cell_type": "code",
   "execution_count": 19,
   "metadata": {
    "collapsed": false
   },
   "outputs": [],
   "source": [
    "def preprocess(data):\n",
    "    gender_map = {'male':1,'female':0}\n",
    "    embarked_map = {'C':0,'Q':1,'S':2}\n",
    "    data['Sex'] = data['Sex'].map(gender_map)\n",
    "    data['Embarked'] = data['Embarked'].map(embarked_map)\n",
    "    data.fillna(-1,inplace=True)\n",
    "    return data"
   ]
  },
  {
   "cell_type": "code",
   "execution_count": 20,
   "metadata": {
    "collapsed": false
   },
   "outputs": [
    {
     "name": "stdout",
     "output_type": "stream",
     "text": [
      "(891, 8)\n",
      "(891,)\n"
     ]
    }
   ],
   "source": [
    "train = preprocess(train_raw)\n",
    "ignore = ['Name','Ticket','Cabin']\n",
    "train_x = train.drop(['Survived']+ignore,axis=1)\n",
    "train_y = train['Survived']\n",
    "print train_x.shape\n",
    "print train_y.shape"
   ]
  },
  {
   "cell_type": "code",
   "execution_count": 21,
   "metadata": {
    "collapsed": false
   },
   "outputs": [],
   "source": [
    "X_train, X_valid, Y_train, Y_valid = train_test_split(train_x, train_y, test_size=100, random_state=0)"
   ]
  },
  {
   "cell_type": "code",
   "execution_count": 22,
   "metadata": {
    "collapsed": false
   },
   "outputs": [
    {
     "data": {
      "text/plain": [
       "LogisticRegression(C=1.0, class_weight=None, dual=False, fit_intercept=True,\n",
       "          intercept_scaling=1, max_iter=100, multi_class='ovr',\n",
       "          penalty='l2', random_state=None, solver='liblinear', tol=0.0001,\n",
       "          verbose=0)"
      ]
     },
     "execution_count": 22,
     "metadata": {},
     "output_type": "execute_result"
    }
   ],
   "source": [
    "lrm = linear_model.LogisticRegression(C=1.)\n",
    "lrm.fit(X_train,Y_train)"
   ]
  },
  {
   "cell_type": "code",
   "execution_count": 23,
   "metadata": {
    "collapsed": true
   },
   "outputs": [],
   "source": [
    "predictions = lrm.predict(X_valid)"
   ]
  },
  {
   "cell_type": "code",
   "execution_count": 24,
   "metadata": {
    "collapsed": true
   },
   "outputs": [],
   "source": [
    "def calc_error(precitions,actuals):\n",
    "    return np.sum(predictions != actuals,dtype=float)\n",
    "def error_rate(predictions,actuals):\n",
    "    return calc_error(predictions,actuals)/len(predictions)"
   ]
  },
  {
   "cell_type": "code",
   "execution_count": 25,
   "metadata": {
    "collapsed": false
   },
   "outputs": [
    {
     "name": "stdout",
     "output_type": "stream",
     "text": [
      "0.19\n"
     ]
    }
   ],
   "source": [
    "print error_rate(predictions,Y_valid.values)"
   ]
  },
  {
   "cell_type": "markdown",
   "metadata": {},
   "source": [
    "# Naive Guess on Test Data!!!!"
   ]
  },
  {
   "cell_type": "code",
   "execution_count": 26,
   "metadata": {
    "collapsed": false
   },
   "outputs": [],
   "source": [
    "test_data = pd.read_csv('data_sets/test.csv')\n",
    "test = test_data.copy()"
   ]
  },
  {
   "cell_type": "code",
   "execution_count": 27,
   "metadata": {
    "collapsed": false
   },
   "outputs": [],
   "source": [
    "test = preprocess(test_data)\n",
    "test_x = test.drop(ignore,axis=1)"
   ]
  },
  {
   "cell_type": "code",
   "execution_count": 28,
   "metadata": {
    "collapsed": false
   },
   "outputs": [
    {
     "name": "stdout",
     "output_type": "stream",
     "text": [
      "[0 1 0 0 1 0 1 0 1 0 0 0 1 0 1 1 0 0 1 1 0 0 1 1 1 0 1 0 0 0 0 0 1 1 0 0 1\n",
      " 1 0 0 0 0 0 1 1 0 0 0 1 1 0 0 1 1 0 0 0 0 0 1 0 0 0 1 1 1 1 0 0 1 1 0 1 0\n",
      " 1 1 0 1 0 1 0 0 0 0 0 0 1 1 1 0 1 0 1 0 0 0 1 0 1 0 1 0 0 0 1 0 0 0 0 0 0\n",
      " 1 1 1 1 0 0 1 1 1 1 0 1 0 0 1 0 1 0 0 0 0 1 0 0 0 0 0 1 0 0 1 1 0 0 0 1 0\n",
      " 0 0 1 0 0 1 0 0 1 1 0 1 1 0 1 0 0 1 0 0 1 1 0 0 0 0 0 1 1 0 1 1 0 0 1 0 1\n",
      " 0 1 0 0 0 0 0 0 0 0 0 1 1 0 1 1 0 1 1 0 1 1 0 1 0 0 0 0 1 0 0 1 0 1 0 1 0\n",
      " 1 0 1 1 0 1 0 0 0 1 0 0 0 0 0 0 1 1 1 1 0 0 0 0 1 0 1 1 1 0 1 0 0 0 0 0 1\n",
      " 0 0 0 1 1 0 0 0 0 1 0 0 0 1 1 0 1 0 0 0 0 1 0 1 1 1 0 0 0 0 0 1 1 0 0 0 0\n",
      " 1 0 0 0 0 0 0 0 1 1 0 0 0 1 0 0 0 1 1 1 0 0 0 0 0 0 0 0 1 0 1 0 0 0 1 0 0\n",
      " 1 0 0 0 0 0 0 0 0 0 1 0 1 0 1 0 1 1 0 0 0 1 0 1 0 0 1 0 1 1 0 1 1 0 1 1 0\n",
      " 0 1 0 0 1 1 1 0 0 0 0 0 1 1 0 1 0 0 0 0 1 1 0 0 0 1 0 1 0 0 1 0 1 0 0 0 0\n",
      " 1 1 1 1 1 1 0 1 0 0 0]\n"
     ]
    }
   ],
   "source": [
    "lrm_test = linear_model.LogisticRegression(C=1.)\n",
    "lrm_test.fit(train_x, train_y)\n",
    "test_predictions = lrm_test.predict(test_x)\n",
    "print test_predictions"
   ]
  },
  {
   "cell_type": "code",
   "execution_count": 29,
   "metadata": {
    "collapsed": false
   },
   "outputs": [],
   "source": [
    "ids = np.arange(1,len(test_predictions)+1)\n",
    "np.savetxt('titanic_naive.csv',\n",
    "           np.c_[test_x['PassengerId'],test_predictions],\n",
    "           delimiter=',',\n",
    "           header='PassengerId,Survived',\n",
    "           fmt='%d',\n",
    "           comments='')"
   ]
  },
  {
   "cell_type": "code",
   "execution_count": 30,
   "metadata": {
    "collapsed": false
   },
   "outputs": [
    {
     "name": "stdout",
     "output_type": "stream",
     "text": [
      "L2  1e-10 : 17.3\n",
      "L1  1e-10 : 17.3\n",
      "L2  1e-09 : 17.3\n",
      "L1  1e-09 : 17.3\n",
      "L2  1e-08 : 17.3\n",
      "L1  1e-08 : 17.3\n",
      "L2  1e-07 : 17.3\n",
      "L1  1e-07 : 17.3\n",
      "L2  1e-06 : 17.2\n",
      "L1  1e-06 : 17.3\n",
      "L2  1e-05 : 17.3\n",
      "L1  1e-05 : 17.3\n",
      "L2  0.0001 : 17.3\n",
      "L1  0.0001 : 17.3\n",
      "L2  0.001 : 17.3\n",
      "L1  0.001 : 17.3\n",
      "L2  0.01 : 17.3\n",
      "L1  0.01 : 17.3\n",
      "L2  0.1 : 17.1\n",
      "L1  0.1 : 17.3\n",
      "L2  1.0 : 16.5\n",
      "L1  1.0 : 16.9\n",
      "L2  10.0 : 16.8\n",
      "L1  10.0 : 17.1\n",
      "L2  100.0 : 22.9\n",
      "L1  100.0 : 28.3\n",
      "L2  1000.0 : 26.3\n",
      "L1  1000.0 : 29.6\n",
      "L2  10000.0 : 28.3\n",
      "L1  10000.0 : 29.9\n",
      "L2  100000.0 : 28.9\n",
      "L1  100000.0 : 29.9\n",
      "L2  1000000.0 : 30.4\n",
      "L1  1000000.0 : 29.9\n",
      "L2  10000000.0 : 29.7\n",
      "L1  10000000.0 : 29.9\n",
      "L2  100000000.0 : 29.8\n",
      "L1  100000000.0 : 29.9\n",
      "L2  1000000000.0 : 29.9\n",
      "L1  1000000000.0 : 29.9\n",
      "L2  10000000000.0 : 29.9\n",
      "L1  10000000000.0 : 29.9\n",
      "best L2: 1.0\n",
      "best L1: 1.0\n"
     ]
    }
   ],
   "source": [
    "k = 10\n",
    "penalty_range = np.logspace(-10,10,21)\n",
    "errors_l2 = []\n",
    "errors_l1 = []\n",
    "for penalty in penalty_range:\n",
    "    kfold = KFold(len(X_train), n_folds=k,shuffle=True,random_state=0)\n",
    "    error_l2 = 0\n",
    "    error_l1 = 0\n",
    "    for train_index, val_index in kfold:\n",
    "        x_train = X_train.iloc[train_index]\n",
    "        y_train = Y_train.iloc[train_index]\n",
    "        x_val = X_train.iloc[val_index]\n",
    "        y_val = Y_train.iloc[val_index]\n",
    "        lrm_l2 = linear_model.LogisticRegression(C=1./penalty,penalty='l2')\n",
    "        lrm_l1 = linear_model.LogisticRegression(C=1./penalty,penalty='l1')\n",
    "        lrm_l2.fit(x_train,y_train)\n",
    "        lrm_l1.fit(x_train,y_train)\n",
    "        predicts_l2 = lrm_l2.predict(x_val)\n",
    "        predicts_l1 = lrm_l1.predict(x_val)\n",
    "        err_l2 = np.sum(predicts_l2 != y_val.values,dtype=float)\n",
    "        err_l1 = np.sum(predicts_l1 != y_val.values,dtype=float)\n",
    "        error_l2 += err_l2\n",
    "        error_l1 += err_l1\n",
    "    print 'L2 ',penalty,':',error_l2/k\n",
    "    print 'L1 ',penalty,':',error_l1/k\n",
    "    errors_l2.append(error_l2/k)\n",
    "    errors_l1.append(error_l1/k)\n",
    "best_l2 = penalty_range[np.argmin(errors_l2)]\n",
    "best_l1 = penalty_range[np.argmin(errors_l1)]\n",
    "print 'best L2:', best_l2\n",
    "print 'best L1:', best_l1"
   ]
  },
  {
   "cell_type": "code",
   "execution_count": 31,
   "metadata": {
    "collapsed": false
   },
   "outputs": [
    {
     "data": {
      "image/png": "[encoded data removed]",
      "text/plain": [
       "<matplotlib.figure.Figure at 0x10a7def10>"
      ]
     },
     "metadata": {},
     "output_type": "display_data"
    }
   ],
   "source": [
    "plt.semilogx(penalty_range,errors_l1,label='L1')\n",
    "plt.semilogx(penalty_range,errors_l2,label='L2')\n",
    "plt.legend()\n",
    "plt.show()"
   ]
  },
  {
   "cell_type": "code",
   "execution_count": 32,
   "metadata": {
    "collapsed": false
   },
   "outputs": [
    {
     "name": "stdout",
     "output_type": "stream",
     "text": [
      "best L2: 5.09413801482\n",
      "best L1: 2.91505306283\n"
     ]
    }
   ],
   "source": [
    "k = 10\n",
    "penalty_range = np.logspace(-2,2,100)\n",
    "errors_l2 = []\n",
    "errors_l1 = []\n",
    "for penalty in penalty_range:\n",
    "    kfold = KFold(len(X_train), n_folds=k,shuffle=True,random_state=0)\n",
    "    error_l2 = 0\n",
    "    error_l1 = 0\n",
    "    for train_index, val_index in kfold:\n",
    "        x_train = X_train.iloc[train_index]\n",
    "        y_train = Y_train.iloc[train_index]\n",
    "        x_val = X_train.iloc[val_index]\n",
    "        y_val = Y_train.iloc[val_index]\n",
    "        lrm_l2 = linear_model.LogisticRegression(C=1./penalty,penalty='l2')\n",
    "        lrm_l1 = linear_model.LogisticRegression(C=1./penalty,penalty='l1')\n",
    "        lrm_l2.fit(x_train,y_train)\n",
    "        lrm_l1.fit(x_train,y_train)\n",
    "        predicts_l2 = lrm_l2.predict(x_val)\n",
    "        predicts_l1 = lrm_l1.predict(x_val)\n",
    "        err_l2 = np.sum(predicts_l2 != y_val.values,dtype=float)\n",
    "        err_l1 = np.sum(predicts_l1 != y_val.values,dtype=float)\n",
    "        error_l2 += err_l2\n",
    "        error_l1 += err_l1\n",
    "    errors_l2.append(error_l2/k)\n",
    "    errors_l1.append(error_l1/k)\n",
    "best_l2 = penalty_range[np.argmin(errors_l2)]\n",
    "best_l1 = penalty_range[np.argmin(errors_l1)]\n",
    "print 'best L2:', best_l2\n",
    "print 'best L1:', best_l1"
   ]
  },
  {
   "cell_type": "code",
   "execution_count": 33,
   "metadata": {
    "collapsed": false
   },
   "outputs": [
    {
     "data": {
      "image/png": "[encoded data removed]",
      "text/plain": [
       "<matplotlib.figure.Figure at 0x10b0a7c50>"
      ]
     },
     "metadata": {},
     "output_type": "display_data"
    }
   ],
   "source": [
    "plt.semilogx(penalty_range,errors_l1,label='L1')\n",
    "plt.semilogx(penalty_range,errors_l2,label='L2')\n",
    "plt.legend()\n",
    "plt.show()"
   ]
  },
  {
   "cell_type": "markdown",
   "metadata": {},
   "source": [
    "# Somewhat less Naive Guess on Test Data"
   ]
  },
  {
   "cell_type": "code",
   "execution_count": 34,
   "metadata": {
    "collapsed": true
   },
   "outputs": [],
   "source": [
    "test_lrm = linear_model.LogisticRegression(C=1./best_l2,penalty='l2')"
   ]
  },
  {
   "cell_type": "code",
   "execution_count": 35,
   "metadata": {
    "collapsed": false
   },
   "outputs": [
    {
     "name": "stdout",
     "output_type": "stream",
     "text": [
      "[0 1 0 0 1 0 1 0 1 0 0 0 1 0 1 1 0 0 1 1 0 0 1 0 1 0 1 0 0 0 0 0 1 1 0 0 1\n",
      " 1 0 0 0 0 0 1 1 0 0 0 1 1 0 0 1 1 0 0 0 0 0 1 0 0 0 1 1 1 1 0 0 1 1 0 1 0\n",
      " 1 1 0 1 0 1 0 1 0 0 0 0 1 1 1 0 1 0 1 0 0 0 1 0 1 0 1 0 0 0 1 0 0 0 0 0 0\n",
      " 1 1 1 1 0 0 1 1 1 1 0 1 0 0 1 0 1 0 0 0 0 1 0 0 0 0 0 1 0 0 1 1 0 0 0 0 0\n",
      " 0 0 1 0 0 1 0 0 1 1 0 1 1 0 1 0 0 1 0 0 1 1 0 0 0 0 0 1 1 0 1 1 0 0 1 0 1\n",
      " 0 1 0 0 0 0 0 0 0 0 0 1 1 0 1 1 0 1 1 0 0 1 0 1 0 0 0 0 1 0 0 1 1 1 0 1 0\n",
      " 1 0 1 1 0 1 0 0 0 1 0 0 0 0 0 0 1 1 1 1 1 0 0 0 1 0 1 1 1 0 1 0 0 0 0 0 1\n",
      " 0 0 0 1 1 0 0 0 0 1 0 1 0 1 1 0 1 0 0 0 0 1 0 1 1 1 0 0 0 0 0 0 1 0 0 0 0\n",
      " 1 0 0 0 0 0 0 0 1 1 1 0 0 1 0 0 0 1 1 1 1 0 0 0 0 0 0 0 1 0 1 1 0 0 1 0 0\n",
      " 1 0 0 0 0 0 0 0 0 0 1 0 1 0 1 0 1 1 0 0 0 1 0 1 0 0 1 0 1 1 0 1 1 0 1 1 0\n",
      " 0 1 0 0 1 1 1 0 0 0 0 0 1 1 0 1 0 0 0 0 1 1 0 0 0 1 0 1 0 0 1 0 1 0 0 0 0\n",
      " 1 1 1 1 1 1 0 1 0 0 0]\n"
     ]
    }
   ],
   "source": [
    "test_lrm.fit(train_x, train_y)\n",
    "test_predictions = test_lrm.predict(test_x)\n",
    "print test_predictions"
   ]
  },
  {
   "cell_type": "code",
   "execution_count": 36,
   "metadata": {
    "collapsed": true
   },
   "outputs": [],
   "source": [
    "np.savetxt('titanic_L2.csv',\n",
    "           np.c_[test_x['PassengerId'],test_predictions],\n",
    "           delimiter=',',\n",
    "           header='PassengerId,Survived',\n",
    "           fmt='%d',\n",
    "           comments='')"
   ]
  },
  {
   "cell_type": "code",
   "execution_count": null,
   "metadata": {
    "collapsed": true
   },
   "outputs": [],
   "source": []
  }
 ],
 "metadata": {
  "kernelspec": {
   "display_name": "Python 2",
   "language": "python",
   "name": "python2"
  },
  "language_info": {
   "codemirror_mode": {
    "name": "ipython",
    "version": 2
   },
   "file_extension": ".py",
   "mimetype": "text/x-python",
   "name": "python",
   "nbconvert_exporter": "python",
   "pygments_lexer": "ipython2",
   "version": "2.7.10"
  }
 },
 "nbformat": 4,
 "nbformat_minor": 0
}
