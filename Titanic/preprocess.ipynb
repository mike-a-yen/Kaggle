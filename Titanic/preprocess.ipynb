{
 "cells": [
  {
   "cell_type": "code",
   "execution_count": 2,
   "metadata": {
    "collapsed": true
   },
   "outputs": [],
   "source": [
    "def preprocess_categorical(data,column):\n",
    "    processed = data.copy()\n",
    "    for status in data[column].unique():\n",
    "        processed[column+'_'+str(status)] = (data[column]==status).astype(int)\n",
    "    processed = processed.drop(column,axis=1)\n",
    "    return processed\n",
    "def deck_letter(x):\n",
    "    if type(x) == str:\n",
    "        return x[0]\n",
    "    else:\n",
    "        return np.nan\n",
    "def preprocess_sex(data):\n",
    "    data['gender'] = data['Sex'].apply(lambda x: int(x=='male'))\n",
    "    return data\n",
    "def preprocess_cabin(data):\n",
    "    data['Cabin'] = data['Cabin'].apply(deck_letter)\n",
    "    return data\n",
    "def preprocess_last_name(data):\n",
    "    re_string = '([A-Z]+[a-zA-Z].*),'\n",
    "    data['Last_Name'] = data['Name'].apply(lambda x: (re.findall(re_string,x)+[''])[0])\n",
    "    return data\n",
    "def preprocess_same_last_name(data):\n",
    "    data['Same_Last'] = data['Last_Name'].apply(lambda x: data['Last_Name'][data['Last_Name'] == x].count() - 1)\n",
    "    return data\n",
    "def preprocess_name(data):\n",
    "    re_string = '.*, ([A-Z]+[a-zA-Z]*)\\..*'\n",
    "    data['Title'] = data['Name'].apply(lambda x: (re.findall(re_string,x)+[np.nan])[0])\n",
    "    return data    \n",
    "def preprocess_ticket(data):\n",
    "    re_prefix = '(.*) .*'\n",
    "    data['ticket_prefix'] = data['Ticket'].apply(lambda x: (re.findall(re_prefix,x)+[np.nan])[0])\n",
    "    re_suffix = '[0-9]{2,}'\n",
    "    data['ticket_suffix'] = data['Ticket'].apply(lambda x: float((re.findall(re_suffix,x)+[np.nan])[0]))\n",
    "    return data\n",
    "def preprocess(data,scale=True):\n",
    "    data = preprocess_sex(data)\n",
    "    data = preprocess_cabin(data)\n",
    "    data = preprocess_name(data)\n",
    "    data = preprocess_last_name(data)\n",
    "    data = preprocess_same_last_name(data)\n",
    "    data = preprocess_ticket(data)\n",
    "    categorical = ['Embarked','Cabin','Title','ticket_prefix']\n",
    "    iters = 0\n",
    "    while iters < len(categorical):\n",
    "        data = preprocess_categorical(data,categorical[iters])\n",
    "        iters += 1\n",
    "    data = data.fillna(data.median())\n",
    "    ignore = ['Sex','PassengerId','Name','Last_Name','Ticket']\n",
    "    data = data.drop(ignore,axis=1)\n",
    "    return data\n",
    "\n",
    "def preprocess_test(test,train):\n",
    "    test = preprocess(test)\n",
    "    for c_train in train.columns:\n",
    "        if c_train not in test.columns:\n",
    "            test[c_train] = 0\n",
    "    for c_test in test.columns:\n",
    "        if c_test not in train.columns:\n",
    "            test = test.drop(c_test,axis=1)\n",
    "    return test"
   ]
  },
  {
   "cell_type": "code",
   "execution_count": null,
   "metadata": {
    "collapsed": true
   },
   "outputs": [],
   "source": []
  }
 ],
 "metadata": {
  "kernelspec": {
   "display_name": "Python 2",
   "language": "python",
   "name": "python2"
  },
  "language_info": {
   "codemirror_mode": {
    "name": "ipython",
    "version": 2
   },
   "file_extension": ".py",
   "mimetype": "text/x-python",
   "name": "python",
   "nbconvert_exporter": "python",
   "pygments_lexer": "ipython2",
   "version": "2.7.10"
  }
 },
 "nbformat": 4,
 "nbformat_minor": 0
}
