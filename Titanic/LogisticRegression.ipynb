{
 "cells": [
  {
   "cell_type": "code",
   "execution_count": 51,
   "metadata": {
    "collapsed": false
   },
   "outputs": [
    {
     "name": "stdout",
     "output_type": "stream",
     "text": [
      "{'Q': 2, 'C': 1, 'S': 0}\n"
     ]
    }
   ],
   "source": [
    "import pandas\n",
    "titanic = pandas.read_csv('data_sets/train.csv')\n",
    "titanic['Age'] = titanic['Age'].fillna(titanic['Age'].median())\n",
    "\n",
    "titanic.loc[titanic['Sex']=='male', 'Sex'] = 0\n",
    "titanic.loc[titanic['Sex']=='female', 'Sex'] = 1\n",
    "\n",
    "titanic['Embarked'] = titanic['Embarked'].fillna('S')\n",
    "\n",
    "embarkedDict = {'Q': 2, 'C': 1, 'S': 0}\n",
    "for key in embarkedDict:\n",
    "    titanic.loc[titanic['Embarked'] == key, 'Embarked'] = embarkedDict[key]"
   ]
  },
  {
   "cell_type": "code",
   "execution_count": 52,
   "metadata": {
    "collapsed": false
   },
   "outputs": [
    {
     "name": "stdout",
     "output_type": "stream",
     "text": [
      "0.787878787879\n"
     ]
    }
   ],
   "source": [
    "from sklearn.linear_model import LogisticRegression\n",
    "from sklearn import cross_validation\n",
    "predictors = [\"Pclass\", \"Sex\", \"Age\", \"SibSp\", \"Parch\", \"Fare\", \"Embarked\"]\n",
    "alg = LogisticRegression(random_state=1)\n",
    "scores = cross_validation.cross_val_score(alg, titanic[predictors], titanic[\"Survived\"], cv=3)\n",
    "print(scores.mean())"
   ]
  },
  {
   "cell_type": "markdown",
   "metadata": {},
   "source": [
    "# On to the Test Set! "
   ]
  },
  {
   "cell_type": "code",
   "execution_count": 53,
   "metadata": {
    "collapsed": false
   },
   "outputs": [
    {
     "name": "stdout",
     "output_type": "stream",
     "text": [
      "       PassengerId      Pclass         Age       SibSp       Parch        Fare\n",
      "count   418.000000  418.000000  332.000000  418.000000  418.000000  417.000000\n",
      "mean   1100.500000    2.265550   30.272590    0.447368    0.392344   35.627188\n",
      "std     120.810458    0.841838   14.181209    0.896760    0.981429   55.907576\n",
      "min     892.000000    1.000000    0.170000    0.000000    0.000000    0.000000\n",
      "25%     996.250000    1.000000   21.000000    0.000000    0.000000    7.895800\n",
      "50%    1100.500000    3.000000   27.000000    0.000000    0.000000   14.454200\n",
      "75%    1204.750000    3.000000   39.000000    1.000000    0.000000   31.500000\n",
      "max    1309.000000    3.000000   76.000000    8.000000    9.000000  512.329200\n"
     ]
    }
   ],
   "source": [
    "titanic_test = pandas.read_csv(\"data_sets/test.csv\")\n",
    "print (titanic_test.describe())"
   ]
  },
  {
   "cell_type": "code",
   "execution_count": 54,
   "metadata": {
    "collapsed": false
   },
   "outputs": [
    {
     "name": "stdout",
     "output_type": "stream",
     "text": [
      "<class 'pandas.core.frame.DataFrame'>\n",
      "Int64Index: 418 entries, 0 to 417\n",
      "Data columns (total 11 columns):\n",
      "PassengerId    418 non-null int64\n",
      "Pclass         418 non-null int64\n",
      "Name           418 non-null object\n",
      "Sex            418 non-null object\n",
      "Age            332 non-null float64\n",
      "SibSp          418 non-null int64\n",
      "Parch          418 non-null int64\n",
      "Ticket         418 non-null object\n",
      "Fare           417 non-null float64\n",
      "Cabin          91 non-null object\n",
      "Embarked       418 non-null object\n",
      "dtypes: float64(2), int64(4), object(5)\n",
      "memory usage: 39.2+ KB\n",
      "None\n"
     ]
    }
   ],
   "source": [
    "print(titanic_test.info())"
   ]
  },
  {
   "cell_type": "code",
   "execution_count": 55,
   "metadata": {
    "collapsed": true
   },
   "outputs": [],
   "source": [
    "titanic_test['Age'] = titanic_test['Age'].fillna(titanic['Age'].median())"
   ]
  },
  {
   "cell_type": "code",
   "execution_count": 56,
   "metadata": {
    "collapsed": true
   },
   "outputs": [],
   "source": [
    "titanic_test['Fare'] = titanic_test['Fare'].fillna(titanic['Fare'].median())"
   ]
  },
  {
   "cell_type": "code",
   "execution_count": 57,
   "metadata": {
    "collapsed": false
   },
   "outputs": [
    {
     "data": {
      "text/plain": [
       "array(['Q', 'S', 'C'], dtype=object)"
      ]
     },
     "execution_count": 57,
     "metadata": {},
     "output_type": "execute_result"
    }
   ],
   "source": [
    "titanic_test['Embarked'].unique()"
   ]
  },
  {
   "cell_type": "code",
   "execution_count": 58,
   "metadata": {
    "collapsed": false
   },
   "outputs": [
    {
     "name": "stdout",
     "output_type": "stream",
     "text": [
      "{'Q': 2, 'C': 1, 'S': 0}\n"
     ]
    }
   ],
   "source": [
    "titanic_test.loc[titanic_test['Sex']=='male', 'Sex'] = 0\n",
    "titanic_test.loc[titanic_test['Sex']=='female', 'Sex'] = 1\n",
    "\n",
    "print (embarkedDict)\n",
    "for key in embarkedDict:\n",
    "    titanic_test.loc[titanic_test['Embarked'] == key, 'Embarked'] = embarkedDict[key]"
   ]
  },
  {
   "cell_type": "code",
   "execution_count": 59,
   "metadata": {
    "collapsed": false
   },
   "outputs": [
    {
     "name": "stdout",
     "output_type": "stream",
     "text": [
      "     Pclass Sex   Age  SibSp  Parch      Fare Embarked\n",
      "0         3   0  34.5      0      0    7.8292        2\n",
      "1         3   1  47.0      1      0    7.0000        0\n",
      "2         2   0  62.0      0      0    9.6875        2\n",
      "3         3   0  27.0      0      0    8.6625        0\n",
      "4         3   1  22.0      1      1   12.2875        0\n",
      "5         3   0  14.0      0      0    9.2250        0\n",
      "6         3   1  30.0      0      0    7.6292        2\n",
      "7         2   0  26.0      1      1   29.0000        0\n",
      "8         3   1  18.0      0      0    7.2292        1\n",
      "9         3   0  21.0      2      0   24.1500        0\n",
      "10        3   0  28.0      0      0    7.8958        0\n",
      "11        1   0  46.0      0      0   26.0000        0\n",
      "12        1   1  23.0      1      0   82.2667        0\n",
      "13        2   0  63.0      1      0   26.0000        0\n",
      "14        1   1  47.0      1      0   61.1750        0\n",
      "15        2   1  24.0      1      0   27.7208        1\n",
      "16        2   0  35.0      0      0   12.3500        2\n",
      "17        3   0  21.0      0      0    7.2250        1\n",
      "18        3   1  27.0      1      0    7.9250        0\n",
      "19        3   1  45.0      0      0    7.2250        1\n",
      "20        1   0  55.0      1      0   59.4000        1\n",
      "21        3   0   9.0      0      1    3.1708        0\n",
      "22        1   1  28.0      0      0   31.6833        0\n",
      "23        1   0  21.0      0      1   61.3792        1\n",
      "24        1   1  48.0      1      3  262.3750        1\n",
      "25        3   0  50.0      1      0   14.5000        0\n",
      "26        1   1  22.0      0      1   61.9792        1\n",
      "27        3   0  22.5      0      0    7.2250        1\n",
      "28        1   0  41.0      0      0   30.5000        0\n",
      "29        3   0  28.0      2      0   21.6792        1\n",
      "..      ...  ..   ...    ...    ...       ...      ...\n",
      "388       3   0  21.0      0      0    7.7500        2\n",
      "389       3   0   6.0      3      1   21.0750        0\n",
      "390       1   0  23.0      0      0   93.5000        0\n",
      "391       1   1  51.0      0      1   39.4000        0\n",
      "392       3   0  13.0      0      2   20.2500        0\n",
      "393       2   0  47.0      0      0   10.5000        0\n",
      "394       3   0  29.0      3      1   22.0250        0\n",
      "395       1   1  18.0      1      0   60.0000        0\n",
      "396       3   0  24.0      0      0    7.2500        2\n",
      "397       1   1  48.0      1      1   79.2000        1\n",
      "398       3   0  22.0      0      0    7.7750        0\n",
      "399       3   0  31.0      0      0    7.7333        2\n",
      "400       1   1  30.0      0      0  164.8667        0\n",
      "401       2   0  38.0      1      0   21.0000        0\n",
      "402       1   1  22.0      0      1   59.4000        1\n",
      "403       1   0  17.0      0      0   47.1000        0\n",
      "404       1   0  43.0      1      0   27.7208        1\n",
      "405       2   0  20.0      0      0   13.8625        1\n",
      "406       2   0  23.0      1      0   10.5000        0\n",
      "407       1   0  50.0      1      1  211.5000        1\n",
      "408       3   1  28.0      0      0    7.7208        2\n",
      "409       3   1   3.0      1      1   13.7750        0\n",
      "410       3   1  28.0      0      0    7.7500        2\n",
      "411       1   1  37.0      1      0   90.0000        2\n",
      "412       3   1  28.0      0      0    7.7750        0\n",
      "413       3   0  28.0      0      0    8.0500        0\n",
      "414       1   1  39.0      0      0  108.9000        1\n",
      "415       3   0  38.5      0      0    7.2500        0\n",
      "416       3   0  28.0      0      0    8.0500        0\n",
      "417       3   0  28.0      1      1   22.3583        1\n",
      "\n",
      "[418 rows x 7 columns]\n"
     ]
    }
   ],
   "source": [
    "print (titanic_test[predictors])"
   ]
  },
  {
   "cell_type": "markdown",
   "metadata": {},
   "source": [
    "# Generating a Submission File"
   ]
  },
  {
   "cell_type": "code",
   "execution_count": 60,
   "metadata": {
    "collapsed": true
   },
   "outputs": [],
   "source": [
    "# Train the algorithm using all the training data\n",
    "alg.fit(titanic[predictors], titanic[\"Survived\"])\n",
    "\n",
    "# Make predictions using the test set.\n",
    "predictions = alg.predict(titanic_test[predictors])\n",
    "\n",
    "# Create a new dataframe with only the columns Kaggle wants from the dataset.\n",
    "submission = pandas.DataFrame({\n",
    "        \"PassengerId\": titanic_test[\"PassengerId\"],\n",
    "        \"Survived\": predictions\n",
    "    })"
   ]
  },
  {
   "cell_type": "code",
   "execution_count": 62,
   "metadata": {
    "collapsed": false
   },
   "outputs": [
    {
     "name": "stdout",
     "output_type": "stream",
     "text": [
      "     PassengerId  Survived\n",
      "0            892         0\n",
      "1            893         0\n",
      "2            894         0\n",
      "3            895         0\n",
      "4            896         1\n",
      "5            897         0\n",
      "6            898         1\n",
      "7            899         0\n",
      "8            900         1\n",
      "9            901         0\n",
      "10           902         0\n",
      "11           903         0\n",
      "12           904         1\n",
      "13           905         0\n",
      "14           906         1\n",
      "15           907         1\n",
      "16           908         0\n",
      "17           909         0\n",
      "18           910         1\n",
      "19           911         1\n",
      "20           912         0\n",
      "21           913         0\n",
      "22           914         1\n",
      "23           915         1\n",
      "24           916         1\n",
      "25           917         0\n",
      "26           918         1\n",
      "27           919         0\n",
      "28           920         0\n",
      "29           921         0\n",
      "..           ...       ...\n",
      "388         1280         0\n",
      "389         1281         0\n",
      "390         1282         1\n",
      "391         1283         1\n",
      "392         1284         0\n",
      "393         1285         0\n",
      "394         1286         0\n",
      "395         1287         1\n",
      "396         1288         0\n",
      "397         1289         1\n",
      "398         1290         0\n",
      "399         1291         0\n",
      "400         1292         1\n",
      "401         1293         0\n",
      "402         1294         1\n",
      "403         1295         1\n",
      "404         1296         0\n",
      "405         1297         0\n",
      "406         1298         0\n",
      "407         1299         0\n",
      "408         1300         1\n",
      "409         1301         1\n",
      "410         1302         1\n",
      "411         1303         1\n",
      "412         1304         1\n",
      "413         1305         0\n",
      "414         1306         1\n",
      "415         1307         0\n",
      "416         1308         0\n",
      "417         1309         0\n",
      "\n",
      "[418 rows x 2 columns]\n"
     ]
    }
   ],
   "source": [
    "print (submission)"
   ]
  }
 ],
 "metadata": {
  "kernelspec": {
   "display_name": "Python 3",
   "language": "python",
   "name": "python3"
  },
  "language_info": {
   "codemirror_mode": {
    "name": "ipython",
    "version": 3
   },
   "file_extension": ".py",
   "mimetype": "text/x-python",
   "name": "python",
   "nbconvert_exporter": "python",
   "pygments_lexer": "ipython3",
   "version": "3.3.5"
  }
 },
 "nbformat": 4,
 "nbformat_minor": 0
}
