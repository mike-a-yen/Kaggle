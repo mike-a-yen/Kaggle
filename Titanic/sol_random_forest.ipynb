{
 "cells": [
  {
   "cell_type": "code",
   "execution_count": 23,
   "metadata": {
    "collapsed": true
   },
   "outputs": [],
   "source": [
    "import numpy as np\n",
    "import pandas as pd\n",
    "from sklearn.ensemble import RandomForestClassifier\n",
    "from sklearn.cross_validation import train_test_split\n",
    "from sklearn.cross_validation import KFold\n",
    "import matplotlib.pyplot as plt\n",
    "plt.style.use('bmh')\n",
    "%matplotlib inline"
   ]
  },
  {
   "cell_type": "code",
   "execution_count": 30,
   "metadata": {
    "collapsed": true
   },
   "outputs": [],
   "source": [
    "train_raw = pd.read_csv('data_sets/train.csv')"
   ]
  },
  {
   "cell_type": "code",
   "execution_count": 31,
   "metadata": {
    "collapsed": true
   },
   "outputs": [],
   "source": [
    "def fill_nan(column):\n",
    "    avg = column.mean()\n",
    "    return column.fillna(avg)\n",
    "def preprocess(data):\n",
    "    gender_map = {'male':1,'female':0}\n",
    "    embarked_map = {'C':0,'Q':1,'S':2}\n",
    "    data['Sex'] = data['Sex'].map(gender_map)\n",
    "    data['Embarked'] = data['Embarked'].map(embarked_map)\n",
    "    data = data.apply(lambda x: x.fillna(x.mean()),axis=1)\n",
    "    return data"
   ]
  },
  {
   "cell_type": "code",
   "execution_count": 32,
   "metadata": {
    "collapsed": false
   },
   "outputs": [
    {
     "name": "stdout",
     "output_type": "stream",
     "text": [
      "(891, 7)\n",
      "(891,)\n"
     ]
    }
   ],
   "source": [
    "ignore = ['Name','Ticket','Cabin','PassengerId']\n",
    "train = train_raw.drop(ignore,axis=1)\n",
    "train_x = preprocess(train)\n",
    "train_x = train_x.drop(['Survived'],axis=1)\n",
    "train_y = train['Survived'].values\n",
    "print train_x.shape\n",
    "print train_y.shape"
   ]
  },
  {
   "cell_type": "code",
   "execution_count": 33,
   "metadata": {
    "collapsed": false
   },
   "outputs": [
    {
     "name": "stdout",
     "output_type": "stream",
     "text": [
      "Index([u'Pclass', u'Sex', u'Age', u'SibSp', u'Parch', u'Fare', u'Embarked'], dtype='object')\n",
      "     Pclass  Sex        Age  SibSp  Parch      Fare  Embarked\n",
      "0         3    1  22.000000      1      0    7.2500         2\n",
      "1         1    0  38.000000      1      0   71.2833         0\n",
      "2         3    0  26.000000      0      0    7.9250         2\n",
      "3         1    0  35.000000      1      0   53.1000         2\n",
      "4         3    1  35.000000      0      0    8.0500         2\n",
      "5         3    1   1.922614      0      0    8.4583         1\n",
      "6         1    1  54.000000      0      0   51.8625         2\n",
      "7         3    1   2.000000      3      1   21.0750         2\n",
      "8         3    0  27.000000      0      2   11.1333         2\n",
      "9         2    0  14.000000      1      0   30.0708         0\n",
      "10        3    0   4.000000      1      1   16.7000         2\n",
      "11        1    0  58.000000      0      0   26.5500         2\n",
      "12        3    1  20.000000      0      0    8.0500         2\n",
      "13        3    1  39.000000      1      5   31.2750         2\n",
      "14        3    0  14.000000      0      0    7.8542         2\n",
      "15        2    0  55.000000      0      0   16.0000         2\n",
      "16        3    1   2.000000      4      1   29.1250         1\n",
      "17        2    1   2.714286      0      0   13.0000         2\n",
      "18        3    0  31.000000      1      0   18.0000         2\n",
      "19        3    0   1.603571      0      0    7.2250         0\n",
      "20        2    1  35.000000      0      0   26.0000         2\n",
      "21        2    1  34.000000      0      0   13.0000         2\n",
      "22        3    0  15.000000      0      0    8.0292         1\n",
      "23        1    1  28.000000      0      0   35.5000         2\n",
      "24        3    0   8.000000      3      1   21.0750         2\n",
      "25        3    0  38.000000      1      5   31.3875         2\n",
      "26        3    1   1.603571      0      0    7.2250         0\n",
      "27        1    1  19.000000      3      2  263.0000         2\n",
      "28        3    0   1.839886      0      0    7.8792         1\n",
      "29        3    1   1.985114      0      0    7.8958         2\n",
      "..      ...  ...        ...    ...    ...       ...       ...\n",
      "861       2    1  21.000000      1      0   11.5000         2\n",
      "862       1    0  48.000000      0      0   25.9292         2\n",
      "863       3    0  12.078571      8      2   69.5500         2\n",
      "864       2    1  24.000000      0      0   13.0000         2\n",
      "865       2    0  42.000000      0      0   13.0000         2\n",
      "866       2    0  27.000000      1      0   13.8583         0\n",
      "867       1    1  31.000000      0      0   50.4958         2\n",
      "868       3    1   2.214286      0      0    9.5000         2\n",
      "869       3    1   4.000000      1      1   11.1333         2\n",
      "870       3    1  26.000000      0      0    7.8958         2\n",
      "871       1    0  47.000000      1      1   52.5542         2\n",
      "872       1    1  33.000000      0      0    5.0000         2\n",
      "873       3    1  47.000000      0      0    9.0000         2\n",
      "874       2    0  28.000000      1      0   24.0000         0\n",
      "875       3    0  15.000000      0      0    7.2250         0\n",
      "876       3    1  20.000000      0      0    9.8458         2\n",
      "877       3    1  19.000000      0      0    7.8958         2\n",
      "878       3    1   1.985114      0      0    7.8958         2\n",
      "879       1    0  56.000000      0      1   83.1583         0\n",
      "880       2    0  25.000000      0      1   26.0000         2\n",
      "881       3    1  33.000000      0      0    7.8958         2\n",
      "882       3    0  22.000000      0      0   10.5167         2\n",
      "883       2    1  28.000000      0      0   10.5000         2\n",
      "884       3    1  25.000000      0      0    7.0500         2\n",
      "885       3    0  39.000000      0      5   29.1250         1\n",
      "886       2    1  27.000000      0      0   13.0000         2\n",
      "887       1    0  19.000000      0      0   30.0000         2\n",
      "888       3    0   4.492857      1      2   23.4500         2\n",
      "889       1    1  26.000000      0      0   30.0000         0\n",
      "890       3    1  32.000000      0      0    7.7500         1\n",
      "\n",
      "[891 rows x 7 columns]\n"
     ]
    }
   ],
   "source": [
    "print train_x.columns\n",
    "print train_x"
   ]
  },
  {
   "cell_type": "code",
   "execution_count": 36,
   "metadata": {
    "collapsed": true
   },
   "outputs": [],
   "source": [
    "clf = RandomForestClassifier(n_estimators=100)"
   ]
  },
  {
   "cell_type": "code",
   "execution_count": 37,
   "metadata": {
    "collapsed": false
   },
   "outputs": [
    {
     "data": {
      "text/plain": [
       "RandomForestClassifier(bootstrap=True, class_weight=None, criterion='gini',\n",
       "            max_depth=None, max_features='auto', max_leaf_nodes=None,\n",
       "            min_samples_leaf=1, min_samples_split=2,\n",
       "            min_weight_fraction_leaf=0.0, n_estimators=100, n_jobs=1,\n",
       "            oob_score=False, random_state=None, verbose=0,\n",
       "            warm_start=False)"
      ]
     },
     "execution_count": 37,
     "metadata": {},
     "output_type": "execute_result"
    }
   ],
   "source": [
    "clf.fit(train_x,train_y)"
   ]
  },
  {
   "cell_type": "markdown",
   "metadata": {},
   "source": [
    "# Naive guess on test data without and cross validation"
   ]
  },
  {
   "cell_type": "code",
   "execution_count": 39,
   "metadata": {
    "collapsed": false
   },
   "outputs": [],
   "source": [
    "test_raw = pd.read_csv('data_sets/test.csv')\n",
    "test = test_raw.drop(ignore,axis=1)\n",
    "test_x = preprocess(test)"
   ]
  },
  {
   "cell_type": "code",
   "execution_count": 41,
   "metadata": {
    "collapsed": false
   },
   "outputs": [
    {
     "name": "stdout",
     "output_type": "stream",
     "text": [
      "[0 0 0 1 1 0 0 0 1 0 0 0 1 0 1 1 0 1 0 0 1 0 1 1 1 0 1 1 0 0 0 0 0 0 1 1 0\n",
      " 0 0 1 0 1 0 1 1 0 0 1 1 1 0 0 1 1 0 0 0 0 0 1 0 0 0 1 1 1 1 0 0 1 1 0 0 0\n",
      " 1 0 0 1 0 1 1 0 0 0 0 0 1 0 1 1 0 0 1 0 0 0 1 0 0 0 1 0 1 0 1 0 0 1 0 0 0\n",
      " 1 1 1 1 0 0 1 1 1 1 0 1 0 1 1 0 1 0 0 1 0 0 0 0 0 0 0 0 0 0 1 0 0 1 0 0 0\n",
      " 1 0 1 0 0 1 0 0 1 1 1 1 1 1 1 0 0 0 0 0 1 0 0 0 0 1 0 1 1 1 1 1 0 1 1 1 1\n",
      " 0 1 0 0 0 0 0 1 0 1 0 1 0 0 0 1 1 0 1 0 0 0 0 1 0 0 0 0 0 1 0 1 0 1 0 1 0\n",
      " 1 1 1 0 0 1 0 0 0 1 0 0 1 0 1 1 1 1 1 1 0 0 0 0 1 0 1 0 1 0 0 0 0 0 1 0 1\n",
      " 0 0 0 1 1 0 0 0 0 0 0 0 1 1 1 0 1 0 0 0 0 0 1 1 0 1 0 0 0 1 0 0 0 1 0 0 0\n",
      " 1 0 0 0 0 0 0 0 1 1 1 1 0 0 0 1 0 0 1 1 0 0 0 0 0 0 0 1 1 0 1 0 0 0 1 1 0\n",
      " 0 0 0 1 0 0 1 0 0 0 1 1 1 0 0 0 1 1 0 0 0 1 0 1 0 1 0 0 1 1 1 1 0 0 0 1 0\n",
      " 0 1 0 0 1 1 0 0 0 0 1 0 1 0 1 1 0 0 0 0 0 1 1 0 0 1 0 1 0 0 1 0 1 0 0 0 0\n",
      " 0 1 1 1 1 0 0 1 0 0 1]\n"
     ]
    }
   ],
   "source": [
    "predictions = clf.predict(test_x)\n",
    "print predictions"
   ]
  },
  {
   "cell_type": "code",
   "execution_count": 43,
   "metadata": {
    "collapsed": false
   },
   "outputs": [],
   "source": [
    "np.savetxt('titanic_RF_naive.csv',\n",
    "           np.c_[test_raw['PassengerId'],predictions],\n",
    "           delimiter=',',\n",
    "           header='PassengerId,Survived',\n",
    "           fmt='%d',\n",
    "           comments='')"
   ]
  },
  {
   "cell_type": "code",
   "execution_count": null,
   "metadata": {
    "collapsed": true
   },
   "outputs": [],
   "source": []
  }
 ],
 "metadata": {
  "kernelspec": {
   "display_name": "Python 2",
   "language": "python",
   "name": "python2"
  },
  "language_info": {
   "codemirror_mode": {
    "name": "ipython",
    "version": 2
   },
   "file_extension": ".py",
   "mimetype": "text/x-python",
   "name": "python",
   "nbconvert_exporter": "python",
   "pygments_lexer": "ipython2",
   "version": "2.7.10"
  }
 },
 "nbformat": 4,
 "nbformat_minor": 0
}
