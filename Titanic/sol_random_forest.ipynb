{
 "cells": [
  {
   "cell_type": "code",
   "execution_count": 26,
   "metadata": {
    "collapsed": true
   },
   "outputs": [],
   "source": [
    "# general stuff\n",
    "import numpy as np\n",
    "import pandas as pd\n",
    "import re\n",
    "from datetime import datetime\n",
    "# learning tools\n",
    "from sklearn.ensemble import RandomForestClassifier\n",
    "from sklearn.cross_validation import train_test_split\n",
    "from sklearn.cross_validation import KFold\n",
    "# preprocessing tools\n",
    "import sklearn.preprocessing as preprocessing\n",
    "from sklearn.preprocessing import Imputer\n",
    "#plotting tools\n",
    "import matplotlib.pyplot as plt\n",
    "plt.style.use('bmh')\n",
    "%matplotlib inline"
   ]
  },
  {
   "cell_type": "code",
   "execution_count": 2,
   "metadata": {
    "collapsed": true
   },
   "outputs": [],
   "source": [
    "train_raw = pd.read_csv('data_sets/train.csv')"
   ]
  },
  {
   "cell_type": "code",
   "execution_count": 3,
   "metadata": {
    "collapsed": false
   },
   "outputs": [],
   "source": [
    "foo = train_raw.copy()\n",
    "foo['Age'] = foo['Age'].fillna(foo['Age'].mean())"
   ]
  },
  {
   "cell_type": "code",
   "execution_count": 11,
   "metadata": {
    "collapsed": false
   },
   "outputs": [],
   "source": [
    "def preprocess_categorical(data,column):\n",
    "    processed = data.copy()\n",
    "    for status in data[column].unique():\n",
    "        processed[column+'_'+str(status)] = (data[column]==status).astype(int)\n",
    "    processed = processed.drop(column,axis=1)\n",
    "    return processed\n",
    "def deck_letter(x):\n",
    "    if type(x) == str:\n",
    "        return x[0]\n",
    "    else:\n",
    "        return np.nan\n",
    "def preprocess_sex(data):\n",
    "    data['gender'] = data['Sex'].apply(lambda x: int(x=='male'))\n",
    "    return data\n",
    "def preprocess_cabin(data):\n",
    "    data['Cabin'] = data['Cabin'].apply(deck_letter)\n",
    "    return data\n",
    "def preprocess_last_name(data):\n",
    "    re_string = '([A-Z]+[a-zA-Z].*),'\n",
    "    data['Last_Name'] = data['Name'].apply(lambda x: (re.findall(re_string,x)+[''])[0])\n",
    "    return data\n",
    "def preprocess_same_last_name(data):\n",
    "    data['Same_Last'] = data['Last_Name'].apply(lambda x: data['Last_Name'][data['Last_Name'] == x].count() - 1)\n",
    "    return data\n",
    "def preprocess_name(data):\n",
    "    re_string = '.*, ([A-Z]+[a-zA-Z]*)\\..*'\n",
    "    data['Title'] = data['Name'].apply(lambda x: (re.findall(re_string,x)+[np.nan])[0])\n",
    "    return data    \n",
    "def preprocess_ticket(data):\n",
    "    re_prefix = '(.*) .*'\n",
    "    data['ticket_prefix'] = data['Ticket'].apply(lambda x: (re.findall(re_prefix,x)+[np.nan])[0])\n",
    "    re_suffix = '[0-9]{2,}'\n",
    "    data['ticket_suffix'] = data['Ticket'].apply(lambda x: float((re.findall(re_suffix,x)+[np.nan])[0]))\n",
    "    return data\n",
    "def preprocess(data,scale=True):\n",
    "    data = preprocess_sex(data)\n",
    "    data = preprocess_cabin(data)\n",
    "    data = preprocess_name(data)\n",
    "    data = preprocess_last_name(data)\n",
    "    data = preprocess_same_last_name(data)\n",
    "    data = preprocess_ticket(data)\n",
    "    categorical = ['Embarked','Cabin','Title','ticket_prefix']\n",
    "    iters = 0\n",
    "    while iters < len(categorical):\n",
    "        data = preprocess_categorical(data,categorical[iters])\n",
    "        iters += 1\n",
    "    data = data.fillna(data.median())\n",
    "    ignore = ['Sex','PassengerId','Name','Last_Name','Ticket']\n",
    "    data = data.drop(ignore,axis=1)\n",
    "    return data\n",
    "\n",
    "def preprocess_test(test,train):\n",
    "    test = preprocess(test)\n",
    "    for c_train in train.columns:\n",
    "        if c_train not in test.columns:\n",
    "            test[c_train] = 0\n",
    "    for c_test in test.columns:\n",
    "        if c_test not in train.columns:\n",
    "            test = test.drop(c_test,axis=1)\n",
    "    return test"
   ]
  },
  {
   "cell_type": "code",
   "execution_count": 13,
   "metadata": {
    "collapsed": false
   },
   "outputs": [],
   "source": [
    "train = preprocess(train_raw)"
   ]
  },
  {
   "cell_type": "code",
   "execution_count": 14,
   "metadata": {
    "collapsed": false
   },
   "outputs": [
    {
     "data": {
      "text/html": [
       "<div>\n",
       "<table border=\"1\" class=\"dataframe\">\n",
       "  <thead>\n",
       "    <tr style=\"text-align: right;\">\n",
       "      <th></th>\n",
       "      <th>Pclass</th>\n",
       "      <th>Age</th>\n",
       "      <th>SibSp</th>\n",
       "      <th>Parch</th>\n",
       "      <th>Fare</th>\n",
       "      <th>gender</th>\n",
       "      <th>Same_Last</th>\n",
       "      <th>ticket_suffix</th>\n",
       "      <th>Embarked_S</th>\n",
       "      <th>Embarked_C</th>\n",
       "      <th>...</th>\n",
       "      <th>ticket_prefix_A/S</th>\n",
       "      <th>ticket_prefix_SC/AH Basle</th>\n",
       "      <th>ticket_prefix_A/4</th>\n",
       "      <th>ticket_prefix_WE/P</th>\n",
       "      <th>ticket_prefix_S.W./PP</th>\n",
       "      <th>ticket_prefix_S.O./P.P.</th>\n",
       "      <th>ticket_prefix_F.C.</th>\n",
       "      <th>ticket_prefix_SOTON/O2</th>\n",
       "      <th>ticket_prefix_S.C./PARIS</th>\n",
       "      <th>ticket_prefix_C.A./SOTON</th>\n",
       "    </tr>\n",
       "  </thead>\n",
       "  <tbody>\n",
       "    <tr>\n",
       "      <th>count</th>\n",
       "      <td>891.000000</td>\n",
       "      <td>891.000000</td>\n",
       "      <td>891.000000</td>\n",
       "      <td>891.000000</td>\n",
       "      <td>891.000000</td>\n",
       "      <td>891.000000</td>\n",
       "      <td>891.000000</td>\n",
       "      <td>891.000000</td>\n",
       "      <td>891.000000</td>\n",
       "      <td>891.000000</td>\n",
       "      <td>...</td>\n",
       "      <td>891.000000</td>\n",
       "      <td>891.000000</td>\n",
       "      <td>891.000000</td>\n",
       "      <td>891.000000</td>\n",
       "      <td>891.000000</td>\n",
       "      <td>891.000000</td>\n",
       "      <td>891.000000</td>\n",
       "      <td>891.000000</td>\n",
       "      <td>891.000000</td>\n",
       "      <td>891.000000</td>\n",
       "    </tr>\n",
       "    <tr>\n",
       "      <th>mean</th>\n",
       "      <td>2.308642</td>\n",
       "      <td>29.361582</td>\n",
       "      <td>0.523008</td>\n",
       "      <td>0.381594</td>\n",
       "      <td>32.204208</td>\n",
       "      <td>0.647587</td>\n",
       "      <td>0.882155</td>\n",
       "      <td>297745.874299</td>\n",
       "      <td>0.722783</td>\n",
       "      <td>0.188552</td>\n",
       "      <td>...</td>\n",
       "      <td>0.001122</td>\n",
       "      <td>0.001122</td>\n",
       "      <td>0.003367</td>\n",
       "      <td>0.002245</td>\n",
       "      <td>0.001122</td>\n",
       "      <td>0.003367</td>\n",
       "      <td>0.001122</td>\n",
       "      <td>0.002245</td>\n",
       "      <td>0.002245</td>\n",
       "      <td>0.001122</td>\n",
       "    </tr>\n",
       "    <tr>\n",
       "      <th>std</th>\n",
       "      <td>0.836071</td>\n",
       "      <td>13.019697</td>\n",
       "      <td>1.102743</td>\n",
       "      <td>0.806057</td>\n",
       "      <td>49.693429</td>\n",
       "      <td>0.477990</td>\n",
       "      <td>1.488014</td>\n",
       "      <td>656159.899304</td>\n",
       "      <td>0.447876</td>\n",
       "      <td>0.391372</td>\n",
       "      <td>...</td>\n",
       "      <td>0.033501</td>\n",
       "      <td>0.033501</td>\n",
       "      <td>0.057961</td>\n",
       "      <td>0.047351</td>\n",
       "      <td>0.033501</td>\n",
       "      <td>0.057961</td>\n",
       "      <td>0.033501</td>\n",
       "      <td>0.047351</td>\n",
       "      <td>0.047351</td>\n",
       "      <td>0.033501</td>\n",
       "    </tr>\n",
       "    <tr>\n",
       "      <th>min</th>\n",
       "      <td>1.000000</td>\n",
       "      <td>0.420000</td>\n",
       "      <td>0.000000</td>\n",
       "      <td>0.000000</td>\n",
       "      <td>0.000000</td>\n",
       "      <td>0.000000</td>\n",
       "      <td>0.000000</td>\n",
       "      <td>541.000000</td>\n",
       "      <td>0.000000</td>\n",
       "      <td>0.000000</td>\n",
       "      <td>...</td>\n",
       "      <td>0.000000</td>\n",
       "      <td>0.000000</td>\n",
       "      <td>0.000000</td>\n",
       "      <td>0.000000</td>\n",
       "      <td>0.000000</td>\n",
       "      <td>0.000000</td>\n",
       "      <td>0.000000</td>\n",
       "      <td>0.000000</td>\n",
       "      <td>0.000000</td>\n",
       "      <td>0.000000</td>\n",
       "    </tr>\n",
       "    <tr>\n",
       "      <th>25%</th>\n",
       "      <td>2.000000</td>\n",
       "      <td>22.000000</td>\n",
       "      <td>0.000000</td>\n",
       "      <td>0.000000</td>\n",
       "      <td>7.910400</td>\n",
       "      <td>0.000000</td>\n",
       "      <td>0.000000</td>\n",
       "      <td>14882.000000</td>\n",
       "      <td>0.000000</td>\n",
       "      <td>0.000000</td>\n",
       "      <td>...</td>\n",
       "      <td>0.000000</td>\n",
       "      <td>0.000000</td>\n",
       "      <td>0.000000</td>\n",
       "      <td>0.000000</td>\n",
       "      <td>0.000000</td>\n",
       "      <td>0.000000</td>\n",
       "      <td>0.000000</td>\n",
       "      <td>0.000000</td>\n",
       "      <td>0.000000</td>\n",
       "      <td>0.000000</td>\n",
       "    </tr>\n",
       "    <tr>\n",
       "      <th>50%</th>\n",
       "      <td>3.000000</td>\n",
       "      <td>28.000000</td>\n",
       "      <td>0.000000</td>\n",
       "      <td>0.000000</td>\n",
       "      <td>14.454200</td>\n",
       "      <td>1.000000</td>\n",
       "      <td>0.000000</td>\n",
       "      <td>112379.000000</td>\n",
       "      <td>1.000000</td>\n",
       "      <td>0.000000</td>\n",
       "      <td>...</td>\n",
       "      <td>0.000000</td>\n",
       "      <td>0.000000</td>\n",
       "      <td>0.000000</td>\n",
       "      <td>0.000000</td>\n",
       "      <td>0.000000</td>\n",
       "      <td>0.000000</td>\n",
       "      <td>0.000000</td>\n",
       "      <td>0.000000</td>\n",
       "      <td>0.000000</td>\n",
       "      <td>0.000000</td>\n",
       "    </tr>\n",
       "    <tr>\n",
       "      <th>75%</th>\n",
       "      <td>3.000000</td>\n",
       "      <td>35.000000</td>\n",
       "      <td>1.000000</td>\n",
       "      <td>0.000000</td>\n",
       "      <td>31.000000</td>\n",
       "      <td>1.000000</td>\n",
       "      <td>1.000000</td>\n",
       "      <td>347082.000000</td>\n",
       "      <td>1.000000</td>\n",
       "      <td>0.000000</td>\n",
       "      <td>...</td>\n",
       "      <td>0.000000</td>\n",
       "      <td>0.000000</td>\n",
       "      <td>0.000000</td>\n",
       "      <td>0.000000</td>\n",
       "      <td>0.000000</td>\n",
       "      <td>0.000000</td>\n",
       "      <td>0.000000</td>\n",
       "      <td>0.000000</td>\n",
       "      <td>0.000000</td>\n",
       "      <td>0.000000</td>\n",
       "    </tr>\n",
       "    <tr>\n",
       "      <th>max</th>\n",
       "      <td>3.000000</td>\n",
       "      <td>80.000000</td>\n",
       "      <td>8.000000</td>\n",
       "      <td>6.000000</td>\n",
       "      <td>512.329200</td>\n",
       "      <td>1.000000</td>\n",
       "      <td>8.000000</td>\n",
       "      <td>3101317.000000</td>\n",
       "      <td>1.000000</td>\n",
       "      <td>1.000000</td>\n",
       "      <td>...</td>\n",
       "      <td>1.000000</td>\n",
       "      <td>1.000000</td>\n",
       "      <td>1.000000</td>\n",
       "      <td>1.000000</td>\n",
       "      <td>1.000000</td>\n",
       "      <td>1.000000</td>\n",
       "      <td>1.000000</td>\n",
       "      <td>1.000000</td>\n",
       "      <td>1.000000</td>\n",
       "      <td>1.000000</td>\n",
       "    </tr>\n",
       "  </tbody>\n",
       "</table>\n",
       "<p>8 rows × 82 columns</p>\n",
       "</div>"
      ],
      "text/plain": [
       "           Pclass         Age       SibSp       Parch        Fare      gender  \\\n",
       "count  891.000000  891.000000  891.000000  891.000000  891.000000  891.000000   \n",
       "mean     2.308642   29.361582    0.523008    0.381594   32.204208    0.647587   \n",
       "std      0.836071   13.019697    1.102743    0.806057   49.693429    0.477990   \n",
       "min      1.000000    0.420000    0.000000    0.000000    0.000000    0.000000   \n",
       "25%      2.000000   22.000000    0.000000    0.000000    7.910400    0.000000   \n",
       "50%      3.000000   28.000000    0.000000    0.000000   14.454200    1.000000   \n",
       "75%      3.000000   35.000000    1.000000    0.000000   31.000000    1.000000   \n",
       "max      3.000000   80.000000    8.000000    6.000000  512.329200    1.000000   \n",
       "\n",
       "        Same_Last   ticket_suffix  Embarked_S  Embarked_C  \\\n",
       "count  891.000000      891.000000  891.000000  891.000000   \n",
       "mean     0.882155   297745.874299    0.722783    0.188552   \n",
       "std      1.488014   656159.899304    0.447876    0.391372   \n",
       "min      0.000000      541.000000    0.000000    0.000000   \n",
       "25%      0.000000    14882.000000    0.000000    0.000000   \n",
       "50%      0.000000   112379.000000    1.000000    0.000000   \n",
       "75%      1.000000   347082.000000    1.000000    0.000000   \n",
       "max      8.000000  3101317.000000    1.000000    1.000000   \n",
       "\n",
       "                 ...             ticket_prefix_A/S  ticket_prefix_SC/AH Basle  \\\n",
       "count            ...                    891.000000                 891.000000   \n",
       "mean             ...                      0.001122                   0.001122   \n",
       "std              ...                      0.033501                   0.033501   \n",
       "min              ...                      0.000000                   0.000000   \n",
       "25%              ...                      0.000000                   0.000000   \n",
       "50%              ...                      0.000000                   0.000000   \n",
       "75%              ...                      0.000000                   0.000000   \n",
       "max              ...                      1.000000                   1.000000   \n",
       "\n",
       "       ticket_prefix_A/4  ticket_prefix_WE/P  ticket_prefix_S.W./PP  \\\n",
       "count         891.000000          891.000000             891.000000   \n",
       "mean            0.003367            0.002245               0.001122   \n",
       "std             0.057961            0.047351               0.033501   \n",
       "min             0.000000            0.000000               0.000000   \n",
       "25%             0.000000            0.000000               0.000000   \n",
       "50%             0.000000            0.000000               0.000000   \n",
       "75%             0.000000            0.000000               0.000000   \n",
       "max             1.000000            1.000000               1.000000   \n",
       "\n",
       "       ticket_prefix_S.O./P.P.  ticket_prefix_F.C.  ticket_prefix_SOTON/O2  \\\n",
       "count               891.000000          891.000000              891.000000   \n",
       "mean                  0.003367            0.001122                0.002245   \n",
       "std                   0.057961            0.033501                0.047351   \n",
       "min                   0.000000            0.000000                0.000000   \n",
       "25%                   0.000000            0.000000                0.000000   \n",
       "50%                   0.000000            0.000000                0.000000   \n",
       "75%                   0.000000            0.000000                0.000000   \n",
       "max                   1.000000            1.000000                1.000000   \n",
       "\n",
       "       ticket_prefix_S.C./PARIS  ticket_prefix_C.A./SOTON  \n",
       "count                891.000000                891.000000  \n",
       "mean                   0.002245                  0.001122  \n",
       "std                    0.047351                  0.033501  \n",
       "min                    0.000000                  0.000000  \n",
       "25%                    0.000000                  0.000000  \n",
       "50%                    0.000000                  0.000000  \n",
       "75%                    0.000000                  0.000000  \n",
       "max                    1.000000                  1.000000  \n",
       "\n",
       "[8 rows x 82 columns]"
      ]
     },
     "execution_count": 14,
     "metadata": {},
     "output_type": "execute_result"
    }
   ],
   "source": [
    "train_x = train.drop(['Survived'],axis=1)\n",
    "train_y = train['Survived'].values\n",
    "train_x.describe()"
   ]
  },
  {
   "cell_type": "code",
   "execution_count": 15,
   "metadata": {
    "collapsed": true
   },
   "outputs": [],
   "source": [
    "clf = RandomForestClassifier(n_estimators=100,max_depth=len(train_x.columns))"
   ]
  },
  {
   "cell_type": "code",
   "execution_count": 16,
   "metadata": {
    "collapsed": false
   },
   "outputs": [
    {
     "data": {
      "text/plain": [
       "RandomForestClassifier(bootstrap=True, class_weight=None, criterion='gini',\n",
       "            max_depth=82, max_features='auto', max_leaf_nodes=None,\n",
       "            min_samples_leaf=1, min_samples_split=2,\n",
       "            min_weight_fraction_leaf=0.0, n_estimators=100, n_jobs=1,\n",
       "            oob_score=False, random_state=None, verbose=0,\n",
       "            warm_start=False)"
      ]
     },
     "execution_count": 16,
     "metadata": {},
     "output_type": "execute_result"
    }
   ],
   "source": [
    "clf.fit(train_x,train_y)"
   ]
  },
  {
   "cell_type": "markdown",
   "metadata": {},
   "source": [
    "# Naive guess on test data without and cross validation"
   ]
  },
  {
   "cell_type": "code",
   "execution_count": 17,
   "metadata": {
    "collapsed": false
   },
   "outputs": [],
   "source": [
    "test_raw = pd.read_csv('data_sets/test.csv')"
   ]
  },
  {
   "cell_type": "code",
   "execution_count": 18,
   "metadata": {
    "collapsed": false
   },
   "outputs": [
    {
     "name": "stdout",
     "output_type": "stream",
     "text": [
      "(418, 82)\n"
     ]
    }
   ],
   "source": [
    "test_x = preprocess_test(test_raw,train_x)\n",
    "print test_x.shape"
   ]
  },
  {
   "cell_type": "code",
   "execution_count": 24,
   "metadata": {
    "collapsed": false
   },
   "outputs": [
    {
     "name": "stdout",
     "output_type": "stream",
     "text": [
      "True\n"
     ]
    }
   ],
   "source": [
    "print sorted(test_x.columns) == sorted(train_x.columns)"
   ]
  },
  {
   "cell_type": "code",
   "execution_count": 25,
   "metadata": {
    "collapsed": false
   },
   "outputs": [
    {
     "name": "stdout",
     "output_type": "stream",
     "text": [
      "[0 0 0 0 1 0 0 0 1 0 0 1 1 0 1 1 0 0 0 0 0 1 1 0 1 0 1 0 1 1 0 0 1 1 0 0 0\n",
      " 0 0 1 0 1 0 1 1 0 1 0 1 1 1 0 1 1 0 0 0 0 0 1 1 0 0 0 1 1 0 0 0 1 0 0 0 1\n",
      " 1 0 0 1 0 0 0 1 0 0 0 0 0 0 1 1 1 0 1 0 0 0 1 0 0 0 1 0 0 0 1 0 0 0 0 0 0\n",
      " 0 1 0 1 0 0 1 0 1 0 0 1 0 0 0 0 0 0 0 0 0 1 0 0 0 0 0 0 1 1 1 0 0 1 0 1 0\n",
      " 0 0 1 0 0 0 0 1 1 0 0 1 0 1 1 0 0 1 0 1 1 0 1 0 0 0 0 1 1 1 1 1 0 1 1 0 1\n",
      " 0 1 0 0 0 0 0 1 0 1 0 1 0 0 1 0 1 1 1 0 0 0 0 1 0 0 0 1 1 0 0 0 1 1 0 0 0\n",
      " 1 0 1 1 0 0 0 0 1 1 0 0 0 0 0 0 0 1 1 1 0 0 1 1 1 1 1 1 1 0 1 0 0 0 0 0 0\n",
      " 0 0 0 1 1 0 0 0 0 0 0 0 0 1 0 0 1 0 0 0 0 0 1 0 0 1 0 0 1 0 1 1 0 0 1 0 0\n",
      " 1 1 0 1 0 0 0 0 0 1 1 1 1 0 0 0 1 0 1 0 0 0 0 0 0 0 0 1 1 0 1 0 0 0 1 1 0\n",
      " 1 0 0 0 0 1 0 0 0 1 1 1 0 0 0 0 1 1 0 1 0 1 0 1 1 0 1 1 1 1 0 1 1 0 0 1 0\n",
      " 0 1 0 0 1 1 0 0 1 1 0 0 1 1 1 1 0 0 0 1 1 1 1 0 0 1 0 1 0 0 1 0 1 0 0 0 0\n",
      " 0 0 0 0 1 0 0 1 0 0 0]\n"
     ]
    }
   ],
   "source": [
    "predictions = clf.predict(test_x)\n",
    "print predictions"
   ]
  },
  {
   "cell_type": "code",
   "execution_count": 28,
   "metadata": {
    "collapsed": false
   },
   "outputs": [],
   "source": [
    "time = datetime.now().isoformat()\n",
    "np.savetxt('submissions/RF_naive_%s.csv'%time,\n",
    "           np.c_[test_raw['PassengerId'],predictions],\n",
    "           delimiter=',',\n",
    "           header='PassengerId,Survived',\n",
    "           fmt='%d',\n",
    "           comments='')"
   ]
  },
  {
   "cell_type": "markdown",
   "metadata": {},
   "source": [
    "# Lets try a less Naive Guess"
   ]
  },
  {
   "cell_type": "code",
   "execution_count": 29,
   "metadata": {
    "collapsed": true
   },
   "outputs": [],
   "source": [
    "X_train, X_valid, Y_train, Y_valid = train_test_split(train_x, train_y, test_size=0.15, random_state=0)"
   ]
  },
  {
   "cell_type": "code",
   "execution_count": null,
   "metadata": {
    "collapsed": true
   },
   "outputs": [],
   "source": [
    "def cross_validation(train_x,train_y,p_range,k=50,parameter='n_estimators',silence=True,**kwargs):\n",
    "    X_train, X_valid, Y_train, Y_valid = train_test_split(train_x, train_y, test_size=0.15, random_state=0)\n",
    "    errors = []\n",
    "    for p in p_range:\n",
    "        kfold = KFold(len(X_train), n_folds=k,shuffle=True,random_state=0)\n",
    "        error = 0\n",
    "        params = dict({parameter:p},**kwargs)\n",
    "        for train_index, val_index in kfold:\n",
    "            x_train = X_train.iloc[train_index]\n",
    "            y_train = Y_train[train_index]\n",
    "            x_val = X_train.iloc[val_index]\n",
    "            y_val = Y_train[val_index]\n",
    "            clf = RandomForestClassifier(**params)\n",
    "            clf.fit(x_train,y_train)\n",
    "            predictions = clf.predict(x_val)\n",
    "            err = np.sum((predictions != y_val),dtype=float)/len(y_val)\n",
    "            error += err/k\n",
    "        if silence != True:\n",
    "            print p,':',error\n",
    "        errors.append(error)\n",
    "    best = p_range[np.argmin(errors)]\n",
    "    return best,errors"
   ]
  },
  {
   "cell_type": "code",
   "execution_count": null,
   "metadata": {
    "collapsed": false
   },
   "outputs": [],
   "source": [
    "def parameter_search(train_x,train_y,parameters,k=50,max_cycles=3,step=1.):\n",
    "    '''perform iterative search for best parameters\n",
    "       initialize parameters with a guess of where the best should be\n",
    "       like stochastic gradient decsent but for parameters\n",
    "    '''\n",
    "    iters = 0\n",
    "    params = np.array(parameters.keys())\n",
    "    values = np.array(parameters.values())\n",
    "    while iters < max_cycles:\n",
    "        print iters,':',dict(zip(params,values))\n",
    "        for i in np.random.choice(np.arange(0,len(params)),len(params),replace=False):\n",
    "            param,val = params[i],values[i]\n",
    "            p_dict = {k:v for k,v in zip(params,values) if k != param}\n",
    "            lower = np.logspace(0.5*np.log10(val),np.log10(val),3,dtype=int)\n",
    "            if lower[0] <= 0:\n",
    "                lower[0] = 1\n",
    "            upper = np.logspace(np.log10(val),2*np.log10(val),3,dtype=int)\n",
    "            param_range = np.unique(np.concatenate((lower,upper)))\n",
    "            print param,':',val\n",
    "            best_p,errors = cross_validation(train_x,train_y,param_range,parameter=param,**p_dict)\n",
    "            p_diff = best_p - val\n",
    "            values[i] = val + step*p_diff\n",
    "        iters += 1\n",
    "    return params,values"
   ]
  },
  {
   "cell_type": "code",
   "execution_count": null,
   "metadata": {
    "collapsed": false
   },
   "outputs": [
    {
     "name": "stdout",
     "output_type": "stream",
     "text": [
      "0 : {'n_estimators': 100, 'min_samples_split': 8, 'max_depth': 10}\n",
      "n_estimators : 100\n",
      "10 : 0.169166666667\n",
      "31 : 0.17425\n",
      "100 : 0.165166666667\n",
      "316 : 0.163916666667\n",
      "1000 : 0.16525\n",
      "max_depth : 10\n",
      "3 : 0.188833333333\n",
      "5 : 0.175583333333\n",
      "10 : 0.169083333333\n",
      "17 : 0.173083333333\n",
      "31 : 0.173083333333\n",
      "min_samples_split : 8\n",
      "2 : 0.165083333333\n",
      "4 : 0.170416666667\n",
      "7 : 0.16525\n",
      "13 : 0.165166666667\n",
      "22 : 0.177166666667\n",
      "1 : {'n_estimators': 316, 'min_samples_split': 2, 'max_depth': 10}\n",
      "min_samples_split : 2\n",
      "1 : 0.169083333333\n",
      "2 : 0.165166666667\n",
      "n_estimators : 316\n",
      "17 : 0.178166666667\n",
      "74 : 0.162583333333\n",
      "316 : 0.166333333333\n",
      "1332"
     ]
    }
   ],
   "source": [
    "p_dict = {'n_estimators':100,'max_depth':10,'min_samples_split':8}\n",
    "parameter_search(train_x,train_y,p_dict,k=10,max_cycles=3,step=1.)"
   ]
  },
  {
   "cell_type": "code",
   "execution_count": 31,
   "metadata": {
    "collapsed": false
   },
   "outputs": [
    {
     "name": "stdout",
     "output_type": "stream",
     "text": [
      "1 : 0.267416666667\n",
      "10 : 0.188\n",
      "100 : 0.170333333333\n",
      "1000 : 0.17975\n"
     ]
    }
   ],
   "source": [
    "estim_range = np.logspace(0,3,4,dtype=int)\n",
    "args = {'max_depth':len(train_x.columns)}\n",
    "best_estimator,estim_errors = cross_validation(train_x,train_y,estim_range,k=50,parameter='n_estimators',**args)"
   ]
  },
  {
   "cell_type": "code",
   "execution_count": 32,
   "metadata": {
    "collapsed": false
   },
   "outputs": [
    {
     "name": "stdout",
     "output_type": "stream",
     "text": [
      "1 : 0.306333333333\n",
      "2 : 0.209833333333\n",
      "3 : 0.19675\n",
      "4 : 0.180916666667\n",
      "5 : 0.179583333333\n",
      "6 : 0.174333333333\n",
      "7 : 0.159833333333\n",
      "8 : 0.165166666667\n",
      "9 : 0.169166666667\n",
      "10 : 0.163666666667\n",
      "11 : 0.162416666667\n",
      "12 : 0.169083333333\n",
      "13 : 0.17575\n",
      "14 : 0.178333333333\n",
      "15 : 0.177166666667\n",
      "16 : 0.174416666667\n",
      "17 : 0.1745\n",
      "18 : 0.17175\n",
      "19 : 0.169083333333\n",
      "20 : 0.169083333333\n",
      "21 : 0.175666666667\n",
      "22 : 0.177083333333\n",
      "23 : 0.179666666667\n",
      "24 : 0.17575\n",
      "25 : 0.178416666667\n",
      "26 : 0.1745\n",
      "27 : 0.177083333333\n",
      "28 : 0.17175\n",
      "29 : 0.17575\n",
      "30 : 0.169083333333\n",
      "31 : 0.174416666667\n",
      "32 : 0.17175\n",
      "33 : 0.187666666667\n",
      "34 : 0.179666666667\n",
      "35 : 0.178416666667\n",
      "36 : 0.171666666667\n",
      "37 : 0.178333333333\n",
      "38 : 0.178416666667\n",
      "39 : 0.17175\n",
      "40 : 0.17575\n",
      "41 : 0.17975\n",
      "42 : 0.181\n",
      "43 : 0.171833333333\n",
      "44 : 0.177166666667\n",
      "45 : 0.18775\n",
      "46 : 0.170416666667\n",
      "47 : 0.177\n",
      "48 : 0.174416666667\n",
      "49 : 0.169166666667\n",
      "50 : 0.182416666667\n",
      "51 : 0.173083333333\n",
      "52 : 0.177\n",
      "53 : 0.173083333333\n",
      "54 : 0.178333333333\n",
      "55 : 0.189083333333\n",
      "56 : 0.178333333333\n",
      "57 : 0.173\n",
      "58 : 0.179666666667\n",
      "59 : 0.1825\n",
      "60 : 0.181083333333\n",
      "61 : 0.177083333333\n",
      "62 : 0.174416666667\n",
      "63 : 0.1665\n",
      "64 : 0.181\n",
      "65 : 0.17175\n",
      "66 : 0.173083333333\n",
      "67 : 0.178333333333\n",
      "68 : 0.186333333333\n",
      "69 : 0.17975\n",
      "70 : 0.17175\n",
      "71 : 0.181083333333\n",
      "72 : 0.177083333333\n",
      "73 : 0.179666666667\n",
      "74 : 0.183666666667\n",
      "75 : 0.177083333333\n",
      "76 : 0.177\n",
      "77 : 0.181083333333\n",
      "78 : 0.181083333333\n",
      "79 : 0.173083333333\n",
      "80 : 0.174416666667\n",
      "81 : 0.181\n"
     ]
    }
   ],
   "source": [
    "depth_range = np.arange(1,len(train_x.columns))\n",
    "args = {'n_estimators':best_estimator}\n",
    "best_depth,depth_errors = cross_validation(train_x,train_y,depth_range,k=50,parameter='max_depth',**args)"
   ]
  },
  {
   "cell_type": "code",
   "execution_count": 33,
   "metadata": {
    "collapsed": false
   },
   "outputs": [
    {
     "data": {
      "image/png": "[encoded data removed]",
      "text/plain": [
       "<matplotlib.figure.Figure at 0x10ac12690>"
      ]
     },
     "metadata": {},
     "output_type": "display_data"
    },
    {
     "data": {
      "image/png": "[encoded data removed]",
      "text/plain": [
       "<matplotlib.figure.Figure at 0x10acacf90>"
      ]
     },
     "metadata": {},
     "output_type": "display_data"
    }
   ],
   "source": [
    "estim = plt.plot(estim_range,estim_errors,label='n trees')\n",
    "plt.xlabel('n_estimators')\n",
    "plt.ylabel('Error')\n",
    "plt.show()\n",
    "depth = plt.plot(depth_range,depth_errors,label='depth')\n",
    "plt.xlabel('tree depth')\n",
    "plt.ylabel('Error')\n",
    "plt.show()"
   ]
  },
  {
   "cell_type": "code",
   "execution_count": 42,
   "metadata": {
    "collapsed": false
   },
   "outputs": [
    {
     "name": "stdout",
     "output_type": "stream",
     "text": [
      "2 : 0.169\n",
      "4 : 0.17025\n",
      "6 : 0.1755\n",
      "8 : 0.162333333333\n",
      "10 : 0.169\n",
      "12 : 0.1715\n",
      "14 : 0.172916666667\n",
      "16 : 0.17175\n",
      "18 : 0.172833333333\n",
      "20 : 0.173\n",
      "22 : 0.174083333333\n",
      "24 : 0.172916666667\n",
      "26 : 0.168916666667\n",
      "28 : 0.174333333333\n",
      "30 : 0.17425\n",
      "32 : 0.166416666667\n",
      "34 : 0.172916666667\n",
      "36 : 0.174333333333\n",
      "38 : 0.175666666667\n",
      "40 : 0.171583333333\n",
      "42 : 0.181\n",
      "44 : 0.174333333333\n",
      "46 : 0.179583333333\n",
      "48 : 0.174333333333\n",
      "50 : 0.170333333333\n",
      "52 : 0.17425\n",
      "54 : 0.178333333333\n",
      "56 : 0.174333333333\n",
      "58 : 0.174333333333\n",
      "60 : 0.182166666667\n",
      "62 : 0.174333333333\n",
      "64 : 0.177\n",
      "66 : 0.174333333333\n",
      "68 : 0.1755\n",
      "70 : 0.178333333333\n",
      "72 : 0.181\n",
      "74 : 0.17825\n",
      "76 : 0.17425\n",
      "78 : 0.181\n",
      "80 : 0.1835\n",
      "82 : 0.18625\n",
      "84 : 0.184833333333\n",
      "86 : 0.182166666667\n",
      "88 : 0.178166666667\n",
      "90 : 0.186166666667\n",
      "92 : 0.186166666667\n",
      "94 : 0.186166666667\n",
      "96 : 0.184833333333\n",
      "98 : 0.184916666667\n"
     ]
    }
   ],
   "source": [
    "min_samples_range = np.arange(2,100,2)\n",
    "args = {'n_estimators':best_estimator,'max_depth':best_depth}\n",
    "best_min_samples_split,split_errors = cross_validation(train_x,train_y,min_samples_range,k=50,parameter='min_samples_split',**args)"
   ]
  },
  {
   "cell_type": "code",
   "execution_count": 45,
   "metadata": {
    "collapsed": false
   },
   "outputs": [
    {
     "name": "stdout",
     "output_type": "stream",
     "text": [
      "1 : 0.294333333333\n",
      "2 : 0.217833333333\n",
      "3 : 0.190166666667\n",
      "4 : 0.183416666667\n",
      "5 : 0.170166666667\n",
      "6 : 0.173\n",
      "7 : 0.173\n",
      "8 : 0.17175\n",
      "9 : 0.167833333333\n",
      "10 : 0.159833333333\n",
      "11 : 0.170416666667\n",
      "12 : 0.165083333333\n",
      "13 : 0.167666666667\n",
      "14 : 0.165083333333\n",
      "15 : 0.161166666667\n",
      "16 : 0.170333333333\n",
      "17 : 0.172916666667\n",
      "18 : 0.171666666667\n",
      "19 : 0.1705\n",
      "20 : 0.170416666667\n",
      "21 : 0.171833333333\n",
      "22 : 0.177\n",
      "23 : 0.166416666667\n",
      "24 : 0.174333333333\n",
      "25 : 0.177\n",
      "26 : 0.174333333333\n",
      "27 : 0.178416666667\n",
      "28 : 0.177\n",
      "29 : 0.167833333333\n",
      "30 : 0.175666666667\n",
      "31 : 0.166416666667\n",
      "32 : 0.171833333333\n",
      "33 : 0.170333333333\n",
      "34 : 0.174416666667\n",
      "35 : 0.173166666667\n",
      "36 : 0.171666666667\n",
      "37 : 0.163666666667\n",
      "38 : 0.177083333333\n",
      "39 : 0.170333333333\n",
      "40 : 0.16775\n",
      "41 : 0.166416666667\n",
      "42 : 0.17575\n",
      "43 : 0.173083333333\n",
      "44 : 0.169083333333\n",
      "45 : 0.174333333333\n",
      "46 : 0.173083333333\n",
      "47 : 0.177\n",
      "48 : 0.1665\n",
      "49 : 0.170333333333\n",
      "50 : 0.177\n",
      "51 : 0.173083333333\n",
      "52 : 0.17175\n",
      "53 : 0.169083333333\n",
      "54 : 0.169\n",
      "55 : 0.170416666667\n",
      "56 : 0.174333333333\n",
      "57 : 0.170416666667\n",
      "58 : 0.175666666667\n",
      "59 : 0.178333333333\n",
      "60 : 0.177\n",
      "61 : 0.177\n",
      "62 : 0.169\n",
      "63 : 0.173166666667\n",
      "64 : 0.174416666667\n",
      "65 : 0.167666666667\n",
      "66 : 0.17175\n",
      "67 : 0.184916666667\n",
      "68 : 0.177\n",
      "69 : 0.174416666667\n",
      "70 : 0.177083333333\n",
      "71 : 0.171666666667\n",
      "72 : 0.177083333333\n",
      "73 : 0.163833333333\n",
      "74 : 0.173083333333\n",
      "75 : 0.174416666667\n",
      "76 : 0.171833333333\n",
      "77 : 0.173\n",
      "78 : 0.174333333333\n",
      "79 : 0.175666666667\n",
      "80 : 0.166333333333\n",
      "81 : 0.166333333333\n"
     ]
    }
   ],
   "source": [
    "depth_range = np.arange(1,len(train_x.columns))\n",
    "args = {'n_estimators':best_estimator,'min_samples_split':best_min_samples_split}\n",
    "best_depth,depth_errors = cross_validation(train_x,train_y,depth_range,k=50,parameter='max_depth',**args)"
   ]
  },
  {
   "cell_type": "code",
   "execution_count": 46,
   "metadata": {
    "collapsed": false
   },
   "outputs": [
    {
     "data": {
      "text/plain": [
       "RandomForestClassifier(bootstrap=True, class_weight=None, criterion='gini',\n",
       "            max_depth=10, max_features='auto', max_leaf_nodes=None,\n",
       "            min_samples_leaf=1, min_samples_split=8,\n",
       "            min_weight_fraction_leaf=0.0, n_estimators=100, n_jobs=1,\n",
       "            oob_score=False, random_state=None, verbose=0,\n",
       "            warm_start=False)"
      ]
     },
     "execution_count": 46,
     "metadata": {},
     "output_type": "execute_result"
    }
   ],
   "source": [
    "best_forest = RandomForestClassifier(n_estimators=best_estimator,max_depth=best_depth,min_samples_split=best_min_samples_split)\n",
    "best_forest.fit(X_train,Y_train)"
   ]
  },
  {
   "cell_type": "code",
   "execution_count": 47,
   "metadata": {
    "collapsed": false
   },
   "outputs": [
    {
     "name": "stdout",
     "output_type": "stream",
     "text": [
      "0.171641791045\n"
     ]
    }
   ],
   "source": [
    "predictions = best_forest.predict(X_valid)\n",
    "error = np.sum(predictions!=Y_valid,dtype=float)/len(Y_valid)\n",
    "print error"
   ]
  },
  {
   "cell_type": "code",
   "execution_count": 48,
   "metadata": {
    "collapsed": true
   },
   "outputs": [],
   "source": [
    "best_forest.fit(train_x,train_y)\n",
    "test_predictions = best_forest.predict(test_x)"
   ]
  },
  {
   "cell_type": "code",
   "execution_count": 50,
   "metadata": {
    "collapsed": false
   },
   "outputs": [],
   "source": [
    "time = datetime.now().isoformat()\n",
    "np.savetxt('submissions/RF_lessnaive_%s.csv'%time,\n",
    "           np.c_[test_raw['PassengerId'],test_predictions],\n",
    "           delimiter=',',\n",
    "           header='PassengerId,Survived',\n",
    "           fmt='%d',\n",
    "           comments='')"
   ]
  },
  {
   "cell_type": "markdown",
   "metadata": {},
   "source": [
    "# Slight improvement over logistic regression"
   ]
  },
  {
   "cell_type": "markdown",
   "metadata": {},
   "source": [
    "# More cross validation may help"
   ]
  },
  {
   "cell_type": "code",
   "execution_count": 25,
   "metadata": {
    "collapsed": false
   },
   "outputs": [
    {
     "name": "stdout",
     "output_type": "stream",
     "text": [
      "1 : 0.194166666667\n",
      "2 : 0.196833333333\n",
      "3 : 0.196916666667\n",
      "4 : 0.190166666667\n",
      "5 : 0.188833333333\n",
      "6 : 0.190083333333\n",
      "7 : 0.196833333333\n",
      "8 : 0.191666666667\n",
      "9 : 0.186333333333\n",
      "10 : 0.189\n",
      "11 : 0.192916666667\n",
      "12 : 0.179666666667\n",
      "13 : 0.178416666667\n",
      "14 : 0.182333333333\n",
      "15 : 0.186416666667\n",
      "16 : 0.187666666667\n",
      "17 : 0.17975\n",
      "18 : 0.182166666667\n",
      "19 : 0.187666666667\n",
      "20 : 0.182416666667\n",
      "21 : 0.175833333333\n",
      "22 : 0.17975\n",
      "23 : 0.183666666667\n",
      "24 : 0.18225\n",
      "25 : 0.183583333333\n",
      "26 : 0.178416666667\n",
      "27 : 0.182416666667\n",
      "28 : 0.181\n",
      "29 : 0.177166666667\n",
      "30 : 0.175833333333\n",
      "31 : 0.177166666667\n",
      "32 : 0.177083333333\n",
      "33 : 0.178416666667\n",
      "34 : 0.181083333333\n",
      "35 : 0.173083333333\n",
      "36 : 0.181166666667\n",
      "37 : 0.182333333333\n",
      "auto : 0.194166666667\n",
      "log2 : 0.192833333333\n",
      "sqrt : 0.1955\n"
     ]
    }
   ],
   "source": [
    "feature_range = range(1,len(train_x.columns)+1)+['auto','log2','sqrt']\n",
    "args = {'max_depth':len(train_x.columns),'n_estimators':best_estimator}\n",
    "best_feature,feature_errors = cross_validation(train_x,train_y,feature_range,k=50,parameter='max_features',**args)"
   ]
  },
  {
   "cell_type": "code",
   "execution_count": 26,
   "metadata": {
    "collapsed": false
   },
   "outputs": [
    {
     "data": {
      "text/plain": [
       "35"
      ]
     },
     "execution_count": 26,
     "metadata": {},
     "output_type": "execute_result"
    }
   ],
   "source": [
    "best_feature"
   ]
  },
  {
   "cell_type": "code",
   "execution_count": 27,
   "metadata": {
    "collapsed": false
   },
   "outputs": [
    {
     "name": "stdout",
     "output_type": "stream",
     "text": [
      "0.171641791045\n"
     ]
    }
   ],
   "source": [
    "best_forest = RandomForestClassifier(n_estimators=best_estimator,max_depth=best_depth,max_features=best_feature)\n",
    "best_forest.fit(X_train,Y_train)\n",
    "predictions = best_forest.predict(X_valid)\n",
    "error = np.sum(predictions!=Y_valid,dtype=float)/len(Y_valid)\n",
    "print error"
   ]
  },
  {
   "cell_type": "code",
   "execution_count": 28,
   "metadata": {
    "collapsed": true
   },
   "outputs": [],
   "source": [
    "best_forest.fit(train_x,train_y)\n",
    "test_predictions = best_forest.predict(test_x)"
   ]
  },
  {
   "cell_type": "code",
   "execution_count": 29,
   "metadata": {
    "collapsed": true
   },
   "outputs": [],
   "source": [
    "np.savetxt('titanic_RF_xv3.csv',\n",
    "           np.c_[test_raw['PassengerId'],test_predictions],\n",
    "           delimiter=',',\n",
    "           header='PassengerId,Survived',\n",
    "           fmt='%d',\n",
    "           comments='')"
   ]
  },
  {
   "cell_type": "code",
   "execution_count": 30,
   "metadata": {
    "collapsed": false
   },
   "outputs": [
    {
     "name": "stdout",
     "output_type": "stream",
     "text": [
      "gini : 0.15825\n",
      "entropy : 0.16375\n"
     ]
    }
   ],
   "source": [
    "penalty_functions = ['gini','entropy']\n",
    "args = {'max_depth':best_depth,'n_estimators':best_estimator,'max_features':best_feature}\n",
    "best_function,function_errors = cross_validation(train_x,train_y,penalty_functions,k=50,parameter='criterion',**args)"
   ]
  },
  {
   "cell_type": "code",
   "execution_count": 31,
   "metadata": {
    "collapsed": false
   },
   "outputs": [
    {
     "name": "stdout",
     "output_type": "stream",
     "text": [
      "0.171641791045\n"
     ]
    }
   ],
   "source": [
    "best_forest = RandomForestClassifier(n_estimators=best_estimator,\n",
    "                                     max_depth=best_depth,\n",
    "                                     max_features=best_feature,\n",
    "                                     criterion=best_function)\n",
    "best_forest.fit(X_train,Y_train)\n",
    "predictions = best_forest.predict(X_valid)\n",
    "error = np.sum(predictions!=Y_valid,dtype=float)/len(Y_valid)\n",
    "print error"
   ]
  },
  {
   "cell_type": "code",
   "execution_count": 32,
   "metadata": {
    "collapsed": true
   },
   "outputs": [],
   "source": [
    "best_forest.fit(train_x,train_y)\n",
    "test_predictions = best_forest.predict(test_x)"
   ]
  },
  {
   "cell_type": "code",
   "execution_count": 33,
   "metadata": {
    "collapsed": true
   },
   "outputs": [],
   "source": [
    "np.savetxt('titanic_RF_xv4.csv',\n",
    "           np.c_[test_raw['PassengerId'],test_predictions],\n",
    "           delimiter=',',\n",
    "           header='PassengerId,Survived',\n",
    "           fmt='%d',\n",
    "           comments='')"
   ]
  },
  {
   "cell_type": "markdown",
   "metadata": {},
   "source": [
    "#Begin Feature Engineering"
   ]
  },
  {
   "cell_type": "markdown",
   "metadata": {},
   "source": [
    "### Trying single features as predictors"
   ]
  },
  {
   "cell_type": "code",
   "execution_count": 34,
   "metadata": {
    "collapsed": false
   },
   "outputs": [],
   "source": [
    "features = X_train.columns"
   ]
  },
  {
   "cell_type": "code",
   "execution_count": 36,
   "metadata": {
    "collapsed": false
   },
   "outputs": [
    {
     "name": "stdout",
     "output_type": "stream",
     "text": [
      "Pclass : 0.298507462687\n",
      "Age : 0.39552238806\n",
      "SibSp : 0.365671641791\n",
      "Parch : 0.380597014925\n",
      "Fare : 0.313432835821\n",
      "Sex_male : 0.223880597015\n",
      "Sex_female : 0.223880597015\n",
      "Embarked_S : 0.410447761194\n",
      "Embarked_C : 0.373134328358\n",
      "Embarked_Q : 0.410447761194\n",
      "Embarked_nan : 0.410447761194\n",
      "Cabin_nan : 0.410447761194\n",
      "Cabin_C : 0.365671641791\n",
      "Cabin_E : 0.402985074627\n",
      "Cabin_G : 0.417910447761\n",
      "Cabin_D : 0.365671641791\n",
      "Cabin_A : 0.410447761194\n",
      "Cabin_B : 0.365671641791\n",
      "Cabin_F : 0.402985074627\n",
      "Cabin_T : 0.410447761194\n",
      "Title_Mr. : 0.268656716418\n",
      "Title_Mrs. : 0.305970149254\n",
      "Title_Miss. : 0.335820895522\n",
      "Title_Master. : 0.402985074627\n",
      "Title_Don. : 0.410447761194\n",
      "Title_Rev. : 0.410447761194\n",
      "Title_Dr. : 0.410447761194\n",
      "Title_Mme. : 0.410447761194\n",
      "Title_Ms. : 0.410447761194\n",
      "Title_Major. : 0.410447761194\n",
      "Title_Lady. : 0.410447761194\n",
      "Title_Sir. : 0.410447761194\n",
      "Title_Mlle. : 0.410447761194\n",
      "Title_Col. : 0.417910447761\n",
      "Title_Capt. : 0.410447761194\n",
      "Title_the : 0.410447761194\n",
      "Title_Jonkheer. : 0.410447761194\n",
      "Best Single Feature: Sex_male\n"
     ]
    }
   ],
   "source": [
    "single_feature_error = []\n",
    "for feat in features:\n",
    "    single_forest = RandomForestClassifier(n_estimators=best_estimator,\n",
    "                                           criterion=best_function)\n",
    "    single_forest.fit(X_train[[feat]],Y_train)\n",
    "    predicts = single_forest.predict(X_valid[[feat]])\n",
    "    err = np.sum(predicts!=Y_valid,dtype=float)/len(Y_valid)\n",
    "    single_feature_error.append(err)\n",
    "    print feat,':',err\n",
    "best_1 = features[np.argmin(single_feature_error)]\n",
    "print 'Best Single Feature:',best_1"
   ]
  },
  {
   "cell_type": "code",
   "execution_count": 37,
   "metadata": {
    "collapsed": false
   },
   "outputs": [],
   "source": [
    "features_2 = features.drop(best_1)"
   ]
  },
  {
   "cell_type": "code",
   "execution_count": 38,
   "metadata": {
    "collapsed": false
   },
   "outputs": [
    {
     "name": "stdout",
     "output_type": "stream",
     "text": [
      "Pclass : 0.201492537313\n",
      "Age : 0.216417910448\n",
      "SibSp : 0.208955223881\n",
      "Parch : 0.208955223881\n",
      "Fare : 0.186567164179\n",
      "Sex_female : 0.223880597015\n",
      "Embarked_S : 0.223880597015\n",
      "Embarked_C : 0.223880597015\n",
      "Embarked_Q : 0.223880597015\n",
      "Embarked_nan : 0.223880597015\n",
      "Cabin_nan : 0.223880597015\n",
      "Cabin_C : 0.223880597015\n",
      "Cabin_E : 0.231343283582\n",
      "Cabin_G : 0.223880597015\n",
      "Cabin_D : 0.223880597015\n",
      "Cabin_A : 0.223880597015\n",
      "Cabin_B : 0.223880597015\n",
      "Cabin_F : 0.223880597015\n",
      "Cabin_T : 0.223880597015\n",
      "Title_Mr. : 0.268656716418\n",
      "Title_Mrs. : 0.223880597015\n",
      "Title_Miss. : 0.223880597015\n",
      "Title_Master. : 0.216417910448\n",
      "Title_Don. : 0.223880597015\n",
      "Title_Rev. : 0.223880597015\n",
      "Title_Dr. : 0.223880597015\n",
      "Title_Mme. : 0.223880597015\n",
      "Title_Ms. : 0.223880597015\n",
      "Title_Major. : 0.223880597015\n",
      "Title_Lady. : 0.223880597015\n",
      "Title_Sir. : 0.223880597015\n",
      "Title_Mlle. : 0.223880597015\n",
      "Title_Col. : 0.231343283582\n",
      "Title_Capt. : 0.223880597015\n",
      "Title_the : 0.223880597015\n",
      "Title_Jonkheer. : 0.223880597015\n",
      "Best Double Feature: ['Sex_male', 'Fare']\n"
     ]
    }
   ],
   "source": [
    "double_feature_error = []\n",
    "for feat in features_2:\n",
    "    if feat == best_1: continue\n",
    "    double_forest = RandomForestClassifier(n_estimators=best_estimator,criterion=best_function)\n",
    "    double_forest.fit(X_train[[best_1,feat]],Y_train)\n",
    "    predicts = double_forest.predict(X_valid[[best_1,feat]])\n",
    "    err = np.sum(predicts!=Y_valid,dtype=float)/len(Y_valid)\n",
    "    double_feature_error.append(err)\n",
    "    print feat,':',err\n",
    "best_2 = features_2[np.argmin(double_feature_error)]\n",
    "print 'Best Double Feature:',[best_1,best_2]"
   ]
  },
  {
   "cell_type": "code",
   "execution_count": 39,
   "metadata": {
    "collapsed": true
   },
   "outputs": [],
   "source": [
    "features_3 = features.drop([best_1,best_2])"
   ]
  },
  {
   "cell_type": "code",
   "execution_count": 40,
   "metadata": {
    "collapsed": false
   },
   "outputs": [
    {
     "name": "stdout",
     "output_type": "stream",
     "text": [
      "Pclass : 0.164179104478\n",
      "Age : 0.223880597015\n",
      "SibSp : 0.208955223881\n",
      "Parch : 0.171641791045\n",
      "Sex_female : 0.186567164179\n",
      "Embarked_S : 0.201492537313\n",
      "Embarked_C : 0.186567164179\n",
      "Embarked_Q : 0.194029850746\n",
      "Embarked_nan : 0.186567164179\n",
      "Cabin_nan : 0.186567164179\n",
      "Cabin_C : 0.186567164179\n",
      "Cabin_E : 0.186567164179\n",
      "Cabin_G : 0.186567164179\n",
      "Cabin_D : 0.201492537313\n",
      "Cabin_A : 0.186567164179\n",
      "Cabin_B : 0.201492537313\n",
      "Cabin_F : 0.171641791045\n",
      "Cabin_T : 0.186567164179\n",
      "Title_Mr. : 0.186567164179\n",
      "Title_Mrs. : 0.246268656716\n",
      "Title_Miss. : 0.238805970149\n",
      "Title_Master. : 0.164179104478\n",
      "Title_Don. : 0.186567164179\n",
      "Title_Rev. : 0.186567164179\n",
      "Title_Dr. : 0.194029850746\n",
      "Title_Mme. : 0.186567164179\n",
      "Title_Ms. : 0.186567164179\n",
      "Title_Major. : 0.194029850746\n",
      "Title_Lady. : 0.186567164179\n",
      "Title_Sir. : 0.186567164179\n",
      "Title_Mlle. : 0.194029850746\n",
      "Title_Col. : 0.186567164179\n",
      "Title_Capt. : 0.194029850746\n",
      "Title_the : 0.186567164179\n",
      "Title_Jonkheer. : 0.194029850746\n",
      "Best Triple Feature: ['Sex_male', 'Fare', 'Pclass']\n"
     ]
    }
   ],
   "source": [
    "triple_feature_error = []\n",
    "for feat in features_3:\n",
    "    if feat in [best_1,best_2]: continue\n",
    "    triple_forest = RandomForestClassifier(n_estimators=best_estimator,criterion=best_function)\n",
    "    triple_forest.fit(X_train[[best_1,best_2,feat]],Y_train)\n",
    "    predicts = triple_forest.predict(X_valid[[best_1,best_2,feat]])\n",
    "    err = np.sum(predicts!=Y_valid,dtype=float)/len(Y_valid)\n",
    "    triple_feature_error.append(err)\n",
    "    print feat,':',err\n",
    "best_3 = features_3[np.argmin(triple_feature_error)]\n",
    "print 'Best Triple Feature:',[best_1,best_2,best_3]"
   ]
  },
  {
   "cell_type": "code",
   "execution_count": 41,
   "metadata": {
    "collapsed": false
   },
   "outputs": [
    {
     "data": {
      "text/plain": [
       "RandomForestClassifier(bootstrap=True, class_weight=None, criterion='gini',\n",
       "            max_depth=None, max_features='auto', max_leaf_nodes=None,\n",
       "            min_samples_leaf=1, min_samples_split=2,\n",
       "            min_weight_fraction_leaf=0.0, n_estimators=100, n_jobs=1,\n",
       "            oob_score=False, random_state=None, verbose=0,\n",
       "            warm_start=False)"
      ]
     },
     "execution_count": 41,
     "metadata": {},
     "output_type": "execute_result"
    }
   ],
   "source": [
    "three_forest = RandomForestClassifier(n_estimators=best_estimator,criterion=best_function)\n",
    "three_forest.fit(train_x[[best_1,best_2,best_3]],train_y)"
   ]
  },
  {
   "cell_type": "code",
   "execution_count": 42,
   "metadata": {
    "collapsed": true
   },
   "outputs": [],
   "source": [
    "test_predictions_3 = three_forest.predict(test_x[[best_1,best_2,best_3]])\n",
    "np.savetxt('titanic_RF_three.csv',\n",
    "           np.c_[test_raw['PassengerId'],test_predictions_3],\n",
    "           delimiter=',',\n",
    "           header='PassengerId,Survived',\n",
    "           fmt='%d',\n",
    "           comments='')"
   ]
  },
  {
   "cell_type": "code",
   "execution_count": 167,
   "metadata": {
    "collapsed": false
   },
   "outputs": [
    {
     "name": "stdout",
     "output_type": "stream",
     "text": [
      "46\n"
     ]
    }
   ],
   "source": [
    "print np.sum(test_predictions_3 != test_predictions)"
   ]
  },
  {
   "cell_type": "code",
   "execution_count": null,
   "metadata": {
    "collapsed": true
   },
   "outputs": [],
   "source": []
  }
 ],
 "metadata": {
  "kernelspec": {
   "display_name": "Python 2",
   "language": "python",
   "name": "python2"
  },
  "language_info": {
   "codemirror_mode": {
    "name": "ipython",
    "version": 2
   },
   "file_extension": ".py",
   "mimetype": "text/x-python",
   "name": "python",
   "nbconvert_exporter": "python",
   "pygments_lexer": "ipython2",
   "version": "2.7.10"
  }
 },
 "nbformat": 4,
 "nbformat_minor": 0
}
