{
 "cells": [
  {
   "cell_type": "code",
   "execution_count": 55,
   "metadata": {
    "collapsed": true
   },
   "outputs": [],
   "source": [
    "# general stuff\n",
    "import numpy as np\n",
    "import pandas as pd\n",
    "import re\n",
    "# learning tools\n",
    "from sklearn.ensemble import RandomForestClassifier\n",
    "from sklearn.cross_validation import train_test_split\n",
    "from sklearn.cross_validation import KFold\n",
    "# preprocessing tools\n",
    "import sklearn.preprocessing as preprocessing\n",
    "from sklearn.preprocessing import Imputer\n",
    "#plotting tools\n",
    "import matplotlib.pyplot as plt\n",
    "plt.style.use('bmh')\n",
    "%matplotlib inline"
   ]
  },
  {
   "cell_type": "code",
   "execution_count": 123,
   "metadata": {
    "collapsed": true
   },
   "outputs": [],
   "source": [
    "train_raw = pd.read_csv('data_sets/train.csv')"
   ]
  },
  {
   "cell_type": "code",
   "execution_count": 124,
   "metadata": {
    "collapsed": false
   },
   "outputs": [],
   "source": [
    "foo = train_raw.copy()\n",
    "foo['Age'] = foo['Age'].fillna(foo['Age'].mean())"
   ]
  },
  {
   "cell_type": "code",
   "execution_count": 121,
   "metadata": {
    "collapsed": false
   },
   "outputs": [],
   "source": [
    "def preprocess_categorical(data,column):\n",
    "    processed = data.copy()\n",
    "    for status in data[column].unique():\n",
    "        processed[column+'_'+str(status)] = (data[column]==status).astype(int)\n",
    "    processed = processed.drop(column,axis=1)\n",
    "    return processed\n",
    "def deck_letter(x):\n",
    "    if type(x) == str:\n",
    "        return x[0]\n",
    "    else:\n",
    "        return np.nan\n",
    "def preprocess_sex(data):\n",
    "    data['gender'] = data['Sex'].apply(lambda x: int(x=='male'))\n",
    "    return data\n",
    "def preprocess_cabin(data):\n",
    "    data['Cabin'] = data['Cabin'].apply(deck_letter)\n",
    "    return data\n",
    "def preprocess_last_name(data):\n",
    "    re_string = '([A-Z]+[a-zA-Z].*),'\n",
    "    data['Last_Name'] = data['Name'].apply(lambda x: (re.findall(re_string,x)+[''])[0])\n",
    "    return data\n",
    "def preprocess_same_last_name(data):\n",
    "    data['Same_Last'] = data['Last_Name'].apply(lambda x: data['Last_Name'][data['Last_Name'] == x].count() - 1)\n",
    "    return data\n",
    "def preprocess_name(data):\n",
    "    re_string = '.*, ([A-Z]+[a-zA-Z]*)\\..*'\n",
    "    data['Title'] = data['Name'].apply(lambda x: (re.findall(re_string,x)+[np.nan])[0])\n",
    "    return data    \n",
    "def preprocess_ticket(data):\n",
    "    re_prefix = '(.*) .*'\n",
    "    data['ticket_prefix'] = data['Ticket'].apply(lambda x: (re.findall(re_prefix,x)+[np.nan])[0])\n",
    "    re_suffix = '[0-9]{2,}'\n",
    "    data['ticket_suffix'] = data['Ticket'].apply(lambda x: (re.findall(re_suffix,x)+[np.nan])[0])\n",
    "    return data\n",
    "def preprocess(data):\n",
    "    data = preprocess_sex(data)\n",
    "    data = preprocess_cabin(data)\n",
    "    data = preprocess_name(data)\n",
    "    data = preprocess_last_name(data)\n",
    "    data = preprocess_same_last_name(data)\n",
    "    data = preprocess_ticket(data)\n",
    "    categorical = ['Embarked','Cabin','Title','ticket_prefix']\n",
    "    iters = 0\n",
    "    while iters < len(categorical):\n",
    "        data = preprocess_categorical(data,categorical[iters])\n",
    "        iters += 1\n",
    "    data = data.fillna(data.mean())\n",
    "    ignore = ['Sex','PassengerId','Name','Ticket','Last_Name']\n",
    "    data = data.drop(ignore,axis=1)\n",
    "    return data\n",
    "def preprocess_test(test,train):\n",
    "    test = preprocess(test)\n",
    "    for c_train in train.columns:\n",
    "        if c_train not in test.columns:\n",
    "            test[c_train] = 0\n",
    "    for c_test in test.columns:\n",
    "        if c_test not in train.columns:\n",
    "            test = test.drop(c_test,axis=1)\n",
    "    return test"
   ]
  },
  {
   "cell_type": "code",
   "execution_count": 125,
   "metadata": {
    "collapsed": false
   },
   "outputs": [
    {
     "data": {
      "text/html": [
       "<div>\n",
       "<table border=\"1\" class=\"dataframe\">\n",
       "  <thead>\n",
       "    <tr style=\"text-align: right;\">\n",
       "      <th></th>\n",
       "      <th>Survived</th>\n",
       "      <th>Pclass</th>\n",
       "      <th>Age</th>\n",
       "      <th>SibSp</th>\n",
       "      <th>Parch</th>\n",
       "      <th>Fare</th>\n",
       "      <th>gender</th>\n",
       "      <th>Same_Last</th>\n",
       "      <th>ticket_suffix</th>\n",
       "      <th>Embarked_S</th>\n",
       "      <th>...</th>\n",
       "      <th>ticket_prefix_A/S</th>\n",
       "      <th>ticket_prefix_SC/AH Basle</th>\n",
       "      <th>ticket_prefix_A/4</th>\n",
       "      <th>ticket_prefix_WE/P</th>\n",
       "      <th>ticket_prefix_S.W./PP</th>\n",
       "      <th>ticket_prefix_S.O./P.P.</th>\n",
       "      <th>ticket_prefix_F.C.</th>\n",
       "      <th>ticket_prefix_SOTON/O2</th>\n",
       "      <th>ticket_prefix_S.C./PARIS</th>\n",
       "      <th>ticket_prefix_C.A./SOTON</th>\n",
       "    </tr>\n",
       "  </thead>\n",
       "  <tbody>\n",
       "    <tr>\n",
       "      <th>0</th>\n",
       "      <td>0</td>\n",
       "      <td>3</td>\n",
       "      <td>22</td>\n",
       "      <td>1</td>\n",
       "      <td>0</td>\n",
       "      <td>7.2500</td>\n",
       "      <td>1</td>\n",
       "      <td>1</td>\n",
       "      <td>21171</td>\n",
       "      <td>1</td>\n",
       "      <td>...</td>\n",
       "      <td>0</td>\n",
       "      <td>0</td>\n",
       "      <td>0</td>\n",
       "      <td>0</td>\n",
       "      <td>0</td>\n",
       "      <td>0</td>\n",
       "      <td>0</td>\n",
       "      <td>0</td>\n",
       "      <td>0</td>\n",
       "      <td>0</td>\n",
       "    </tr>\n",
       "    <tr>\n",
       "      <th>1</th>\n",
       "      <td>1</td>\n",
       "      <td>1</td>\n",
       "      <td>38</td>\n",
       "      <td>1</td>\n",
       "      <td>0</td>\n",
       "      <td>71.2833</td>\n",
       "      <td>0</td>\n",
       "      <td>0</td>\n",
       "      <td>17599</td>\n",
       "      <td>0</td>\n",
       "      <td>...</td>\n",
       "      <td>0</td>\n",
       "      <td>0</td>\n",
       "      <td>0</td>\n",
       "      <td>0</td>\n",
       "      <td>0</td>\n",
       "      <td>0</td>\n",
       "      <td>0</td>\n",
       "      <td>0</td>\n",
       "      <td>0</td>\n",
       "      <td>0</td>\n",
       "    </tr>\n",
       "    <tr>\n",
       "      <th>2</th>\n",
       "      <td>1</td>\n",
       "      <td>3</td>\n",
       "      <td>26</td>\n",
       "      <td>0</td>\n",
       "      <td>0</td>\n",
       "      <td>7.9250</td>\n",
       "      <td>0</td>\n",
       "      <td>0</td>\n",
       "      <td>3101282</td>\n",
       "      <td>1</td>\n",
       "      <td>...</td>\n",
       "      <td>0</td>\n",
       "      <td>0</td>\n",
       "      <td>0</td>\n",
       "      <td>0</td>\n",
       "      <td>0</td>\n",
       "      <td>0</td>\n",
       "      <td>0</td>\n",
       "      <td>0</td>\n",
       "      <td>0</td>\n",
       "      <td>0</td>\n",
       "    </tr>\n",
       "    <tr>\n",
       "      <th>3</th>\n",
       "      <td>1</td>\n",
       "      <td>1</td>\n",
       "      <td>35</td>\n",
       "      <td>1</td>\n",
       "      <td>0</td>\n",
       "      <td>53.1000</td>\n",
       "      <td>0</td>\n",
       "      <td>1</td>\n",
       "      <td>113803</td>\n",
       "      <td>1</td>\n",
       "      <td>...</td>\n",
       "      <td>0</td>\n",
       "      <td>0</td>\n",
       "      <td>0</td>\n",
       "      <td>0</td>\n",
       "      <td>0</td>\n",
       "      <td>0</td>\n",
       "      <td>0</td>\n",
       "      <td>0</td>\n",
       "      <td>0</td>\n",
       "      <td>0</td>\n",
       "    </tr>\n",
       "    <tr>\n",
       "      <th>4</th>\n",
       "      <td>0</td>\n",
       "      <td>3</td>\n",
       "      <td>35</td>\n",
       "      <td>0</td>\n",
       "      <td>0</td>\n",
       "      <td>8.0500</td>\n",
       "      <td>1</td>\n",
       "      <td>1</td>\n",
       "      <td>373450</td>\n",
       "      <td>1</td>\n",
       "      <td>...</td>\n",
       "      <td>0</td>\n",
       "      <td>0</td>\n",
       "      <td>0</td>\n",
       "      <td>0</td>\n",
       "      <td>0</td>\n",
       "      <td>0</td>\n",
       "      <td>0</td>\n",
       "      <td>0</td>\n",
       "      <td>0</td>\n",
       "      <td>0</td>\n",
       "    </tr>\n",
       "  </tbody>\n",
       "</table>\n",
       "<p>5 rows × 83 columns</p>\n",
       "</div>"
      ],
      "text/plain": [
       "   Survived  Pclass  Age  SibSp  Parch     Fare  gender  Same_Last  \\\n",
       "0         0       3   22      1      0   7.2500       1          1   \n",
       "1         1       1   38      1      0  71.2833       0          0   \n",
       "2         1       3   26      0      0   7.9250       0          0   \n",
       "3         1       1   35      1      0  53.1000       0          1   \n",
       "4         0       3   35      0      0   8.0500       1          1   \n",
       "\n",
       "  ticket_suffix  Embarked_S            ...             ticket_prefix_A/S  \\\n",
       "0         21171           1            ...                             0   \n",
       "1         17599           0            ...                             0   \n",
       "2       3101282           1            ...                             0   \n",
       "3        113803           1            ...                             0   \n",
       "4        373450           1            ...                             0   \n",
       "\n",
       "   ticket_prefix_SC/AH Basle  ticket_prefix_A/4  ticket_prefix_WE/P  \\\n",
       "0                          0                  0                   0   \n",
       "1                          0                  0                   0   \n",
       "2                          0                  0                   0   \n",
       "3                          0                  0                   0   \n",
       "4                          0                  0                   0   \n",
       "\n",
       "   ticket_prefix_S.W./PP  ticket_prefix_S.O./P.P.  ticket_prefix_F.C.  \\\n",
       "0                      0                        0                   0   \n",
       "1                      0                        0                   0   \n",
       "2                      0                        0                   0   \n",
       "3                      0                        0                   0   \n",
       "4                      0                        0                   0   \n",
       "\n",
       "   ticket_prefix_SOTON/O2  ticket_prefix_S.C./PARIS  ticket_prefix_C.A./SOTON  \n",
       "0                       0                         0                         0  \n",
       "1                       0                         0                         0  \n",
       "2                       0                         0                         0  \n",
       "3                       0                         0                         0  \n",
       "4                       0                         0                         0  \n",
       "\n",
       "[5 rows x 83 columns]"
      ]
     },
     "execution_count": 125,
     "metadata": {},
     "output_type": "execute_result"
    }
   ],
   "source": [
    "foo =preprocess(train_raw)\n",
    "foo.head()"
   ]
  },
  {
   "cell_type": "code",
   "execution_count": 91,
   "metadata": {
    "collapsed": false
   },
   "outputs": [
    {
     "data": {
      "text/html": [
       "<div>\n",
       "<table border=\"1\" class=\"dataframe\">\n",
       "  <thead>\n",
       "    <tr style=\"text-align: right;\">\n",
       "      <th></th>\n",
       "      <th>PassengerId</th>\n",
       "      <th>Survived</th>\n",
       "      <th>Pclass</th>\n",
       "      <th>Name</th>\n",
       "      <th>Age</th>\n",
       "      <th>SibSp</th>\n",
       "      <th>Parch</th>\n",
       "      <th>Ticket</th>\n",
       "      <th>Fare</th>\n",
       "      <th>Title</th>\n",
       "      <th>...</th>\n",
       "      <th>Embarked_nan</th>\n",
       "      <th>Cabin_nan</th>\n",
       "      <th>Cabin_C</th>\n",
       "      <th>Cabin_E</th>\n",
       "      <th>Cabin_G</th>\n",
       "      <th>Cabin_D</th>\n",
       "      <th>Cabin_A</th>\n",
       "      <th>Cabin_B</th>\n",
       "      <th>Cabin_F</th>\n",
       "      <th>Cabin_T</th>\n",
       "    </tr>\n",
       "  </thead>\n",
       "  <tbody>\n",
       "    <tr>\n",
       "      <th>0</th>\n",
       "      <td>1</td>\n",
       "      <td>0</td>\n",
       "      <td>3</td>\n",
       "      <td>Braund, Mr. Owen Harris</td>\n",
       "      <td>22</td>\n",
       "      <td>1</td>\n",
       "      <td>0</td>\n",
       "      <td>A/5 21171</td>\n",
       "      <td>7.2500</td>\n",
       "      <td>Mr</td>\n",
       "      <td>...</td>\n",
       "      <td>0</td>\n",
       "      <td>0</td>\n",
       "      <td>0</td>\n",
       "      <td>0</td>\n",
       "      <td>0</td>\n",
       "      <td>0</td>\n",
       "      <td>0</td>\n",
       "      <td>0</td>\n",
       "      <td>0</td>\n",
       "      <td>0</td>\n",
       "    </tr>\n",
       "    <tr>\n",
       "      <th>1</th>\n",
       "      <td>2</td>\n",
       "      <td>1</td>\n",
       "      <td>1</td>\n",
       "      <td>Cumings, Mrs. John Bradley (Florence Briggs Th...</td>\n",
       "      <td>38</td>\n",
       "      <td>1</td>\n",
       "      <td>0</td>\n",
       "      <td>PC 17599</td>\n",
       "      <td>71.2833</td>\n",
       "      <td>Mrs</td>\n",
       "      <td>...</td>\n",
       "      <td>0</td>\n",
       "      <td>0</td>\n",
       "      <td>1</td>\n",
       "      <td>0</td>\n",
       "      <td>0</td>\n",
       "      <td>0</td>\n",
       "      <td>0</td>\n",
       "      <td>0</td>\n",
       "      <td>0</td>\n",
       "      <td>0</td>\n",
       "    </tr>\n",
       "    <tr>\n",
       "      <th>2</th>\n",
       "      <td>3</td>\n",
       "      <td>1</td>\n",
       "      <td>3</td>\n",
       "      <td>Heikkinen, Miss. Laina</td>\n",
       "      <td>26</td>\n",
       "      <td>0</td>\n",
       "      <td>0</td>\n",
       "      <td>STON/O2. 3101282</td>\n",
       "      <td>7.9250</td>\n",
       "      <td>Miss</td>\n",
       "      <td>...</td>\n",
       "      <td>0</td>\n",
       "      <td>0</td>\n",
       "      <td>0</td>\n",
       "      <td>0</td>\n",
       "      <td>0</td>\n",
       "      <td>0</td>\n",
       "      <td>0</td>\n",
       "      <td>0</td>\n",
       "      <td>0</td>\n",
       "      <td>0</td>\n",
       "    </tr>\n",
       "    <tr>\n",
       "      <th>3</th>\n",
       "      <td>4</td>\n",
       "      <td>1</td>\n",
       "      <td>1</td>\n",
       "      <td>Futrelle, Mrs. Jacques Heath (Lily May Peel)</td>\n",
       "      <td>35</td>\n",
       "      <td>1</td>\n",
       "      <td>0</td>\n",
       "      <td>113803</td>\n",
       "      <td>53.1000</td>\n",
       "      <td>Mrs</td>\n",
       "      <td>...</td>\n",
       "      <td>0</td>\n",
       "      <td>0</td>\n",
       "      <td>1</td>\n",
       "      <td>0</td>\n",
       "      <td>0</td>\n",
       "      <td>0</td>\n",
       "      <td>0</td>\n",
       "      <td>0</td>\n",
       "      <td>0</td>\n",
       "      <td>0</td>\n",
       "    </tr>\n",
       "    <tr>\n",
       "      <th>4</th>\n",
       "      <td>5</td>\n",
       "      <td>0</td>\n",
       "      <td>3</td>\n",
       "      <td>Allen, Mr. William Henry</td>\n",
       "      <td>35</td>\n",
       "      <td>0</td>\n",
       "      <td>0</td>\n",
       "      <td>373450</td>\n",
       "      <td>8.0500</td>\n",
       "      <td>Mr</td>\n",
       "      <td>...</td>\n",
       "      <td>0</td>\n",
       "      <td>0</td>\n",
       "      <td>0</td>\n",
       "      <td>0</td>\n",
       "      <td>0</td>\n",
       "      <td>0</td>\n",
       "      <td>0</td>\n",
       "      <td>0</td>\n",
       "      <td>0</td>\n",
       "      <td>0</td>\n",
       "    </tr>\n",
       "  </tbody>\n",
       "</table>\n",
       "<p>5 rows × 28 columns</p>\n",
       "</div>"
      ],
      "text/plain": [
       "   PassengerId  Survived  Pclass  \\\n",
       "0            1         0       3   \n",
       "1            2         1       1   \n",
       "2            3         1       3   \n",
       "3            4         1       1   \n",
       "4            5         0       3   \n",
       "\n",
       "                                                Name  Age  SibSp  Parch  \\\n",
       "0                            Braund, Mr. Owen Harris   22      1      0   \n",
       "1  Cumings, Mrs. John Bradley (Florence Briggs Th...   38      1      0   \n",
       "2                             Heikkinen, Miss. Laina   26      0      0   \n",
       "3       Futrelle, Mrs. Jacques Heath (Lily May Peel)   35      1      0   \n",
       "4                           Allen, Mr. William Henry   35      0      0   \n",
       "\n",
       "             Ticket     Fare Title   ...    Embarked_nan  Cabin_nan  Cabin_C  \\\n",
       "0         A/5 21171   7.2500    Mr   ...               0          0        0   \n",
       "1          PC 17599  71.2833   Mrs   ...               0          0        1   \n",
       "2  STON/O2. 3101282   7.9250  Miss   ...               0          0        0   \n",
       "3            113803  53.1000   Mrs   ...               0          0        1   \n",
       "4            373450   8.0500    Mr   ...               0          0        0   \n",
       "\n",
       "   Cabin_E  Cabin_G  Cabin_D  Cabin_A  Cabin_B  Cabin_F  Cabin_T  \n",
       "0        0        0        0        0        0        0        0  \n",
       "1        0        0        0        0        0        0        0  \n",
       "2        0        0        0        0        0        0        0  \n",
       "3        0        0        0        0        0        0        0  \n",
       "4        0        0        0        0        0        0        0  \n",
       "\n",
       "[5 rows x 28 columns]"
      ]
     },
     "execution_count": 91,
     "metadata": {},
     "output_type": "execute_result"
    }
   ],
   "source": [
    "foo.head()"
   ]
  },
  {
   "cell_type": "code",
   "execution_count": 49,
   "metadata": {
    "collapsed": false
   },
   "outputs": [
    {
     "ename": "TypeError",
     "evalue": "unhashable type: 'list'",
     "output_type": "error",
     "traceback": [
      "\u001b[0;31m---------------------------------------------------------------------------\u001b[0m",
      "\u001b[0;31mTypeError\u001b[0m                                 Traceback (most recent call last)",
      "\u001b[0;32m<ipython-input-49-b7b2d73be3eb>\u001b[0m in \u001b[0;36m<module>\u001b[0;34m()\u001b[0m\n\u001b[0;32m----> 1\u001b[0;31m \u001b[0mtrain_p\u001b[0m \u001b[0;34m=\u001b[0m \u001b[0mpreprocess\u001b[0m\u001b[0;34m(\u001b[0m\u001b[0mtrain_raw\u001b[0m\u001b[0;34m)\u001b[0m\u001b[0;34m\u001b[0m\u001b[0m\n\u001b[0m\u001b[1;32m      2\u001b[0m \u001b[0mignore\u001b[0m \u001b[0;34m=\u001b[0m \u001b[0;34m[\u001b[0m\u001b[0;34m'Name'\u001b[0m\u001b[0;34m,\u001b[0m\u001b[0;34m'Ticket'\u001b[0m\u001b[0;34m,\u001b[0m\u001b[0;34m'PassengerId'\u001b[0m\u001b[0;34m]\u001b[0m\u001b[0;34m\u001b[0m\u001b[0m\n\u001b[1;32m      3\u001b[0m \u001b[0mtrain\u001b[0m \u001b[0;34m=\u001b[0m \u001b[0mtrain_p\u001b[0m\u001b[0;34m.\u001b[0m\u001b[0mdrop\u001b[0m\u001b[0;34m(\u001b[0m\u001b[0mignore\u001b[0m\u001b[0;34m,\u001b[0m\u001b[0maxis\u001b[0m\u001b[0;34m=\u001b[0m\u001b[0;36m1\u001b[0m\u001b[0;34m)\u001b[0m\u001b[0;34m\u001b[0m\u001b[0m\n",
      "\u001b[0;32m<ipython-input-47-0d9986f4af94>\u001b[0m in \u001b[0;36mpreprocess\u001b[0;34m(data)\u001b[0m\n\u001b[1;32m     23\u001b[0m     \u001b[0miters\u001b[0m \u001b[0;34m=\u001b[0m \u001b[0;36m0\u001b[0m\u001b[0;34m\u001b[0m\u001b[0m\n\u001b[1;32m     24\u001b[0m     \u001b[0;32mwhile\u001b[0m \u001b[0miters\u001b[0m \u001b[0;34m<\u001b[0m \u001b[0mlen\u001b[0m\u001b[0;34m(\u001b[0m\u001b[0mcategorical\u001b[0m\u001b[0;34m)\u001b[0m\u001b[0;34m:\u001b[0m\u001b[0;34m\u001b[0m\u001b[0m\n\u001b[0;32m---> 25\u001b[0;31m         \u001b[0mdata\u001b[0m \u001b[0;34m=\u001b[0m \u001b[0mpreprocess_categorical\u001b[0m\u001b[0;34m(\u001b[0m\u001b[0mdata\u001b[0m\u001b[0;34m,\u001b[0m\u001b[0mcategorical\u001b[0m\u001b[0;34m[\u001b[0m\u001b[0miters\u001b[0m\u001b[0;34m]\u001b[0m\u001b[0;34m)\u001b[0m\u001b[0;34m\u001b[0m\u001b[0m\n\u001b[0m\u001b[1;32m     26\u001b[0m         \u001b[0miters\u001b[0m \u001b[0;34m+=\u001b[0m \u001b[0;36m1\u001b[0m\u001b[0;34m\u001b[0m\u001b[0m\n\u001b[1;32m     27\u001b[0m     \u001b[0mdata\u001b[0m \u001b[0;34m=\u001b[0m \u001b[0mdata\u001b[0m\u001b[0;34m.\u001b[0m\u001b[0mfillna\u001b[0m\u001b[0;34m(\u001b[0m\u001b[0mdata\u001b[0m\u001b[0;34m.\u001b[0m\u001b[0mmean\u001b[0m\u001b[0;34m(\u001b[0m\u001b[0;34m)\u001b[0m\u001b[0;34m)\u001b[0m\u001b[0;34m\u001b[0m\u001b[0m\n",
      "\u001b[0;32m<ipython-input-47-0d9986f4af94>\u001b[0m in \u001b[0;36mpreprocess_categorical\u001b[0;34m(data, column)\u001b[0m\n\u001b[1;32m      1\u001b[0m \u001b[0;32mdef\u001b[0m \u001b[0mpreprocess_categorical\u001b[0m\u001b[0;34m(\u001b[0m\u001b[0mdata\u001b[0m\u001b[0;34m,\u001b[0m\u001b[0mcolumn\u001b[0m\u001b[0;34m)\u001b[0m\u001b[0;34m:\u001b[0m\u001b[0;34m\u001b[0m\u001b[0m\n\u001b[1;32m      2\u001b[0m     \u001b[0mprocessed\u001b[0m \u001b[0;34m=\u001b[0m \u001b[0mdata\u001b[0m\u001b[0;34m.\u001b[0m\u001b[0mcopy\u001b[0m\u001b[0;34m(\u001b[0m\u001b[0;34m)\u001b[0m\u001b[0;34m\u001b[0m\u001b[0m\n\u001b[0;32m----> 3\u001b[0;31m     \u001b[0;32mfor\u001b[0m \u001b[0mstatus\u001b[0m \u001b[0;32min\u001b[0m \u001b[0mdata\u001b[0m\u001b[0;34m[\u001b[0m\u001b[0mcolumn\u001b[0m\u001b[0;34m]\u001b[0m\u001b[0;34m.\u001b[0m\u001b[0munique\u001b[0m\u001b[0;34m(\u001b[0m\u001b[0;34m)\u001b[0m\u001b[0;34m:\u001b[0m\u001b[0;34m\u001b[0m\u001b[0m\n\u001b[0m\u001b[1;32m      4\u001b[0m         \u001b[0mprocessed\u001b[0m\u001b[0;34m[\u001b[0m\u001b[0mcolumn\u001b[0m\u001b[0;34m+\u001b[0m\u001b[0;34m'_'\u001b[0m\u001b[0;34m+\u001b[0m\u001b[0mstr\u001b[0m\u001b[0;34m(\u001b[0m\u001b[0mstatus\u001b[0m\u001b[0;34m)\u001b[0m\u001b[0;34m]\u001b[0m \u001b[0;34m=\u001b[0m \u001b[0;34m(\u001b[0m\u001b[0mdata\u001b[0m\u001b[0;34m[\u001b[0m\u001b[0mcolumn\u001b[0m\u001b[0;34m]\u001b[0m\u001b[0;34m==\u001b[0m\u001b[0mstatus\u001b[0m\u001b[0;34m)\u001b[0m\u001b[0;34m.\u001b[0m\u001b[0mastype\u001b[0m\u001b[0;34m(\u001b[0m\u001b[0mint\u001b[0m\u001b[0;34m)\u001b[0m\u001b[0;34m\u001b[0m\u001b[0m\n\u001b[1;32m      5\u001b[0m     \u001b[0mprocessed\u001b[0m \u001b[0;34m=\u001b[0m \u001b[0mprocessed\u001b[0m\u001b[0;34m.\u001b[0m\u001b[0mdrop\u001b[0m\u001b[0;34m(\u001b[0m\u001b[0mcolumn\u001b[0m\u001b[0;34m,\u001b[0m\u001b[0maxis\u001b[0m\u001b[0;34m=\u001b[0m\u001b[0;36m1\u001b[0m\u001b[0;34m)\u001b[0m\u001b[0;34m\u001b[0m\u001b[0m\n",
      "\u001b[0;32m/Users/mayen/anaconda/lib/python2.7/site-packages/pandas/core/base.pyc\u001b[0m in \u001b[0;36munique\u001b[0;34m(self)\u001b[0m\n\u001b[1;32m    453\u001b[0m             \u001b[0;32mreturn\u001b[0m \u001b[0mvalues\u001b[0m\u001b[0;34m.\u001b[0m\u001b[0munique\u001b[0m\u001b[0;34m(\u001b[0m\u001b[0;34m)\u001b[0m\u001b[0;34m\u001b[0m\u001b[0m\n\u001b[1;32m    454\u001b[0m \u001b[0;34m\u001b[0m\u001b[0m\n\u001b[0;32m--> 455\u001b[0;31m         \u001b[0;32mreturn\u001b[0m \u001b[0munique1d\u001b[0m\u001b[0;34m(\u001b[0m\u001b[0mvalues\u001b[0m\u001b[0;34m)\u001b[0m\u001b[0;34m\u001b[0m\u001b[0m\n\u001b[0m\u001b[1;32m    456\u001b[0m \u001b[0;34m\u001b[0m\u001b[0m\n\u001b[1;32m    457\u001b[0m     \u001b[0;32mdef\u001b[0m \u001b[0mnunique\u001b[0m\u001b[0;34m(\u001b[0m\u001b[0mself\u001b[0m\u001b[0;34m,\u001b[0m \u001b[0mdropna\u001b[0m\u001b[0;34m=\u001b[0m\u001b[0mTrue\u001b[0m\u001b[0;34m)\u001b[0m\u001b[0;34m:\u001b[0m\u001b[0;34m\u001b[0m\u001b[0m\n",
      "\u001b[0;32m/Users/mayen/anaconda/lib/python2.7/site-packages/pandas/core/nanops.pyc\u001b[0m in \u001b[0;36munique1d\u001b[0;34m(values)\u001b[0m\n\u001b[1;32m    751\u001b[0m     \u001b[0;32melse\u001b[0m\u001b[0;34m:\u001b[0m\u001b[0;34m\u001b[0m\u001b[0m\n\u001b[1;32m    752\u001b[0m         \u001b[0mtable\u001b[0m \u001b[0;34m=\u001b[0m \u001b[0m_hash\u001b[0m\u001b[0;34m.\u001b[0m\u001b[0mPyObjectHashTable\u001b[0m\u001b[0;34m(\u001b[0m\u001b[0mlen\u001b[0m\u001b[0;34m(\u001b[0m\u001b[0mvalues\u001b[0m\u001b[0;34m)\u001b[0m\u001b[0;34m)\u001b[0m\u001b[0;34m\u001b[0m\u001b[0m\n\u001b[0;32m--> 753\u001b[0;31m         \u001b[0muniques\u001b[0m \u001b[0;34m=\u001b[0m \u001b[0mtable\u001b[0m\u001b[0;34m.\u001b[0m\u001b[0munique\u001b[0m\u001b[0;34m(\u001b[0m\u001b[0m_ensure_object\u001b[0m\u001b[0;34m(\u001b[0m\u001b[0mvalues\u001b[0m\u001b[0;34m)\u001b[0m\u001b[0;34m)\u001b[0m\u001b[0;34m\u001b[0m\u001b[0m\n\u001b[0m\u001b[1;32m    754\u001b[0m     \u001b[0;32mreturn\u001b[0m \u001b[0muniques\u001b[0m\u001b[0;34m\u001b[0m\u001b[0m\n",
      "\u001b[0;32mpandas/hashtable.pyx\u001b[0m in \u001b[0;36mpandas.hashtable.PyObjectHashTable.unique (pandas/hashtable.c:13637)\u001b[0;34m()\u001b[0m\n",
      "\u001b[0;31mTypeError\u001b[0m: unhashable type: 'list'"
     ]
    }
   ],
   "source": [
    "train_p = preprocess(train_raw)\n",
    "ignore = ['Name','Ticket','PassengerId']\n",
    "train = train_p.drop(ignore,axis=1)"
   ]
  },
  {
   "cell_type": "code",
   "execution_count": 6,
   "metadata": {
    "collapsed": false
   },
   "outputs": [
    {
     "data": {
      "text/html": [
       "<div>\n",
       "<table border=\"1\" class=\"dataframe\">\n",
       "  <thead>\n",
       "    <tr style=\"text-align: right;\">\n",
       "      <th></th>\n",
       "      <th>PassengerId</th>\n",
       "      <th>Survived</th>\n",
       "      <th>Pclass</th>\n",
       "      <th>Age</th>\n",
       "      <th>SibSp</th>\n",
       "      <th>Parch</th>\n",
       "      <th>Fare</th>\n",
       "      <th>Sex_male</th>\n",
       "      <th>Sex_female</th>\n",
       "      <th>Embarked_S</th>\n",
       "      <th>...</th>\n",
       "      <th>Title_Mme.</th>\n",
       "      <th>Title_Ms.</th>\n",
       "      <th>Title_Major.</th>\n",
       "      <th>Title_Lady.</th>\n",
       "      <th>Title_Sir.</th>\n",
       "      <th>Title_Mlle.</th>\n",
       "      <th>Title_Col.</th>\n",
       "      <th>Title_Capt.</th>\n",
       "      <th>Title_the</th>\n",
       "      <th>Title_Jonkheer.</th>\n",
       "    </tr>\n",
       "  </thead>\n",
       "  <tbody>\n",
       "    <tr>\n",
       "      <th>count</th>\n",
       "      <td>891.000000</td>\n",
       "      <td>891.000000</td>\n",
       "      <td>891.000000</td>\n",
       "      <td>891.000000</td>\n",
       "      <td>891.000000</td>\n",
       "      <td>891.000000</td>\n",
       "      <td>891.000000</td>\n",
       "      <td>891.000000</td>\n",
       "      <td>891.000000</td>\n",
       "      <td>891.000000</td>\n",
       "      <td>...</td>\n",
       "      <td>891.000000</td>\n",
       "      <td>891.000000</td>\n",
       "      <td>891.000000</td>\n",
       "      <td>891.000000</td>\n",
       "      <td>891.000000</td>\n",
       "      <td>891.000000</td>\n",
       "      <td>891.000000</td>\n",
       "      <td>891.000000</td>\n",
       "      <td>891.000000</td>\n",
       "      <td>891.000000</td>\n",
       "    </tr>\n",
       "    <tr>\n",
       "      <th>mean</th>\n",
       "      <td>446.000000</td>\n",
       "      <td>0.383838</td>\n",
       "      <td>2.308642</td>\n",
       "      <td>29.699118</td>\n",
       "      <td>0.523008</td>\n",
       "      <td>0.381594</td>\n",
       "      <td>32.204208</td>\n",
       "      <td>0.647587</td>\n",
       "      <td>0.352413</td>\n",
       "      <td>0.722783</td>\n",
       "      <td>...</td>\n",
       "      <td>0.001122</td>\n",
       "      <td>0.001122</td>\n",
       "      <td>0.002245</td>\n",
       "      <td>0.001122</td>\n",
       "      <td>0.001122</td>\n",
       "      <td>0.002245</td>\n",
       "      <td>0.002245</td>\n",
       "      <td>0.001122</td>\n",
       "      <td>0.001122</td>\n",
       "      <td>0.001122</td>\n",
       "    </tr>\n",
       "    <tr>\n",
       "      <th>std</th>\n",
       "      <td>257.353842</td>\n",
       "      <td>0.486592</td>\n",
       "      <td>0.836071</td>\n",
       "      <td>13.002015</td>\n",
       "      <td>1.102743</td>\n",
       "      <td>0.806057</td>\n",
       "      <td>49.693429</td>\n",
       "      <td>0.477990</td>\n",
       "      <td>0.477990</td>\n",
       "      <td>0.447876</td>\n",
       "      <td>...</td>\n",
       "      <td>0.033501</td>\n",
       "      <td>0.033501</td>\n",
       "      <td>0.047351</td>\n",
       "      <td>0.033501</td>\n",
       "      <td>0.033501</td>\n",
       "      <td>0.047351</td>\n",
       "      <td>0.047351</td>\n",
       "      <td>0.033501</td>\n",
       "      <td>0.033501</td>\n",
       "      <td>0.033501</td>\n",
       "    </tr>\n",
       "    <tr>\n",
       "      <th>min</th>\n",
       "      <td>1.000000</td>\n",
       "      <td>0.000000</td>\n",
       "      <td>1.000000</td>\n",
       "      <td>0.420000</td>\n",
       "      <td>0.000000</td>\n",
       "      <td>0.000000</td>\n",
       "      <td>0.000000</td>\n",
       "      <td>0.000000</td>\n",
       "      <td>0.000000</td>\n",
       "      <td>0.000000</td>\n",
       "      <td>...</td>\n",
       "      <td>0.000000</td>\n",
       "      <td>0.000000</td>\n",
       "      <td>0.000000</td>\n",
       "      <td>0.000000</td>\n",
       "      <td>0.000000</td>\n",
       "      <td>0.000000</td>\n",
       "      <td>0.000000</td>\n",
       "      <td>0.000000</td>\n",
       "      <td>0.000000</td>\n",
       "      <td>0.000000</td>\n",
       "    </tr>\n",
       "    <tr>\n",
       "      <th>25%</th>\n",
       "      <td>223.500000</td>\n",
       "      <td>0.000000</td>\n",
       "      <td>2.000000</td>\n",
       "      <td>22.000000</td>\n",
       "      <td>0.000000</td>\n",
       "      <td>0.000000</td>\n",
       "      <td>7.910400</td>\n",
       "      <td>0.000000</td>\n",
       "      <td>0.000000</td>\n",
       "      <td>0.000000</td>\n",
       "      <td>...</td>\n",
       "      <td>0.000000</td>\n",
       "      <td>0.000000</td>\n",
       "      <td>0.000000</td>\n",
       "      <td>0.000000</td>\n",
       "      <td>0.000000</td>\n",
       "      <td>0.000000</td>\n",
       "      <td>0.000000</td>\n",
       "      <td>0.000000</td>\n",
       "      <td>0.000000</td>\n",
       "      <td>0.000000</td>\n",
       "    </tr>\n",
       "    <tr>\n",
       "      <th>50%</th>\n",
       "      <td>446.000000</td>\n",
       "      <td>0.000000</td>\n",
       "      <td>3.000000</td>\n",
       "      <td>29.699118</td>\n",
       "      <td>0.000000</td>\n",
       "      <td>0.000000</td>\n",
       "      <td>14.454200</td>\n",
       "      <td>1.000000</td>\n",
       "      <td>0.000000</td>\n",
       "      <td>1.000000</td>\n",
       "      <td>...</td>\n",
       "      <td>0.000000</td>\n",
       "      <td>0.000000</td>\n",
       "      <td>0.000000</td>\n",
       "      <td>0.000000</td>\n",
       "      <td>0.000000</td>\n",
       "      <td>0.000000</td>\n",
       "      <td>0.000000</td>\n",
       "      <td>0.000000</td>\n",
       "      <td>0.000000</td>\n",
       "      <td>0.000000</td>\n",
       "    </tr>\n",
       "    <tr>\n",
       "      <th>75%</th>\n",
       "      <td>668.500000</td>\n",
       "      <td>1.000000</td>\n",
       "      <td>3.000000</td>\n",
       "      <td>35.000000</td>\n",
       "      <td>1.000000</td>\n",
       "      <td>0.000000</td>\n",
       "      <td>31.000000</td>\n",
       "      <td>1.000000</td>\n",
       "      <td>1.000000</td>\n",
       "      <td>1.000000</td>\n",
       "      <td>...</td>\n",
       "      <td>0.000000</td>\n",
       "      <td>0.000000</td>\n",
       "      <td>0.000000</td>\n",
       "      <td>0.000000</td>\n",
       "      <td>0.000000</td>\n",
       "      <td>0.000000</td>\n",
       "      <td>0.000000</td>\n",
       "      <td>0.000000</td>\n",
       "      <td>0.000000</td>\n",
       "      <td>0.000000</td>\n",
       "    </tr>\n",
       "    <tr>\n",
       "      <th>max</th>\n",
       "      <td>891.000000</td>\n",
       "      <td>1.000000</td>\n",
       "      <td>3.000000</td>\n",
       "      <td>80.000000</td>\n",
       "      <td>8.000000</td>\n",
       "      <td>6.000000</td>\n",
       "      <td>512.329200</td>\n",
       "      <td>1.000000</td>\n",
       "      <td>1.000000</td>\n",
       "      <td>1.000000</td>\n",
       "      <td>...</td>\n",
       "      <td>1.000000</td>\n",
       "      <td>1.000000</td>\n",
       "      <td>1.000000</td>\n",
       "      <td>1.000000</td>\n",
       "      <td>1.000000</td>\n",
       "      <td>1.000000</td>\n",
       "      <td>1.000000</td>\n",
       "      <td>1.000000</td>\n",
       "      <td>1.000000</td>\n",
       "      <td>1.000000</td>\n",
       "    </tr>\n",
       "  </tbody>\n",
       "</table>\n",
       "<p>8 rows × 39 columns</p>\n",
       "</div>"
      ],
      "text/plain": [
       "       PassengerId    Survived      Pclass         Age       SibSp  \\\n",
       "count   891.000000  891.000000  891.000000  891.000000  891.000000   \n",
       "mean    446.000000    0.383838    2.308642   29.699118    0.523008   \n",
       "std     257.353842    0.486592    0.836071   13.002015    1.102743   \n",
       "min       1.000000    0.000000    1.000000    0.420000    0.000000   \n",
       "25%     223.500000    0.000000    2.000000   22.000000    0.000000   \n",
       "50%     446.000000    0.000000    3.000000   29.699118    0.000000   \n",
       "75%     668.500000    1.000000    3.000000   35.000000    1.000000   \n",
       "max     891.000000    1.000000    3.000000   80.000000    8.000000   \n",
       "\n",
       "            Parch        Fare    Sex_male  Sex_female  Embarked_S  \\\n",
       "count  891.000000  891.000000  891.000000  891.000000  891.000000   \n",
       "mean     0.381594   32.204208    0.647587    0.352413    0.722783   \n",
       "std      0.806057   49.693429    0.477990    0.477990    0.447876   \n",
       "min      0.000000    0.000000    0.000000    0.000000    0.000000   \n",
       "25%      0.000000    7.910400    0.000000    0.000000    0.000000   \n",
       "50%      0.000000   14.454200    1.000000    0.000000    1.000000   \n",
       "75%      0.000000   31.000000    1.000000    1.000000    1.000000   \n",
       "max      6.000000  512.329200    1.000000    1.000000    1.000000   \n",
       "\n",
       "            ...         Title_Mme.   Title_Ms.  Title_Major.  Title_Lady.  \\\n",
       "count       ...         891.000000  891.000000    891.000000   891.000000   \n",
       "mean        ...           0.001122    0.001122      0.002245     0.001122   \n",
       "std         ...           0.033501    0.033501      0.047351     0.033501   \n",
       "min         ...           0.000000    0.000000      0.000000     0.000000   \n",
       "25%         ...           0.000000    0.000000      0.000000     0.000000   \n",
       "50%         ...           0.000000    0.000000      0.000000     0.000000   \n",
       "75%         ...           0.000000    0.000000      0.000000     0.000000   \n",
       "max         ...           1.000000    1.000000      1.000000     1.000000   \n",
       "\n",
       "       Title_Sir.  Title_Mlle.  Title_Col.  Title_Capt.   Title_the  \\\n",
       "count  891.000000   891.000000  891.000000   891.000000  891.000000   \n",
       "mean     0.001122     0.002245    0.002245     0.001122    0.001122   \n",
       "std      0.033501     0.047351    0.047351     0.033501    0.033501   \n",
       "min      0.000000     0.000000    0.000000     0.000000    0.000000   \n",
       "25%      0.000000     0.000000    0.000000     0.000000    0.000000   \n",
       "50%      0.000000     0.000000    0.000000     0.000000    0.000000   \n",
       "75%      0.000000     0.000000    0.000000     0.000000    0.000000   \n",
       "max      1.000000     1.000000    1.000000     1.000000    1.000000   \n",
       "\n",
       "       Title_Jonkheer.  \n",
       "count       891.000000  \n",
       "mean          0.001122  \n",
       "std           0.033501  \n",
       "min           0.000000  \n",
       "25%           0.000000  \n",
       "50%           0.000000  \n",
       "75%           0.000000  \n",
       "max           1.000000  \n",
       "\n",
       "[8 rows x 39 columns]"
      ]
     },
     "execution_count": 6,
     "metadata": {},
     "output_type": "execute_result"
    }
   ],
   "source": [
    "train_p.describe()"
   ]
  },
  {
   "cell_type": "code",
   "execution_count": 7,
   "metadata": {
    "collapsed": false
   },
   "outputs": [
    {
     "data": {
      "text/html": [
       "<div>\n",
       "<table border=\"1\" class=\"dataframe\">\n",
       "  <thead>\n",
       "    <tr style=\"text-align: right;\">\n",
       "      <th></th>\n",
       "      <th>Pclass</th>\n",
       "      <th>Age</th>\n",
       "      <th>SibSp</th>\n",
       "      <th>Parch</th>\n",
       "      <th>Fare</th>\n",
       "      <th>Sex_male</th>\n",
       "      <th>Sex_female</th>\n",
       "      <th>Embarked_S</th>\n",
       "      <th>Embarked_C</th>\n",
       "      <th>Embarked_Q</th>\n",
       "      <th>...</th>\n",
       "      <th>Title_Mme.</th>\n",
       "      <th>Title_Ms.</th>\n",
       "      <th>Title_Major.</th>\n",
       "      <th>Title_Lady.</th>\n",
       "      <th>Title_Sir.</th>\n",
       "      <th>Title_Mlle.</th>\n",
       "      <th>Title_Col.</th>\n",
       "      <th>Title_Capt.</th>\n",
       "      <th>Title_the</th>\n",
       "      <th>Title_Jonkheer.</th>\n",
       "    </tr>\n",
       "  </thead>\n",
       "  <tbody>\n",
       "    <tr>\n",
       "      <th>count</th>\n",
       "      <td>891.000000</td>\n",
       "      <td>891.000000</td>\n",
       "      <td>891.000000</td>\n",
       "      <td>891.000000</td>\n",
       "      <td>891.000000</td>\n",
       "      <td>891.000000</td>\n",
       "      <td>891.000000</td>\n",
       "      <td>891.000000</td>\n",
       "      <td>891.000000</td>\n",
       "      <td>891.000000</td>\n",
       "      <td>...</td>\n",
       "      <td>891.000000</td>\n",
       "      <td>891.000000</td>\n",
       "      <td>891.000000</td>\n",
       "      <td>891.000000</td>\n",
       "      <td>891.000000</td>\n",
       "      <td>891.000000</td>\n",
       "      <td>891.000000</td>\n",
       "      <td>891.000000</td>\n",
       "      <td>891.000000</td>\n",
       "      <td>891.000000</td>\n",
       "    </tr>\n",
       "    <tr>\n",
       "      <th>mean</th>\n",
       "      <td>2.308642</td>\n",
       "      <td>29.699118</td>\n",
       "      <td>0.523008</td>\n",
       "      <td>0.381594</td>\n",
       "      <td>32.204208</td>\n",
       "      <td>0.647587</td>\n",
       "      <td>0.352413</td>\n",
       "      <td>0.722783</td>\n",
       "      <td>0.188552</td>\n",
       "      <td>0.086420</td>\n",
       "      <td>...</td>\n",
       "      <td>0.001122</td>\n",
       "      <td>0.001122</td>\n",
       "      <td>0.002245</td>\n",
       "      <td>0.001122</td>\n",
       "      <td>0.001122</td>\n",
       "      <td>0.002245</td>\n",
       "      <td>0.002245</td>\n",
       "      <td>0.001122</td>\n",
       "      <td>0.001122</td>\n",
       "      <td>0.001122</td>\n",
       "    </tr>\n",
       "    <tr>\n",
       "      <th>std</th>\n",
       "      <td>0.836071</td>\n",
       "      <td>13.002015</td>\n",
       "      <td>1.102743</td>\n",
       "      <td>0.806057</td>\n",
       "      <td>49.693429</td>\n",
       "      <td>0.477990</td>\n",
       "      <td>0.477990</td>\n",
       "      <td>0.447876</td>\n",
       "      <td>0.391372</td>\n",
       "      <td>0.281141</td>\n",
       "      <td>...</td>\n",
       "      <td>0.033501</td>\n",
       "      <td>0.033501</td>\n",
       "      <td>0.047351</td>\n",
       "      <td>0.033501</td>\n",
       "      <td>0.033501</td>\n",
       "      <td>0.047351</td>\n",
       "      <td>0.047351</td>\n",
       "      <td>0.033501</td>\n",
       "      <td>0.033501</td>\n",
       "      <td>0.033501</td>\n",
       "    </tr>\n",
       "    <tr>\n",
       "      <th>min</th>\n",
       "      <td>1.000000</td>\n",
       "      <td>0.420000</td>\n",
       "      <td>0.000000</td>\n",
       "      <td>0.000000</td>\n",
       "      <td>0.000000</td>\n",
       "      <td>0.000000</td>\n",
       "      <td>0.000000</td>\n",
       "      <td>0.000000</td>\n",
       "      <td>0.000000</td>\n",
       "      <td>0.000000</td>\n",
       "      <td>...</td>\n",
       "      <td>0.000000</td>\n",
       "      <td>0.000000</td>\n",
       "      <td>0.000000</td>\n",
       "      <td>0.000000</td>\n",
       "      <td>0.000000</td>\n",
       "      <td>0.000000</td>\n",
       "      <td>0.000000</td>\n",
       "      <td>0.000000</td>\n",
       "      <td>0.000000</td>\n",
       "      <td>0.000000</td>\n",
       "    </tr>\n",
       "    <tr>\n",
       "      <th>25%</th>\n",
       "      <td>2.000000</td>\n",
       "      <td>22.000000</td>\n",
       "      <td>0.000000</td>\n",
       "      <td>0.000000</td>\n",
       "      <td>7.910400</td>\n",
       "      <td>0.000000</td>\n",
       "      <td>0.000000</td>\n",
       "      <td>0.000000</td>\n",
       "      <td>0.000000</td>\n",
       "      <td>0.000000</td>\n",
       "      <td>...</td>\n",
       "      <td>0.000000</td>\n",
       "      <td>0.000000</td>\n",
       "      <td>0.000000</td>\n",
       "      <td>0.000000</td>\n",
       "      <td>0.000000</td>\n",
       "      <td>0.000000</td>\n",
       "      <td>0.000000</td>\n",
       "      <td>0.000000</td>\n",
       "      <td>0.000000</td>\n",
       "      <td>0.000000</td>\n",
       "    </tr>\n",
       "    <tr>\n",
       "      <th>50%</th>\n",
       "      <td>3.000000</td>\n",
       "      <td>29.699118</td>\n",
       "      <td>0.000000</td>\n",
       "      <td>0.000000</td>\n",
       "      <td>14.454200</td>\n",
       "      <td>1.000000</td>\n",
       "      <td>0.000000</td>\n",
       "      <td>1.000000</td>\n",
       "      <td>0.000000</td>\n",
       "      <td>0.000000</td>\n",
       "      <td>...</td>\n",
       "      <td>0.000000</td>\n",
       "      <td>0.000000</td>\n",
       "      <td>0.000000</td>\n",
       "      <td>0.000000</td>\n",
       "      <td>0.000000</td>\n",
       "      <td>0.000000</td>\n",
       "      <td>0.000000</td>\n",
       "      <td>0.000000</td>\n",
       "      <td>0.000000</td>\n",
       "      <td>0.000000</td>\n",
       "    </tr>\n",
       "    <tr>\n",
       "      <th>75%</th>\n",
       "      <td>3.000000</td>\n",
       "      <td>35.000000</td>\n",
       "      <td>1.000000</td>\n",
       "      <td>0.000000</td>\n",
       "      <td>31.000000</td>\n",
       "      <td>1.000000</td>\n",
       "      <td>1.000000</td>\n",
       "      <td>1.000000</td>\n",
       "      <td>0.000000</td>\n",
       "      <td>0.000000</td>\n",
       "      <td>...</td>\n",
       "      <td>0.000000</td>\n",
       "      <td>0.000000</td>\n",
       "      <td>0.000000</td>\n",
       "      <td>0.000000</td>\n",
       "      <td>0.000000</td>\n",
       "      <td>0.000000</td>\n",
       "      <td>0.000000</td>\n",
       "      <td>0.000000</td>\n",
       "      <td>0.000000</td>\n",
       "      <td>0.000000</td>\n",
       "    </tr>\n",
       "    <tr>\n",
       "      <th>max</th>\n",
       "      <td>3.000000</td>\n",
       "      <td>80.000000</td>\n",
       "      <td>8.000000</td>\n",
       "      <td>6.000000</td>\n",
       "      <td>512.329200</td>\n",
       "      <td>1.000000</td>\n",
       "      <td>1.000000</td>\n",
       "      <td>1.000000</td>\n",
       "      <td>1.000000</td>\n",
       "      <td>1.000000</td>\n",
       "      <td>...</td>\n",
       "      <td>1.000000</td>\n",
       "      <td>1.000000</td>\n",
       "      <td>1.000000</td>\n",
       "      <td>1.000000</td>\n",
       "      <td>1.000000</td>\n",
       "      <td>1.000000</td>\n",
       "      <td>1.000000</td>\n",
       "      <td>1.000000</td>\n",
       "      <td>1.000000</td>\n",
       "      <td>1.000000</td>\n",
       "    </tr>\n",
       "  </tbody>\n",
       "</table>\n",
       "<p>8 rows × 37 columns</p>\n",
       "</div>"
      ],
      "text/plain": [
       "           Pclass         Age       SibSp       Parch        Fare    Sex_male  \\\n",
       "count  891.000000  891.000000  891.000000  891.000000  891.000000  891.000000   \n",
       "mean     2.308642   29.699118    0.523008    0.381594   32.204208    0.647587   \n",
       "std      0.836071   13.002015    1.102743    0.806057   49.693429    0.477990   \n",
       "min      1.000000    0.420000    0.000000    0.000000    0.000000    0.000000   \n",
       "25%      2.000000   22.000000    0.000000    0.000000    7.910400    0.000000   \n",
       "50%      3.000000   29.699118    0.000000    0.000000   14.454200    1.000000   \n",
       "75%      3.000000   35.000000    1.000000    0.000000   31.000000    1.000000   \n",
       "max      3.000000   80.000000    8.000000    6.000000  512.329200    1.000000   \n",
       "\n",
       "       Sex_female  Embarked_S  Embarked_C  Embarked_Q       ...         \\\n",
       "count  891.000000  891.000000  891.000000  891.000000       ...          \n",
       "mean     0.352413    0.722783    0.188552    0.086420       ...          \n",
       "std      0.477990    0.447876    0.391372    0.281141       ...          \n",
       "min      0.000000    0.000000    0.000000    0.000000       ...          \n",
       "25%      0.000000    0.000000    0.000000    0.000000       ...          \n",
       "50%      0.000000    1.000000    0.000000    0.000000       ...          \n",
       "75%      1.000000    1.000000    0.000000    0.000000       ...          \n",
       "max      1.000000    1.000000    1.000000    1.000000       ...          \n",
       "\n",
       "       Title_Mme.   Title_Ms.  Title_Major.  Title_Lady.  Title_Sir.  \\\n",
       "count  891.000000  891.000000    891.000000   891.000000  891.000000   \n",
       "mean     0.001122    0.001122      0.002245     0.001122    0.001122   \n",
       "std      0.033501    0.033501      0.047351     0.033501    0.033501   \n",
       "min      0.000000    0.000000      0.000000     0.000000    0.000000   \n",
       "25%      0.000000    0.000000      0.000000     0.000000    0.000000   \n",
       "50%      0.000000    0.000000      0.000000     0.000000    0.000000   \n",
       "75%      0.000000    0.000000      0.000000     0.000000    0.000000   \n",
       "max      1.000000    1.000000      1.000000     1.000000    1.000000   \n",
       "\n",
       "       Title_Mlle.  Title_Col.  Title_Capt.   Title_the  Title_Jonkheer.  \n",
       "count   891.000000  891.000000   891.000000  891.000000       891.000000  \n",
       "mean      0.002245    0.002245     0.001122    0.001122         0.001122  \n",
       "std       0.047351    0.047351     0.033501    0.033501         0.033501  \n",
       "min       0.000000    0.000000     0.000000    0.000000         0.000000  \n",
       "25%       0.000000    0.000000     0.000000    0.000000         0.000000  \n",
       "50%       0.000000    0.000000     0.000000    0.000000         0.000000  \n",
       "75%       0.000000    0.000000     0.000000    0.000000         0.000000  \n",
       "max       1.000000    1.000000     1.000000    1.000000         1.000000  \n",
       "\n",
       "[8 rows x 37 columns]"
      ]
     },
     "execution_count": 7,
     "metadata": {},
     "output_type": "execute_result"
    }
   ],
   "source": [
    "train_x = train.drop(['Survived'],axis=1)\n",
    "train_y = train['Survived'].values\n",
    "train_x.describe()"
   ]
  },
  {
   "cell_type": "code",
   "execution_count": 8,
   "metadata": {
    "collapsed": false
   },
   "outputs": [
    {
     "name": "stdout",
     "output_type": "stream",
     "text": [
      "Index([u'Pclass', u'Age', u'SibSp', u'Parch', u'Fare', u'Sex_male',\n",
      "       u'Sex_female', u'Embarked_S', u'Embarked_C', u'Embarked_Q',\n",
      "       u'Embarked_nan', u'Cabin_nan', u'Cabin_C', u'Cabin_E', u'Cabin_G',\n",
      "       u'Cabin_D', u'Cabin_A', u'Cabin_B', u'Cabin_F', u'Cabin_T',\n",
      "       u'Title_Mr.', u'Title_Mrs.', u'Title_Miss.', u'Title_Master.',\n",
      "       u'Title_Don.', u'Title_Rev.', u'Title_Dr.', u'Title_Mme.', u'Title_Ms.',\n",
      "       u'Title_Major.', u'Title_Lady.', u'Title_Sir.', u'Title_Mlle.',\n",
      "       u'Title_Col.', u'Title_Capt.', u'Title_the', u'Title_Jonkheer.'],\n",
      "      dtype='object')\n"
     ]
    },
    {
     "data": {
      "text/html": [
       "<div>\n",
       "<table border=\"1\" class=\"dataframe\">\n",
       "  <thead>\n",
       "    <tr style=\"text-align: right;\">\n",
       "      <th></th>\n",
       "      <th>Pclass</th>\n",
       "      <th>Age</th>\n",
       "      <th>SibSp</th>\n",
       "      <th>Parch</th>\n",
       "      <th>Fare</th>\n",
       "      <th>Sex_male</th>\n",
       "      <th>Sex_female</th>\n",
       "      <th>Embarked_S</th>\n",
       "      <th>Embarked_C</th>\n",
       "      <th>Embarked_Q</th>\n",
       "      <th>...</th>\n",
       "      <th>Title_Mme.</th>\n",
       "      <th>Title_Ms.</th>\n",
       "      <th>Title_Major.</th>\n",
       "      <th>Title_Lady.</th>\n",
       "      <th>Title_Sir.</th>\n",
       "      <th>Title_Mlle.</th>\n",
       "      <th>Title_Col.</th>\n",
       "      <th>Title_Capt.</th>\n",
       "      <th>Title_the</th>\n",
       "      <th>Title_Jonkheer.</th>\n",
       "    </tr>\n",
       "  </thead>\n",
       "  <tbody>\n",
       "    <tr>\n",
       "      <th>count</th>\n",
       "      <td>891.000000</td>\n",
       "      <td>891.000000</td>\n",
       "      <td>891.000000</td>\n",
       "      <td>891.000000</td>\n",
       "      <td>891.000000</td>\n",
       "      <td>891.000000</td>\n",
       "      <td>891.000000</td>\n",
       "      <td>891.000000</td>\n",
       "      <td>891.000000</td>\n",
       "      <td>891.000000</td>\n",
       "      <td>...</td>\n",
       "      <td>891.000000</td>\n",
       "      <td>891.000000</td>\n",
       "      <td>891.000000</td>\n",
       "      <td>891.000000</td>\n",
       "      <td>891.000000</td>\n",
       "      <td>891.000000</td>\n",
       "      <td>891.000000</td>\n",
       "      <td>891.000000</td>\n",
       "      <td>891.000000</td>\n",
       "      <td>891.000000</td>\n",
       "    </tr>\n",
       "    <tr>\n",
       "      <th>mean</th>\n",
       "      <td>2.308642</td>\n",
       "      <td>29.699118</td>\n",
       "      <td>0.523008</td>\n",
       "      <td>0.381594</td>\n",
       "      <td>32.204208</td>\n",
       "      <td>0.647587</td>\n",
       "      <td>0.352413</td>\n",
       "      <td>0.722783</td>\n",
       "      <td>0.188552</td>\n",
       "      <td>0.086420</td>\n",
       "      <td>...</td>\n",
       "      <td>0.001122</td>\n",
       "      <td>0.001122</td>\n",
       "      <td>0.002245</td>\n",
       "      <td>0.001122</td>\n",
       "      <td>0.001122</td>\n",
       "      <td>0.002245</td>\n",
       "      <td>0.002245</td>\n",
       "      <td>0.001122</td>\n",
       "      <td>0.001122</td>\n",
       "      <td>0.001122</td>\n",
       "    </tr>\n",
       "    <tr>\n",
       "      <th>std</th>\n",
       "      <td>0.836071</td>\n",
       "      <td>13.002015</td>\n",
       "      <td>1.102743</td>\n",
       "      <td>0.806057</td>\n",
       "      <td>49.693429</td>\n",
       "      <td>0.477990</td>\n",
       "      <td>0.477990</td>\n",
       "      <td>0.447876</td>\n",
       "      <td>0.391372</td>\n",
       "      <td>0.281141</td>\n",
       "      <td>...</td>\n",
       "      <td>0.033501</td>\n",
       "      <td>0.033501</td>\n",
       "      <td>0.047351</td>\n",
       "      <td>0.033501</td>\n",
       "      <td>0.033501</td>\n",
       "      <td>0.047351</td>\n",
       "      <td>0.047351</td>\n",
       "      <td>0.033501</td>\n",
       "      <td>0.033501</td>\n",
       "      <td>0.033501</td>\n",
       "    </tr>\n",
       "    <tr>\n",
       "      <th>min</th>\n",
       "      <td>1.000000</td>\n",
       "      <td>0.420000</td>\n",
       "      <td>0.000000</td>\n",
       "      <td>0.000000</td>\n",
       "      <td>0.000000</td>\n",
       "      <td>0.000000</td>\n",
       "      <td>0.000000</td>\n",
       "      <td>0.000000</td>\n",
       "      <td>0.000000</td>\n",
       "      <td>0.000000</td>\n",
       "      <td>...</td>\n",
       "      <td>0.000000</td>\n",
       "      <td>0.000000</td>\n",
       "      <td>0.000000</td>\n",
       "      <td>0.000000</td>\n",
       "      <td>0.000000</td>\n",
       "      <td>0.000000</td>\n",
       "      <td>0.000000</td>\n",
       "      <td>0.000000</td>\n",
       "      <td>0.000000</td>\n",
       "      <td>0.000000</td>\n",
       "    </tr>\n",
       "    <tr>\n",
       "      <th>25%</th>\n",
       "      <td>2.000000</td>\n",
       "      <td>22.000000</td>\n",
       "      <td>0.000000</td>\n",
       "      <td>0.000000</td>\n",
       "      <td>7.910400</td>\n",
       "      <td>0.000000</td>\n",
       "      <td>0.000000</td>\n",
       "      <td>0.000000</td>\n",
       "      <td>0.000000</td>\n",
       "      <td>0.000000</td>\n",
       "      <td>...</td>\n",
       "      <td>0.000000</td>\n",
       "      <td>0.000000</td>\n",
       "      <td>0.000000</td>\n",
       "      <td>0.000000</td>\n",
       "      <td>0.000000</td>\n",
       "      <td>0.000000</td>\n",
       "      <td>0.000000</td>\n",
       "      <td>0.000000</td>\n",
       "      <td>0.000000</td>\n",
       "      <td>0.000000</td>\n",
       "    </tr>\n",
       "    <tr>\n",
       "      <th>50%</th>\n",
       "      <td>3.000000</td>\n",
       "      <td>29.699118</td>\n",
       "      <td>0.000000</td>\n",
       "      <td>0.000000</td>\n",
       "      <td>14.454200</td>\n",
       "      <td>1.000000</td>\n",
       "      <td>0.000000</td>\n",
       "      <td>1.000000</td>\n",
       "      <td>0.000000</td>\n",
       "      <td>0.000000</td>\n",
       "      <td>...</td>\n",
       "      <td>0.000000</td>\n",
       "      <td>0.000000</td>\n",
       "      <td>0.000000</td>\n",
       "      <td>0.000000</td>\n",
       "      <td>0.000000</td>\n",
       "      <td>0.000000</td>\n",
       "      <td>0.000000</td>\n",
       "      <td>0.000000</td>\n",
       "      <td>0.000000</td>\n",
       "      <td>0.000000</td>\n",
       "    </tr>\n",
       "    <tr>\n",
       "      <th>75%</th>\n",
       "      <td>3.000000</td>\n",
       "      <td>35.000000</td>\n",
       "      <td>1.000000</td>\n",
       "      <td>0.000000</td>\n",
       "      <td>31.000000</td>\n",
       "      <td>1.000000</td>\n",
       "      <td>1.000000</td>\n",
       "      <td>1.000000</td>\n",
       "      <td>0.000000</td>\n",
       "      <td>0.000000</td>\n",
       "      <td>...</td>\n",
       "      <td>0.000000</td>\n",
       "      <td>0.000000</td>\n",
       "      <td>0.000000</td>\n",
       "      <td>0.000000</td>\n",
       "      <td>0.000000</td>\n",
       "      <td>0.000000</td>\n",
       "      <td>0.000000</td>\n",
       "      <td>0.000000</td>\n",
       "      <td>0.000000</td>\n",
       "      <td>0.000000</td>\n",
       "    </tr>\n",
       "    <tr>\n",
       "      <th>max</th>\n",
       "      <td>3.000000</td>\n",
       "      <td>80.000000</td>\n",
       "      <td>8.000000</td>\n",
       "      <td>6.000000</td>\n",
       "      <td>512.329200</td>\n",
       "      <td>1.000000</td>\n",
       "      <td>1.000000</td>\n",
       "      <td>1.000000</td>\n",
       "      <td>1.000000</td>\n",
       "      <td>1.000000</td>\n",
       "      <td>...</td>\n",
       "      <td>1.000000</td>\n",
       "      <td>1.000000</td>\n",
       "      <td>1.000000</td>\n",
       "      <td>1.000000</td>\n",
       "      <td>1.000000</td>\n",
       "      <td>1.000000</td>\n",
       "      <td>1.000000</td>\n",
       "      <td>1.000000</td>\n",
       "      <td>1.000000</td>\n",
       "      <td>1.000000</td>\n",
       "    </tr>\n",
       "  </tbody>\n",
       "</table>\n",
       "<p>8 rows × 37 columns</p>\n",
       "</div>"
      ],
      "text/plain": [
       "           Pclass         Age       SibSp       Parch        Fare    Sex_male  \\\n",
       "count  891.000000  891.000000  891.000000  891.000000  891.000000  891.000000   \n",
       "mean     2.308642   29.699118    0.523008    0.381594   32.204208    0.647587   \n",
       "std      0.836071   13.002015    1.102743    0.806057   49.693429    0.477990   \n",
       "min      1.000000    0.420000    0.000000    0.000000    0.000000    0.000000   \n",
       "25%      2.000000   22.000000    0.000000    0.000000    7.910400    0.000000   \n",
       "50%      3.000000   29.699118    0.000000    0.000000   14.454200    1.000000   \n",
       "75%      3.000000   35.000000    1.000000    0.000000   31.000000    1.000000   \n",
       "max      3.000000   80.000000    8.000000    6.000000  512.329200    1.000000   \n",
       "\n",
       "       Sex_female  Embarked_S  Embarked_C  Embarked_Q       ...         \\\n",
       "count  891.000000  891.000000  891.000000  891.000000       ...          \n",
       "mean     0.352413    0.722783    0.188552    0.086420       ...          \n",
       "std      0.477990    0.447876    0.391372    0.281141       ...          \n",
       "min      0.000000    0.000000    0.000000    0.000000       ...          \n",
       "25%      0.000000    0.000000    0.000000    0.000000       ...          \n",
       "50%      0.000000    1.000000    0.000000    0.000000       ...          \n",
       "75%      1.000000    1.000000    0.000000    0.000000       ...          \n",
       "max      1.000000    1.000000    1.000000    1.000000       ...          \n",
       "\n",
       "       Title_Mme.   Title_Ms.  Title_Major.  Title_Lady.  Title_Sir.  \\\n",
       "count  891.000000  891.000000    891.000000   891.000000  891.000000   \n",
       "mean     0.001122    0.001122      0.002245     0.001122    0.001122   \n",
       "std      0.033501    0.033501      0.047351     0.033501    0.033501   \n",
       "min      0.000000    0.000000      0.000000     0.000000    0.000000   \n",
       "25%      0.000000    0.000000      0.000000     0.000000    0.000000   \n",
       "50%      0.000000    0.000000      0.000000     0.000000    0.000000   \n",
       "75%      0.000000    0.000000      0.000000     0.000000    0.000000   \n",
       "max      1.000000    1.000000      1.000000     1.000000    1.000000   \n",
       "\n",
       "       Title_Mlle.  Title_Col.  Title_Capt.   Title_the  Title_Jonkheer.  \n",
       "count   891.000000  891.000000   891.000000  891.000000       891.000000  \n",
       "mean      0.002245    0.002245     0.001122    0.001122         0.001122  \n",
       "std       0.047351    0.047351     0.033501    0.033501         0.033501  \n",
       "min       0.000000    0.000000     0.000000    0.000000         0.000000  \n",
       "25%       0.000000    0.000000     0.000000    0.000000         0.000000  \n",
       "50%       0.000000    0.000000     0.000000    0.000000         0.000000  \n",
       "75%       0.000000    0.000000     0.000000    0.000000         0.000000  \n",
       "max       1.000000    1.000000     1.000000    1.000000         1.000000  \n",
       "\n",
       "[8 rows x 37 columns]"
      ]
     },
     "execution_count": 8,
     "metadata": {},
     "output_type": "execute_result"
    }
   ],
   "source": [
    "print train_x.columns\n",
    "train_x.describe()"
   ]
  },
  {
   "cell_type": "code",
   "execution_count": 9,
   "metadata": {
    "collapsed": true
   },
   "outputs": [],
   "source": [
    "clf = RandomForestClassifier(n_estimators=100,max_depth=len(train_x.columns))"
   ]
  },
  {
   "cell_type": "code",
   "execution_count": 10,
   "metadata": {
    "collapsed": false
   },
   "outputs": [
    {
     "data": {
      "text/plain": [
       "RandomForestClassifier(bootstrap=True, class_weight=None, criterion='gini',\n",
       "            max_depth=37, max_features='auto', max_leaf_nodes=None,\n",
       "            min_samples_leaf=1, min_samples_split=2,\n",
       "            min_weight_fraction_leaf=0.0, n_estimators=100, n_jobs=1,\n",
       "            oob_score=False, random_state=None, verbose=0,\n",
       "            warm_start=False)"
      ]
     },
     "execution_count": 10,
     "metadata": {},
     "output_type": "execute_result"
    }
   ],
   "source": [
    "clf.fit(train_x,train_y)"
   ]
  },
  {
   "cell_type": "markdown",
   "metadata": {},
   "source": [
    "# Naive guess on test data without and cross validation"
   ]
  },
  {
   "cell_type": "code",
   "execution_count": 11,
   "metadata": {
    "collapsed": false
   },
   "outputs": [],
   "source": [
    "test_raw = pd.read_csv('data_sets/test.csv')"
   ]
  },
  {
   "cell_type": "code",
   "execution_count": 12,
   "metadata": {
    "collapsed": false
   },
   "outputs": [
    {
     "name": "stdout",
     "output_type": "stream",
     "text": [
      "(418, 37)\n"
     ]
    }
   ],
   "source": [
    "test_x = preprocess_test(test_raw,train_x)\n",
    "print test_x.shape"
   ]
  },
  {
   "cell_type": "code",
   "execution_count": 13,
   "metadata": {
    "collapsed": false
   },
   "outputs": [
    {
     "name": "stdout",
     "output_type": "stream",
     "text": [
      "Index([u'Pclass', u'Age', u'SibSp', u'Parch', u'Fare', u'Sex_male',\n",
      "       u'Sex_female', u'Embarked_Q', u'Embarked_S', u'Embarked_C',\n",
      "       u'Cabin_nan', u'Cabin_B', u'Cabin_E', u'Cabin_A', u'Cabin_C',\n",
      "       u'Cabin_D', u'Cabin_F', u'Cabin_G', u'Title_Mr.', u'Title_Mrs.',\n",
      "       u'Title_Miss.', u'Title_Master.', u'Title_Ms.', u'Title_Col.',\n",
      "       u'Title_Rev.', u'Title_Dr.', u'Embarked_nan', u'Cabin_T', u'Title_Don.',\n",
      "       u'Title_Mme.', u'Title_Major.', u'Title_Lady.', u'Title_Sir.',\n",
      "       u'Title_Mlle.', u'Title_Capt.', u'Title_the', u'Title_Jonkheer.'],\n",
      "      dtype='object')\n",
      "Index([u'Pclass', u'Age', u'SibSp', u'Parch', u'Fare', u'Sex_male',\n",
      "       u'Sex_female', u'Embarked_S', u'Embarked_C', u'Embarked_Q',\n",
      "       u'Embarked_nan', u'Cabin_nan', u'Cabin_C', u'Cabin_E', u'Cabin_G',\n",
      "       u'Cabin_D', u'Cabin_A', u'Cabin_B', u'Cabin_F', u'Cabin_T',\n",
      "       u'Title_Mr.', u'Title_Mrs.', u'Title_Miss.', u'Title_Master.',\n",
      "       u'Title_Don.', u'Title_Rev.', u'Title_Dr.', u'Title_Mme.', u'Title_Ms.',\n",
      "       u'Title_Major.', u'Title_Lady.', u'Title_Sir.', u'Title_Mlle.',\n",
      "       u'Title_Col.', u'Title_Capt.', u'Title_the', u'Title_Jonkheer.'],\n",
      "      dtype='object')\n"
     ]
    }
   ],
   "source": [
    "print test_x.columns\n",
    "print train_x.columns"
   ]
  },
  {
   "cell_type": "code",
   "execution_count": 14,
   "metadata": {
    "collapsed": false
   },
   "outputs": [
    {
     "name": "stdout",
     "output_type": "stream",
     "text": [
      "[0 0 0 0 1 1 0 0 1 0 0 0 1 0 1 1 0 0 0 0 0 1 1 0 1 0 1 0 1 0 0 0 1 1 0 0 0\n",
      " 1 0 0 0 0 0 1 1 0 1 0 1 0 1 0 1 1 0 0 0 0 0 1 1 0 1 1 1 1 0 0 0 1 0 1 1 0\n",
      " 1 0 0 1 0 0 0 0 0 0 0 0 1 1 0 1 1 0 1 0 0 0 1 1 1 0 1 0 0 1 1 0 0 0 0 0 0\n",
      " 0 1 1 1 0 0 1 0 1 1 0 1 0 0 0 0 0 0 0 0 0 1 0 0 0 0 0 1 0 0 1 0 0 0 0 1 0\n",
      " 0 0 1 0 0 0 0 0 1 1 0 1 0 0 1 0 0 1 0 0 1 1 0 0 0 0 0 1 1 0 1 1 0 0 1 0 1\n",
      " 0 1 0 0 0 0 0 1 0 1 0 1 1 0 1 1 1 0 1 0 0 0 0 1 0 0 0 0 1 0 0 0 1 1 0 1 1\n",
      " 1 1 1 0 0 0 0 0 0 1 0 0 0 1 0 0 1 1 1 1 0 0 0 1 1 0 1 1 1 1 0 0 0 0 0 0 1\n",
      " 1 0 1 1 1 0 0 0 0 0 0 0 0 1 0 0 1 0 0 0 0 1 1 0 0 1 0 0 0 0 0 0 0 0 0 0 1\n",
      " 1 0 0 1 0 0 0 0 0 1 0 1 0 0 0 0 0 0 1 0 0 0 1 0 1 0 0 0 1 1 1 0 0 0 1 1 0\n",
      " 1 1 0 0 0 0 0 0 0 1 1 0 1 0 0 0 1 1 0 0 0 1 0 1 0 0 0 0 1 1 0 1 1 0 1 1 0\n",
      " 0 1 0 0 1 1 1 0 0 0 0 0 0 1 0 1 0 0 0 0 0 1 1 0 0 1 0 1 0 0 1 0 1 0 0 0 0\n",
      " 0 0 1 0 1 1 0 1 0 0 0]\n"
     ]
    }
   ],
   "source": [
    "predictions = clf.predict(test_x)\n",
    "print predictions"
   ]
  },
  {
   "cell_type": "code",
   "execution_count": 15,
   "metadata": {
    "collapsed": false
   },
   "outputs": [],
   "source": [
    "np.savetxt('titanic_RF_naive.csv',\n",
    "           np.c_[test_raw['PassengerId'],predictions],\n",
    "           delimiter=',',\n",
    "           header='PassengerId,Survived',\n",
    "           fmt='%d',\n",
    "           comments='')"
   ]
  },
  {
   "cell_type": "markdown",
   "metadata": {},
   "source": [
    "# Lets try a less Naive Guess"
   ]
  },
  {
   "cell_type": "code",
   "execution_count": 16,
   "metadata": {
    "collapsed": true
   },
   "outputs": [],
   "source": [
    "X_train, X_valid, Y_train, Y_valid = train_test_split(train_x, train_y, test_size=0.15, random_state=0)"
   ]
  },
  {
   "cell_type": "code",
   "execution_count": 17,
   "metadata": {
    "collapsed": true
   },
   "outputs": [],
   "source": [
    "def cross_validation(train_x,train_y,p_range,k=50,parameter='n_estimators',**kwargs):\n",
    "    X_train, X_valid, Y_train, Y_valid = train_test_split(train_x, train_y, test_size=0.15, random_state=0)\n",
    "    errors = []\n",
    "    for p in p_range:\n",
    "        kfold = KFold(len(X_train), n_folds=k,shuffle=True,random_state=0)\n",
    "        error = 0\n",
    "        params = dict({parameter:p},**kwargs)\n",
    "        for train_index, val_index in kfold:\n",
    "            x_train = X_train.iloc[train_index]\n",
    "            y_train = Y_train[train_index]\n",
    "            x_val = X_train.iloc[val_index]\n",
    "            y_val = Y_train[val_index]\n",
    "            clf = RandomForestClassifier(**params)\n",
    "            clf.fit(x_train,y_train)\n",
    "            predictions = clf.predict(x_val)\n",
    "            err = np.sum((predictions != y_val),dtype=float)/len(y_val)\n",
    "            error += err/k\n",
    "        print p,':',error\n",
    "        errors.append(error)\n",
    "    best = p_range[np.argmin(errors)]\n",
    "    return best,errors"
   ]
  },
  {
   "cell_type": "code",
   "execution_count": 18,
   "metadata": {
    "collapsed": false
   },
   "outputs": [
    {
     "name": "stdout",
     "output_type": "stream",
     "text": [
      "1 : 0.237416666667\n",
      "10 : 0.194416666667\n",
      "100 : 0.192916666667\n",
      "1000 : 0.19425\n"
     ]
    }
   ],
   "source": [
    "estim_range = np.logspace(0,3,4,dtype=int)\n",
    "args = {'max_depth':len(train_x.columns)}\n",
    "best_estimator,estim_errors = cross_validation(train_x,train_y,estim_range,k=50,parameter='n_estimators',**args)"
   ]
  },
  {
   "cell_type": "code",
   "execution_count": 19,
   "metadata": {
    "collapsed": false
   },
   "outputs": [
    {
     "name": "stdout",
     "output_type": "stream",
     "text": [
      "1 : 0.2125\n",
      "2 : 0.2085\n",
      "3 : 0.191416666667\n",
      "4 : 0.183583333333\n",
      "5 : 0.169\n",
      "6 : 0.165\n",
      "7 : 0.1585\n",
      "8 : 0.1705\n",
      "9 : 0.171666666667\n",
      "10 : 0.174416666667\n",
      "11 : 0.177\n",
      "12 : 0.182333333333\n",
      "13 : 0.177\n",
      "14 : 0.177083333333\n",
      "15 : 0.179666666667\n",
      "16 : 0.186333333333\n",
      "17 : 0.182333333333\n",
      "18 : 0.187416666667\n",
      "19 : 0.183583333333\n",
      "20 : 0.188916666667\n",
      "21 : 0.196916666667\n",
      "22 : 0.20225\n",
      "23 : 0.19025\n",
      "24 : 0.192833333333\n",
      "25 : 0.1995\n",
      "26 : 0.1915\n",
      "27 : 0.200833333333\n",
      "28 : 0.191583333333\n",
      "29 : 0.1955\n",
      "30 : 0.198166666667\n",
      "31 : 0.194166666667\n",
      "32 : 0.1955\n",
      "33 : 0.1915\n",
      "34 : 0.1955\n",
      "35 : 0.190083333333\n",
      "36 : 0.196916666667\n",
      "37 : 0.187583333333\n",
      "38 : 0.195583333333\n",
      "39 : 0.19025\n",
      "40 : 0.19025\n",
      "41 : 0.198166666667\n",
      "42 : 0.1955\n",
      "43 : 0.190166666667\n",
      "44 : 0.196916666667\n",
      "45 : 0.199416666667\n",
      "46 : 0.188916666667\n",
      "47 : 0.195666666667\n",
      "48 : 0.193\n",
      "49 : 0.190166666667\n",
      "50 : 0.1955\n",
      "51 : 0.192916666667\n",
      "52 : 0.1955\n",
      "53 : 0.191666666667\n",
      "54 : 0.199583333333\n",
      "55 : 0.19425\n",
      "56 : 0.190166666667\n",
      "57 : 0.191583333333\n",
      "58 : 0.194166666667\n",
      "59 : 0.19425\n",
      "60 : 0.18625\n",
      "61 : 0.191583333333\n",
      "62 : 0.1955\n",
      "63 : 0.189\n",
      "64 : 0.1995\n",
      "65 : 0.1915\n",
      "66 : 0.1955\n",
      "67 : 0.192833333333\n",
      "68 : 0.194166666667\n",
      "69 : 0.187583333333\n",
      "70 : 0.198333333333\n",
      "71 : 0.195583333333\n",
      "72 : 0.198166666667\n",
      "73 : 0.188916666667\n"
     ]
    }
   ],
   "source": [
    "depth_range = np.arange(1,2*len(train_x.columns))\n",
    "args = {'n_estimators':best_estimator}\n",
    "best_depth,depth_errors = cross_validation(train_x,train_y,depth_range,k=50,parameter='max_depth',**args)"
   ]
  },
  {
   "cell_type": "code",
   "execution_count": 20,
   "metadata": {
    "collapsed": false
   },
   "outputs": [
    {
     "data": {
      "image/png": "[encoded data removed]",
      "text/plain": [
       "<matplotlib.figure.Figure at 0x109c64590>"
      ]
     },
     "metadata": {},
     "output_type": "display_data"
    },
    {
     "data": {
      "image/png": "[encoded data removed]",
      "text/plain": [
       "<matplotlib.figure.Figure at 0x10b8aa750>"
      ]
     },
     "metadata": {},
     "output_type": "display_data"
    }
   ],
   "source": [
    "estim = plt.plot(estim_range,estim_errors,label='n trees')\n",
    "plt.show()\n",
    "depth = plt.plot(depth_range,depth_errors,label='depth')\n",
    "plt.show()"
   ]
  },
  {
   "cell_type": "code",
   "execution_count": 21,
   "metadata": {
    "collapsed": false
   },
   "outputs": [
    {
     "data": {
      "text/plain": [
       "RandomForestClassifier(bootstrap=True, class_weight=None, criterion='gini',\n",
       "            max_depth=7, max_features='auto', max_leaf_nodes=None,\n",
       "            min_samples_leaf=1, min_samples_split=2,\n",
       "            min_weight_fraction_leaf=0.0, n_estimators=100, n_jobs=1,\n",
       "            oob_score=False, random_state=None, verbose=0,\n",
       "            warm_start=False)"
      ]
     },
     "execution_count": 21,
     "metadata": {},
     "output_type": "execute_result"
    }
   ],
   "source": [
    "best_forest = RandomForestClassifier(n_estimators=best_estimator,max_depth=best_depth)\n",
    "best_forest.fit(X_train,Y_train)"
   ]
  },
  {
   "cell_type": "code",
   "execution_count": 22,
   "metadata": {
    "collapsed": false
   },
   "outputs": [
    {
     "name": "stdout",
     "output_type": "stream",
     "text": [
      "0.194029850746\n"
     ]
    }
   ],
   "source": [
    "predictions = best_forest.predict(X_valid)\n",
    "error = np.sum(predictions!=Y_valid,dtype=float)/len(Y_valid)\n",
    "print error"
   ]
  },
  {
   "cell_type": "code",
   "execution_count": 23,
   "metadata": {
    "collapsed": true
   },
   "outputs": [],
   "source": [
    "best_forest.fit(train_x,train_y)\n",
    "test_predictions = best_forest.predict(test_x)"
   ]
  },
  {
   "cell_type": "code",
   "execution_count": 24,
   "metadata": {
    "collapsed": false
   },
   "outputs": [],
   "source": [
    "np.savetxt('titanic_RF_lessnaive.csv',\n",
    "           np.c_[test_raw['PassengerId'],test_predictions],\n",
    "           delimiter=',',\n",
    "           header='PassengerId,Survived',\n",
    "           fmt='%d',\n",
    "           comments='')"
   ]
  },
  {
   "cell_type": "markdown",
   "metadata": {},
   "source": [
    "# Slight improvement over logistic regression"
   ]
  },
  {
   "cell_type": "markdown",
   "metadata": {},
   "source": [
    "# More cross validation may help"
   ]
  },
  {
   "cell_type": "code",
   "execution_count": 25,
   "metadata": {
    "collapsed": false
   },
   "outputs": [
    {
     "name": "stdout",
     "output_type": "stream",
     "text": [
      "1 : 0.194166666667\n",
      "2 : 0.196833333333\n",
      "3 : 0.196916666667\n",
      "4 : 0.190166666667\n",
      "5 : 0.188833333333\n",
      "6 : 0.190083333333\n",
      "7 : 0.196833333333\n",
      "8 : 0.191666666667\n",
      "9 : 0.186333333333\n",
      "10 : 0.189\n",
      "11 : 0.192916666667\n",
      "12 : 0.179666666667\n",
      "13 : 0.178416666667\n",
      "14 : 0.182333333333\n",
      "15 : 0.186416666667\n",
      "16 : 0.187666666667\n",
      "17 : 0.17975\n",
      "18 : 0.182166666667\n",
      "19 : 0.187666666667\n",
      "20 : 0.182416666667\n",
      "21 : 0.175833333333\n",
      "22 : 0.17975\n",
      "23 : 0.183666666667\n",
      "24 : 0.18225\n",
      "25 : 0.183583333333\n",
      "26 : 0.178416666667\n",
      "27 : 0.182416666667\n",
      "28 : 0.181\n",
      "29 : 0.177166666667\n",
      "30 : 0.175833333333\n",
      "31 : 0.177166666667\n",
      "32 : 0.177083333333\n",
      "33 : 0.178416666667\n",
      "34 : 0.181083333333\n",
      "35 : 0.173083333333\n",
      "36 : 0.181166666667\n",
      "37 : 0.182333333333\n",
      "auto : 0.194166666667\n",
      "log2 : 0.192833333333\n",
      "sqrt : 0.1955\n"
     ]
    }
   ],
   "source": [
    "feature_range = range(1,len(train_x.columns)+1)+['auto','log2','sqrt']\n",
    "args = {'max_depth':len(train_x.columns),'n_estimators':best_estimator}\n",
    "best_feature,feature_errors = cross_validation(train_x,train_y,feature_range,k=50,parameter='max_features',**args)"
   ]
  },
  {
   "cell_type": "code",
   "execution_count": 26,
   "metadata": {
    "collapsed": false
   },
   "outputs": [
    {
     "data": {
      "text/plain": [
       "35"
      ]
     },
     "execution_count": 26,
     "metadata": {},
     "output_type": "execute_result"
    }
   ],
   "source": [
    "best_feature"
   ]
  },
  {
   "cell_type": "code",
   "execution_count": 27,
   "metadata": {
    "collapsed": false
   },
   "outputs": [
    {
     "name": "stdout",
     "output_type": "stream",
     "text": [
      "0.171641791045\n"
     ]
    }
   ],
   "source": [
    "best_forest = RandomForestClassifier(n_estimators=best_estimator,max_depth=best_depth,max_features=best_feature)\n",
    "best_forest.fit(X_train,Y_train)\n",
    "predictions = best_forest.predict(X_valid)\n",
    "error = np.sum(predictions!=Y_valid,dtype=float)/len(Y_valid)\n",
    "print error"
   ]
  },
  {
   "cell_type": "code",
   "execution_count": 28,
   "metadata": {
    "collapsed": true
   },
   "outputs": [],
   "source": [
    "best_forest.fit(train_x,train_y)\n",
    "test_predictions = best_forest.predict(test_x)"
   ]
  },
  {
   "cell_type": "code",
   "execution_count": 29,
   "metadata": {
    "collapsed": true
   },
   "outputs": [],
   "source": [
    "np.savetxt('titanic_RF_xv3.csv',\n",
    "           np.c_[test_raw['PassengerId'],test_predictions],\n",
    "           delimiter=',',\n",
    "           header='PassengerId,Survived',\n",
    "           fmt='%d',\n",
    "           comments='')"
   ]
  },
  {
   "cell_type": "code",
   "execution_count": 30,
   "metadata": {
    "collapsed": false
   },
   "outputs": [
    {
     "name": "stdout",
     "output_type": "stream",
     "text": [
      "gini : 0.15825\n",
      "entropy : 0.16375\n"
     ]
    }
   ],
   "source": [
    "penalty_functions = ['gini','entropy']\n",
    "args = {'max_depth':best_depth,'n_estimators':best_estimator,'max_features':best_feature}\n",
    "best_function,function_errors = cross_validation(train_x,train_y,penalty_functions,k=50,parameter='criterion',**args)"
   ]
  },
  {
   "cell_type": "code",
   "execution_count": 31,
   "metadata": {
    "collapsed": false
   },
   "outputs": [
    {
     "name": "stdout",
     "output_type": "stream",
     "text": [
      "0.171641791045\n"
     ]
    }
   ],
   "source": [
    "best_forest = RandomForestClassifier(n_estimators=best_estimator,\n",
    "                                     max_depth=best_depth,\n",
    "                                     max_features=best_feature,\n",
    "                                     criterion=best_function)\n",
    "best_forest.fit(X_train,Y_train)\n",
    "predictions = best_forest.predict(X_valid)\n",
    "error = np.sum(predictions!=Y_valid,dtype=float)/len(Y_valid)\n",
    "print error"
   ]
  },
  {
   "cell_type": "code",
   "execution_count": 32,
   "metadata": {
    "collapsed": true
   },
   "outputs": [],
   "source": [
    "best_forest.fit(train_x,train_y)\n",
    "test_predictions = best_forest.predict(test_x)"
   ]
  },
  {
   "cell_type": "code",
   "execution_count": 33,
   "metadata": {
    "collapsed": true
   },
   "outputs": [],
   "source": [
    "np.savetxt('titanic_RF_xv4.csv',\n",
    "           np.c_[test_raw['PassengerId'],test_predictions],\n",
    "           delimiter=',',\n",
    "           header='PassengerId,Survived',\n",
    "           fmt='%d',\n",
    "           comments='')"
   ]
  },
  {
   "cell_type": "markdown",
   "metadata": {},
   "source": [
    "#Begin Feature Engineering"
   ]
  },
  {
   "cell_type": "markdown",
   "metadata": {},
   "source": [
    "### Trying single features as predictors"
   ]
  },
  {
   "cell_type": "code",
   "execution_count": 34,
   "metadata": {
    "collapsed": false
   },
   "outputs": [],
   "source": [
    "features = X_train.columns"
   ]
  },
  {
   "cell_type": "code",
   "execution_count": 36,
   "metadata": {
    "collapsed": false
   },
   "outputs": [
    {
     "name": "stdout",
     "output_type": "stream",
     "text": [
      "Pclass : 0.298507462687\n",
      "Age : 0.39552238806\n",
      "SibSp : 0.365671641791\n",
      "Parch : 0.380597014925\n",
      "Fare : 0.313432835821\n",
      "Sex_male : 0.223880597015\n",
      "Sex_female : 0.223880597015\n",
      "Embarked_S : 0.410447761194\n",
      "Embarked_C : 0.373134328358\n",
      "Embarked_Q : 0.410447761194\n",
      "Embarked_nan : 0.410447761194\n",
      "Cabin_nan : 0.410447761194\n",
      "Cabin_C : 0.365671641791\n",
      "Cabin_E : 0.402985074627\n",
      "Cabin_G : 0.417910447761\n",
      "Cabin_D : 0.365671641791\n",
      "Cabin_A : 0.410447761194\n",
      "Cabin_B : 0.365671641791\n",
      "Cabin_F : 0.402985074627\n",
      "Cabin_T : 0.410447761194\n",
      "Title_Mr. : 0.268656716418\n",
      "Title_Mrs. : 0.305970149254\n",
      "Title_Miss. : 0.335820895522\n",
      "Title_Master. : 0.402985074627\n",
      "Title_Don. : 0.410447761194\n",
      "Title_Rev. : 0.410447761194\n",
      "Title_Dr. : 0.410447761194\n",
      "Title_Mme. : 0.410447761194\n",
      "Title_Ms. : 0.410447761194\n",
      "Title_Major. : 0.410447761194\n",
      "Title_Lady. : 0.410447761194\n",
      "Title_Sir. : 0.410447761194\n",
      "Title_Mlle. : 0.410447761194\n",
      "Title_Col. : 0.417910447761\n",
      "Title_Capt. : 0.410447761194\n",
      "Title_the : 0.410447761194\n",
      "Title_Jonkheer. : 0.410447761194\n",
      "Best Single Feature: Sex_male\n"
     ]
    }
   ],
   "source": [
    "single_feature_error = []\n",
    "for feat in features:\n",
    "    single_forest = RandomForestClassifier(n_estimators=best_estimator,\n",
    "                                           criterion=best_function)\n",
    "    single_forest.fit(X_train[[feat]],Y_train)\n",
    "    predicts = single_forest.predict(X_valid[[feat]])\n",
    "    err = np.sum(predicts!=Y_valid,dtype=float)/len(Y_valid)\n",
    "    single_feature_error.append(err)\n",
    "    print feat,':',err\n",
    "best_1 = features[np.argmin(single_feature_error)]\n",
    "print 'Best Single Feature:',best_1"
   ]
  },
  {
   "cell_type": "code",
   "execution_count": 37,
   "metadata": {
    "collapsed": false
   },
   "outputs": [],
   "source": [
    "features_2 = features.drop(best_1)"
   ]
  },
  {
   "cell_type": "code",
   "execution_count": 38,
   "metadata": {
    "collapsed": false
   },
   "outputs": [
    {
     "name": "stdout",
     "output_type": "stream",
     "text": [
      "Pclass : 0.201492537313\n",
      "Age : 0.216417910448\n",
      "SibSp : 0.208955223881\n",
      "Parch : 0.208955223881\n",
      "Fare : 0.186567164179\n",
      "Sex_female : 0.223880597015\n",
      "Embarked_S : 0.223880597015\n",
      "Embarked_C : 0.223880597015\n",
      "Embarked_Q : 0.223880597015\n",
      "Embarked_nan : 0.223880597015\n",
      "Cabin_nan : 0.223880597015\n",
      "Cabin_C : 0.223880597015\n",
      "Cabin_E : 0.231343283582\n",
      "Cabin_G : 0.223880597015\n",
      "Cabin_D : 0.223880597015\n",
      "Cabin_A : 0.223880597015\n",
      "Cabin_B : 0.223880597015\n",
      "Cabin_F : 0.223880597015\n",
      "Cabin_T : 0.223880597015\n",
      "Title_Mr. : 0.268656716418\n",
      "Title_Mrs. : 0.223880597015\n",
      "Title_Miss. : 0.223880597015\n",
      "Title_Master. : 0.216417910448\n",
      "Title_Don. : 0.223880597015\n",
      "Title_Rev. : 0.223880597015\n",
      "Title_Dr. : 0.223880597015\n",
      "Title_Mme. : 0.223880597015\n",
      "Title_Ms. : 0.223880597015\n",
      "Title_Major. : 0.223880597015\n",
      "Title_Lady. : 0.223880597015\n",
      "Title_Sir. : 0.223880597015\n",
      "Title_Mlle. : 0.223880597015\n",
      "Title_Col. : 0.231343283582\n",
      "Title_Capt. : 0.223880597015\n",
      "Title_the : 0.223880597015\n",
      "Title_Jonkheer. : 0.223880597015\n",
      "Best Double Feature: ['Sex_male', 'Fare']\n"
     ]
    }
   ],
   "source": [
    "double_feature_error = []\n",
    "for feat in features_2:\n",
    "    if feat == best_1: continue\n",
    "    double_forest = RandomForestClassifier(n_estimators=best_estimator,criterion=best_function)\n",
    "    double_forest.fit(X_train[[best_1,feat]],Y_train)\n",
    "    predicts = double_forest.predict(X_valid[[best_1,feat]])\n",
    "    err = np.sum(predicts!=Y_valid,dtype=float)/len(Y_valid)\n",
    "    double_feature_error.append(err)\n",
    "    print feat,':',err\n",
    "best_2 = features_2[np.argmin(double_feature_error)]\n",
    "print 'Best Double Feature:',[best_1,best_2]"
   ]
  },
  {
   "cell_type": "code",
   "execution_count": 39,
   "metadata": {
    "collapsed": true
   },
   "outputs": [],
   "source": [
    "features_3 = features.drop([best_1,best_2])"
   ]
  },
  {
   "cell_type": "code",
   "execution_count": 40,
   "metadata": {
    "collapsed": false
   },
   "outputs": [
    {
     "name": "stdout",
     "output_type": "stream",
     "text": [
      "Pclass : 0.164179104478\n",
      "Age : 0.223880597015\n",
      "SibSp : 0.208955223881\n",
      "Parch : 0.171641791045\n",
      "Sex_female : 0.186567164179\n",
      "Embarked_S : 0.201492537313\n",
      "Embarked_C : 0.186567164179\n",
      "Embarked_Q : 0.194029850746\n",
      "Embarked_nan : 0.186567164179\n",
      "Cabin_nan : 0.186567164179\n",
      "Cabin_C : 0.186567164179\n",
      "Cabin_E : 0.186567164179\n",
      "Cabin_G : 0.186567164179\n",
      "Cabin_D : 0.201492537313\n",
      "Cabin_A : 0.186567164179\n",
      "Cabin_B : 0.201492537313\n",
      "Cabin_F : 0.171641791045\n",
      "Cabin_T : 0.186567164179\n",
      "Title_Mr. : 0.186567164179\n",
      "Title_Mrs. : 0.246268656716\n",
      "Title_Miss. : 0.238805970149\n",
      "Title_Master. : 0.164179104478\n",
      "Title_Don. : 0.186567164179\n",
      "Title_Rev. : 0.186567164179\n",
      "Title_Dr. : 0.194029850746\n",
      "Title_Mme. : 0.186567164179\n",
      "Title_Ms. : 0.186567164179\n",
      "Title_Major. : 0.194029850746\n",
      "Title_Lady. : 0.186567164179\n",
      "Title_Sir. : 0.186567164179\n",
      "Title_Mlle. : 0.194029850746\n",
      "Title_Col. : 0.186567164179\n",
      "Title_Capt. : 0.194029850746\n",
      "Title_the : 0.186567164179\n",
      "Title_Jonkheer. : 0.194029850746\n",
      "Best Triple Feature: ['Sex_male', 'Fare', 'Pclass']\n"
     ]
    }
   ],
   "source": [
    "triple_feature_error = []\n",
    "for feat in features_3:\n",
    "    if feat in [best_1,best_2]: continue\n",
    "    triple_forest = RandomForestClassifier(n_estimators=best_estimator,criterion=best_function)\n",
    "    triple_forest.fit(X_train[[best_1,best_2,feat]],Y_train)\n",
    "    predicts = triple_forest.predict(X_valid[[best_1,best_2,feat]])\n",
    "    err = np.sum(predicts!=Y_valid,dtype=float)/len(Y_valid)\n",
    "    triple_feature_error.append(err)\n",
    "    print feat,':',err\n",
    "best_3 = features_3[np.argmin(triple_feature_error)]\n",
    "print 'Best Triple Feature:',[best_1,best_2,best_3]"
   ]
  },
  {
   "cell_type": "code",
   "execution_count": 41,
   "metadata": {
    "collapsed": false
   },
   "outputs": [
    {
     "data": {
      "text/plain": [
       "RandomForestClassifier(bootstrap=True, class_weight=None, criterion='gini',\n",
       "            max_depth=None, max_features='auto', max_leaf_nodes=None,\n",
       "            min_samples_leaf=1, min_samples_split=2,\n",
       "            min_weight_fraction_leaf=0.0, n_estimators=100, n_jobs=1,\n",
       "            oob_score=False, random_state=None, verbose=0,\n",
       "            warm_start=False)"
      ]
     },
     "execution_count": 41,
     "metadata": {},
     "output_type": "execute_result"
    }
   ],
   "source": [
    "three_forest = RandomForestClassifier(n_estimators=best_estimator,criterion=best_function)\n",
    "three_forest.fit(train_x[[best_1,best_2,best_3]],train_y)"
   ]
  },
  {
   "cell_type": "code",
   "execution_count": 42,
   "metadata": {
    "collapsed": true
   },
   "outputs": [],
   "source": [
    "test_predictions_3 = three_forest.predict(test_x[[best_1,best_2,best_3]])\n",
    "np.savetxt('titanic_RF_three.csv',\n",
    "           np.c_[test_raw['PassengerId'],test_predictions_3],\n",
    "           delimiter=',',\n",
    "           header='PassengerId,Survived',\n",
    "           fmt='%d',\n",
    "           comments='')"
   ]
  },
  {
   "cell_type": "code",
   "execution_count": 167,
   "metadata": {
    "collapsed": false
   },
   "outputs": [
    {
     "name": "stdout",
     "output_type": "stream",
     "text": [
      "46\n"
     ]
    }
   ],
   "source": [
    "print np.sum(test_predictions_3 != test_predictions)"
   ]
  },
  {
   "cell_type": "code",
   "execution_count": null,
   "metadata": {
    "collapsed": true
   },
   "outputs": [],
   "source": []
  }
 ],
 "metadata": {
  "kernelspec": {
   "display_name": "Python 2",
   "language": "python",
   "name": "python2"
  },
  "language_info": {
   "codemirror_mode": {
    "name": "ipython",
    "version": 2
   },
   "file_extension": ".py",
   "mimetype": "text/x-python",
   "name": "python",
   "nbconvert_exporter": "python",
   "pygments_lexer": "ipython2",
   "version": "2.7.10"
  }
 },
 "nbformat": 4,
 "nbformat_minor": 0
}
