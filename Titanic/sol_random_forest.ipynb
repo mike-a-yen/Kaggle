{
 "cells": [
  {
   "cell_type": "code",
   "execution_count": 102,
   "metadata": {
    "collapsed": true
   },
   "outputs": [],
   "source": [
    "import numpy as np\n",
    "import pandas as pd\n",
    "from sklearn.ensemble import RandomForestClassifier\n",
    "from sklearn.cross_validation import train_test_split\n",
    "from sklearn.cross_validation import KFold\n",
    "import matplotlib.pyplot as plt\n",
    "plt.style.use('bmh')\n",
    "%matplotlib inline"
   ]
  },
  {
   "cell_type": "code",
   "execution_count": 30,
   "metadata": {
    "collapsed": true
   },
   "outputs": [],
   "source": [
    "train_raw = pd.read_csv('data_sets/train.csv')"
   ]
  },
  {
   "cell_type": "code",
   "execution_count": 31,
   "metadata": {
    "collapsed": true
   },
   "outputs": [],
   "source": [
    "def fill_nan(column):\n",
    "    avg = column.mean()\n",
    "    return column.fillna(avg)\n",
    "def preprocess(data):\n",
    "    gender_map = {'male':1,'female':0}\n",
    "    embarked_map = {'C':0,'Q':1,'S':2}\n",
    "    data['Sex'] = data['Sex'].map(gender_map)\n",
    "    data['Embarked'] = data['Embarked'].map(embarked_map)\n",
    "    data = data.apply(lambda x: x.fillna(x.mean()),axis=1)\n",
    "    return data"
   ]
  },
  {
   "cell_type": "code",
   "execution_count": 32,
   "metadata": {
    "collapsed": false
   },
   "outputs": [
    {
     "name": "stdout",
     "output_type": "stream",
     "text": [
      "(891, 7)\n",
      "(891,)\n"
     ]
    }
   ],
   "source": [
    "ignore = ['Name','Ticket','Cabin','PassengerId']\n",
    "train = train_raw.drop(ignore,axis=1)\n",
    "train_x = preprocess(train)\n",
    "train_x = train_x.drop(['Survived'],axis=1)\n",
    "train_y = train['Survived'].values\n",
    "print train_x.shape\n",
    "print train_y.shape"
   ]
  },
  {
   "cell_type": "code",
   "execution_count": 33,
   "metadata": {
    "collapsed": false
   },
   "outputs": [
    {
     "name": "stdout",
     "output_type": "stream",
     "text": [
      "Index([u'Pclass', u'Sex', u'Age', u'SibSp', u'Parch', u'Fare', u'Embarked'], dtype='object')\n",
      "     Pclass  Sex        Age  SibSp  Parch      Fare  Embarked\n",
      "0         3    1  22.000000      1      0    7.2500         2\n",
      "1         1    0  38.000000      1      0   71.2833         0\n",
      "2         3    0  26.000000      0      0    7.9250         2\n",
      "3         1    0  35.000000      1      0   53.1000         2\n",
      "4         3    1  35.000000      0      0    8.0500         2\n",
      "5         3    1   1.922614      0      0    8.4583         1\n",
      "6         1    1  54.000000      0      0   51.8625         2\n",
      "7         3    1   2.000000      3      1   21.0750         2\n",
      "8         3    0  27.000000      0      2   11.1333         2\n",
      "9         2    0  14.000000      1      0   30.0708         0\n",
      "10        3    0   4.000000      1      1   16.7000         2\n",
      "11        1    0  58.000000      0      0   26.5500         2\n",
      "12        3    1  20.000000      0      0    8.0500         2\n",
      "13        3    1  39.000000      1      5   31.2750         2\n",
      "14        3    0  14.000000      0      0    7.8542         2\n",
      "15        2    0  55.000000      0      0   16.0000         2\n",
      "16        3    1   2.000000      4      1   29.1250         1\n",
      "17        2    1   2.714286      0      0   13.0000         2\n",
      "18        3    0  31.000000      1      0   18.0000         2\n",
      "19        3    0   1.603571      0      0    7.2250         0\n",
      "20        2    1  35.000000      0      0   26.0000         2\n",
      "21        2    1  34.000000      0      0   13.0000         2\n",
      "22        3    0  15.000000      0      0    8.0292         1\n",
      "23        1    1  28.000000      0      0   35.5000         2\n",
      "24        3    0   8.000000      3      1   21.0750         2\n",
      "25        3    0  38.000000      1      5   31.3875         2\n",
      "26        3    1   1.603571      0      0    7.2250         0\n",
      "27        1    1  19.000000      3      2  263.0000         2\n",
      "28        3    0   1.839886      0      0    7.8792         1\n",
      "29        3    1   1.985114      0      0    7.8958         2\n",
      "..      ...  ...        ...    ...    ...       ...       ...\n",
      "861       2    1  21.000000      1      0   11.5000         2\n",
      "862       1    0  48.000000      0      0   25.9292         2\n",
      "863       3    0  12.078571      8      2   69.5500         2\n",
      "864       2    1  24.000000      0      0   13.0000         2\n",
      "865       2    0  42.000000      0      0   13.0000         2\n",
      "866       2    0  27.000000      1      0   13.8583         0\n",
      "867       1    1  31.000000      0      0   50.4958         2\n",
      "868       3    1   2.214286      0      0    9.5000         2\n",
      "869       3    1   4.000000      1      1   11.1333         2\n",
      "870       3    1  26.000000      0      0    7.8958         2\n",
      "871       1    0  47.000000      1      1   52.5542         2\n",
      "872       1    1  33.000000      0      0    5.0000         2\n",
      "873       3    1  47.000000      0      0    9.0000         2\n",
      "874       2    0  28.000000      1      0   24.0000         0\n",
      "875       3    0  15.000000      0      0    7.2250         0\n",
      "876       3    1  20.000000      0      0    9.8458         2\n",
      "877       3    1  19.000000      0      0    7.8958         2\n",
      "878       3    1   1.985114      0      0    7.8958         2\n",
      "879       1    0  56.000000      0      1   83.1583         0\n",
      "880       2    0  25.000000      0      1   26.0000         2\n",
      "881       3    1  33.000000      0      0    7.8958         2\n",
      "882       3    0  22.000000      0      0   10.5167         2\n",
      "883       2    1  28.000000      0      0   10.5000         2\n",
      "884       3    1  25.000000      0      0    7.0500         2\n",
      "885       3    0  39.000000      0      5   29.1250         1\n",
      "886       2    1  27.000000      0      0   13.0000         2\n",
      "887       1    0  19.000000      0      0   30.0000         2\n",
      "888       3    0   4.492857      1      2   23.4500         2\n",
      "889       1    1  26.000000      0      0   30.0000         0\n",
      "890       3    1  32.000000      0      0    7.7500         1\n",
      "\n",
      "[891 rows x 7 columns]\n"
     ]
    }
   ],
   "source": [
    "print train_x.columns\n",
    "print train_x"
   ]
  },
  {
   "cell_type": "code",
   "execution_count": 44,
   "metadata": {
    "collapsed": true
   },
   "outputs": [],
   "source": [
    "clf = RandomForestClassifier(n_estimators=100,max_depth=len(train_x.columns))"
   ]
  },
  {
   "cell_type": "code",
   "execution_count": 45,
   "metadata": {
    "collapsed": false
   },
   "outputs": [
    {
     "data": {
      "text/plain": [
       "RandomForestClassifier(bootstrap=True, class_weight=None, criterion='gini',\n",
       "            max_depth=7, max_features='auto', max_leaf_nodes=None,\n",
       "            min_samples_leaf=1, min_samples_split=2,\n",
       "            min_weight_fraction_leaf=0.0, n_estimators=100, n_jobs=1,\n",
       "            oob_score=False, random_state=None, verbose=0,\n",
       "            warm_start=False)"
      ]
     },
     "execution_count": 45,
     "metadata": {},
     "output_type": "execute_result"
    }
   ],
   "source": [
    "clf.fit(train_x,train_y)"
   ]
  },
  {
   "cell_type": "markdown",
   "metadata": {},
   "source": [
    "# Naive guess on test data without and cross validation"
   ]
  },
  {
   "cell_type": "code",
   "execution_count": 87,
   "metadata": {
    "collapsed": false
   },
   "outputs": [],
   "source": [
    "test_raw = pd.read_csv('data_sets/test.csv')\n",
    "test = test_raw.drop(ignore,axis=1)\n",
    "test_x = preprocess(test)"
   ]
  },
  {
   "cell_type": "code",
   "execution_count": 88,
   "metadata": {
    "collapsed": false
   },
   "outputs": [
    {
     "name": "stdout",
     "output_type": "stream",
     "text": [
      "[0 0 0 0 1 0 0 0 1 0 0 0 1 0 1 1 0 0 0 0 0 0 1 0 1 0 1 0 0 0 0 0 0 0 1 0 0\n",
      " 0 0 1 0 0 0 1 1 0 0 0 1 1 0 0 1 1 0 0 0 0 0 1 0 0 0 1 1 1 1 0 0 1 1 0 0 0\n",
      " 1 0 0 1 0 1 1 0 0 0 0 0 1 0 1 1 0 0 1 0 0 0 1 0 0 0 1 0 0 0 1 0 0 0 0 0 0\n",
      " 1 1 1 1 0 0 1 0 1 1 0 1 0 0 1 0 1 0 0 0 0 0 0 0 0 0 0 0 0 0 1 0 0 0 0 0 0\n",
      " 0 0 1 0 0 1 0 0 1 1 0 1 1 1 1 0 0 0 0 0 1 0 0 0 0 0 0 1 1 0 1 1 0 0 1 0 1\n",
      " 0 1 0 0 0 0 0 0 0 1 0 1 0 0 0 1 1 1 1 0 0 0 0 1 0 0 0 0 1 1 0 1 0 1 0 1 0\n",
      " 1 0 1 0 0 1 0 0 0 1 0 0 1 0 0 0 1 1 1 1 0 0 0 0 1 0 1 0 1 0 1 0 0 0 0 0 1\n",
      " 0 0 0 1 1 0 0 0 0 0 0 0 0 1 1 0 1 0 0 0 0 0 1 1 0 1 0 0 0 0 0 0 0 0 0 0 0\n",
      " 1 0 0 0 0 0 0 0 1 1 1 0 0 0 0 0 0 0 1 1 0 0 0 0 0 0 0 0 1 0 1 0 0 0 1 0 0\n",
      " 1 0 0 0 0 0 0 0 0 0 1 1 1 0 0 0 1 1 0 0 0 1 0 1 0 0 0 0 1 1 0 1 0 0 1 1 0\n",
      " 0 1 0 0 1 1 0 0 0 0 0 0 1 0 0 1 0 0 0 0 0 1 0 0 0 1 0 1 0 0 1 0 1 0 0 0 0\n",
      " 0 1 1 1 1 0 0 1 0 0 1]\n"
     ]
    }
   ],
   "source": [
    "predictions = clf.predict(test_x)\n",
    "print predictions"
   ]
  },
  {
   "cell_type": "code",
   "execution_count": 48,
   "metadata": {
    "collapsed": false
   },
   "outputs": [],
   "source": [
    "np.savetxt('titanic_RF_naive.csv',\n",
    "           np.c_[test_raw['PassengerId'],predictions],\n",
    "           delimiter=',',\n",
    "           header='PassengerId,Survived',\n",
    "           fmt='%d',\n",
    "           comments='')"
   ]
  },
  {
   "cell_type": "markdown",
   "metadata": {},
   "source": [
    "# Lets try a less Naive Guess"
   ]
  },
  {
   "cell_type": "code",
   "execution_count": 56,
   "metadata": {
    "collapsed": true
   },
   "outputs": [],
   "source": [
    "X_train, X_valid, Y_train, Y_valid = train_test_split(train_x, train_y, test_size=100, random_state=0)"
   ]
  },
  {
   "cell_type": "code",
   "execution_count": 76,
   "metadata": {
    "collapsed": true
   },
   "outputs": [],
   "source": [
    "def cross_validation(train_x,train_y,p_range,k=50,parameter='n_estimators',**kwargs):\n",
    "    X_train, X_valid, Y_train, Y_valid = train_test_split(train_x, train_y, test_size=0.15, random_state=0)\n",
    "    errors = []\n",
    "    for p in p_range:\n",
    "        kfold = KFold(len(X_train), n_folds=k,shuffle=True,random_state=0)\n",
    "        error = 0\n",
    "        params = dict({parameter:p},**kwargs)\n",
    "        for train_index, val_index in kfold:\n",
    "            x_train = X_train.iloc[train_index]\n",
    "            y_train = Y_train[train_index]\n",
    "            x_val = X_train.iloc[val_index]\n",
    "            y_val = Y_train[val_index]\n",
    "            clf = RandomForestClassifier(**params)\n",
    "            clf.fit(x_train,y_train)\n",
    "            predictions = clf.predict(x_val)\n",
    "            err = np.sum((predictions != y_val),dtype=float)/len(y_val)\n",
    "            error += err/k\n",
    "        print p,':',error\n",
    "        errors.append(error)\n",
    "    best = p_range[np.argmin(errors)]\n",
    "    return best,errors"
   ]
  },
  {
   "cell_type": "code",
   "execution_count": 77,
   "metadata": {
    "collapsed": false
   },
   "outputs": [
    {
     "name": "stdout",
     "output_type": "stream",
     "text": [
      "1 : 0.219833333333\n",
      "10 : 0.1795\n",
      "20 : 0.180833333333\n",
      "30 : 0.176916666667\n",
      "40 : 0.171916666667\n",
      "50 : 0.174083333333\n",
      "60 : 0.177083333333\n",
      "70 : 0.175583333333\n",
      "80 : 0.1705\n",
      "90 : 0.177\n",
      "100 : 0.1705\n",
      "110 : 0.169083333333\n",
      "120 : 0.174333333333\n",
      "130 : 0.170333333333\n",
      "140 : 0.169166666667\n",
      "150 : 0.1705\n",
      "160 : 0.1665\n",
      "170 : 0.17025\n",
      "180 : 0.174333333333\n",
      "190 : 0.165083333333\n",
      "200 : 0.1705\n",
      "210 : 0.1705\n",
      "220 : 0.169166666667\n",
      "230 : 0.1705\n",
      "240 : 0.174416666667\n",
      "250 : 0.16775\n",
      "260 : 0.174166666667\n",
      "270 : 0.180916666667\n",
      "280 : 0.172916666667\n",
      "290 : 0.175666666667\n",
      "300 : 0.171583333333\n"
     ]
    }
   ],
   "source": [
    "estim_range = np.arange(0,310,10)\n",
    "estim_range[0] = 1\n",
    "args = {'max_depth':len(train_x.columns)}\n",
    "best_estimator,estim_errors = cross_validation(train_x,train_y,estim_range,k=50,parameter='n_estimators',**args)"
   ]
  },
  {
   "cell_type": "code",
   "execution_count": 78,
   "metadata": {
    "collapsed": false
   },
   "outputs": [
    {
     "name": "stdout",
     "output_type": "stream",
     "text": [
      "1 : 0.240416666667\n",
      "2 : 0.219333333333\n",
      "3 : 0.198083333333\n",
      "4 : 0.185916666667\n",
      "5 : 0.18075\n",
      "6 : 0.17575\n",
      "7 : 0.166333333333\n",
      "8 : 0.170583333333\n",
      "9 : 0.171916666667\n",
      "10 : 0.1745\n",
      "11 : 0.178583333333\n",
      "12 : 0.179833333333\n",
      "13 : 0.183916666667\n"
     ]
    }
   ],
   "source": [
    "depth_range = np.arange(1,2*len(train_x.columns))\n",
    "args = {'n_estimators':best_estimator}\n",
    "best_depth,depth_errors = cross_validation(train_x,train_y,depth_range,k=50,parameter='max_depth',**args)"
   ]
  },
  {
   "cell_type": "code",
   "execution_count": 81,
   "metadata": {
    "collapsed": false
   },
   "outputs": [
    {
     "data": {
      "image/png": "[encoded data removed]",
      "text/plain": [
       "<matplotlib.figure.Figure at 0x10af36310>"
      ]
     },
     "metadata": {},
     "output_type": "display_data"
    },
    {
     "data": {
      "image/png": "[encoded data removed]",
      "text/plain": [
       "<matplotlib.figure.Figure at 0x10a6f1e90>"
      ]
     },
     "metadata": {},
     "output_type": "display_data"
    }
   ],
   "source": [
    "estim = plt.plot(estim_range,estim_errors,label='n trees')\n",
    "plt.show()\n",
    "depth = plt.plot(depth_range,depth_errors,label='depth')\n",
    "plt.show()"
   ]
  },
  {
   "cell_type": "code",
   "execution_count": 82,
   "metadata": {
    "collapsed": false
   },
   "outputs": [
    {
     "data": {
      "text/plain": [
       "RandomForestClassifier(bootstrap=True, class_weight=None, criterion='gini',\n",
       "            max_depth=7, max_features='auto', max_leaf_nodes=None,\n",
       "            min_samples_leaf=1, min_samples_split=2,\n",
       "            min_weight_fraction_leaf=0.0, n_estimators=190, n_jobs=1,\n",
       "            oob_score=False, random_state=None, verbose=0,\n",
       "            warm_start=False)"
      ]
     },
     "execution_count": 82,
     "metadata": {},
     "output_type": "execute_result"
    }
   ],
   "source": [
    "best_forest = RandomForestClassifier(n_estimators=best_estimator,max_depth=best_depth)\n",
    "best_forest.fit(X_train,Y_train)"
   ]
  },
  {
   "cell_type": "code",
   "execution_count": 84,
   "metadata": {
    "collapsed": false
   },
   "outputs": [
    {
     "name": "stdout",
     "output_type": "stream",
     "text": [
      "0.19\n"
     ]
    }
   ],
   "source": [
    "predictions = best_forest.predict(X_valid)\n",
    "error = np.sum(predictions!=Y_valid,dtype=float)/len(Y_valid)\n",
    "print error"
   ]
  },
  {
   "cell_type": "code",
   "execution_count": 85,
   "metadata": {
    "collapsed": true
   },
   "outputs": [],
   "source": [
    "best_forest.fit(train_x,train_y)\n",
    "test_predictions = best_forest.predict(test_x)"
   ]
  },
  {
   "cell_type": "code",
   "execution_count": 92,
   "metadata": {
    "collapsed": false
   },
   "outputs": [],
   "source": [
    "np.savetxt('titanic_RF_lessnaive.csv',\n",
    "           np.c_[test_raw['PassengerId'],test_predictions],\n",
    "           delimiter=',',\n",
    "           header='PassengerId,Survived',\n",
    "           fmt='%d',\n",
    "           comments='')"
   ]
  },
  {
   "cell_type": "markdown",
   "metadata": {},
   "source": [
    "# Slight improvement over logistic regression"
   ]
  },
  {
   "cell_type": "markdown",
   "metadata": {},
   "source": [
    "# More cross validation may help"
   ]
  },
  {
   "cell_type": "code",
   "execution_count": 104,
   "metadata": {
    "collapsed": false
   },
   "outputs": [
    {
     "name": "stdout",
     "output_type": "stream",
     "text": [
      "1 : 0.167916666667\n",
      "2 : 0.163833333333\n",
      "3 : 0.171416666667\n",
      "4 : 0.168833333333\n",
      "5 : 0.17275\n",
      "6 : 0.1715\n",
      "7 : 0.174166666667\n",
      "auto : 0.169083333333\n",
      "log2 : 0.178166666667\n",
      "sqrt : 0.17425\n"
     ]
    }
   ],
   "source": [
    "feature_range = range(1,len(train_x.columns)+1)+['auto','log2','sqrt']\n",
    "args = {'max_depth':len(train_x.columns),'n_estimators':best_estimator}\n",
    "best_feature,feature_errors = cross_validation(train_x,train_y,feature_range,k=50,parameter='max_features',**args)"
   ]
  },
  {
   "cell_type": "code",
   "execution_count": 105,
   "metadata": {
    "collapsed": false
   },
   "outputs": [
    {
     "data": {
      "text/plain": [
       "2"
      ]
     },
     "execution_count": 105,
     "metadata": {},
     "output_type": "execute_result"
    }
   ],
   "source": [
    "best_feature"
   ]
  },
  {
   "cell_type": "code",
   "execution_count": 106,
   "metadata": {
    "collapsed": false
   },
   "outputs": [
    {
     "name": "stdout",
     "output_type": "stream",
     "text": [
      "0.18\n"
     ]
    }
   ],
   "source": [
    "best_forest = RandomForestClassifier(n_estimators=best_estimator,max_depth=best_depth,max_features=best_feature)\n",
    "best_forest.fit(X_train,Y_train)\n",
    "predictions = best_forest.predict(X_valid)\n",
    "error = np.sum(predictions!=Y_valid,dtype=float)/len(Y_valid)\n",
    "print error"
   ]
  },
  {
   "cell_type": "code",
   "execution_count": 107,
   "metadata": {
    "collapsed": true
   },
   "outputs": [],
   "source": [
    "best_forest.fit(train_x,train_y)\n",
    "test_predictions = best_forest.predict(test_x)"
   ]
  },
  {
   "cell_type": "code",
   "execution_count": 108,
   "metadata": {
    "collapsed": true
   },
   "outputs": [],
   "source": [
    "np.savetxt('titanic_RF_xv3.csv',\n",
    "           np.c_[test_raw['PassengerId'],test_predictions],\n",
    "           delimiter=',',\n",
    "           header='PassengerId,Survived',\n",
    "           fmt='%d',\n",
    "           comments='')"
   ]
  },
  {
   "cell_type": "code",
   "execution_count": 115,
   "metadata": {
    "collapsed": false
   },
   "outputs": [
    {
     "name": "stdout",
     "output_type": "stream",
     "text": [
      "gini : 0.16625\n",
      "entropy : 0.170333333333\n"
     ]
    }
   ],
   "source": [
    "penalty_functions = ['gini','entropy']\n",
    "args = {'max_depth':best_depth,'n_estimators':best_estimator,'max_features':best_feature}\n",
    "best_function,function_errors = cross_validation(train_x,train_y,penalty_functions,k=50,parameter='criterion',**args)"
   ]
  },
  {
   "cell_type": "markdown",
   "metadata": {},
   "source": [
    "#Begin Feature Engineering"
   ]
  },
  {
   "cell_type": "markdown",
   "metadata": {},
   "source": [
    "### Trying single features as predictors"
   ]
  },
  {
   "cell_type": "code",
   "execution_count": 150,
   "metadata": {
    "collapsed": false
   },
   "outputs": [],
   "source": [
    "features = X_train.columns"
   ]
  },
  {
   "cell_type": "code",
   "execution_count": 154,
   "metadata": {
    "collapsed": false
   },
   "outputs": [
    {
     "name": "stdout",
     "output_type": "stream",
     "text": [
      "Pclass : 0.29\n",
      "Sex : 0.21\n",
      "Age : 0.45\n",
      "SibSp : 0.39\n",
      "Parch : 0.4\n",
      "Fare : 0.33\n",
      "Embarked : 0.37\n",
      "Best Single Feature: Sex\n"
     ]
    }
   ],
   "source": [
    "single_feature_error = []\n",
    "for feat in features:\n",
    "    single_forest = RandomForestClassifier(n_estimators=best_estimator,criterion=best_function)\n",
    "    single_forest.fit(X_train[[feat]],Y_train)\n",
    "    predicts = single_forest.predict(X_valid[[feat]])\n",
    "    err = np.sum(predicts!=Y_valid,dtype=float)/len(Y_valid)\n",
    "    single_feature_error.append(err)\n",
    "    print feat,':',err\n",
    "best_1 = features[np.argmin(single_feature_error)]\n",
    "print 'Best Single Feature:',best_1"
   ]
  },
  {
   "cell_type": "code",
   "execution_count": 159,
   "metadata": {
    "collapsed": false
   },
   "outputs": [],
   "source": [
    "features_2 = features.drop(best_1)"
   ]
  },
  {
   "cell_type": "code",
   "execution_count": 160,
   "metadata": {
    "collapsed": false
   },
   "outputs": [
    {
     "name": "stdout",
     "output_type": "stream",
     "text": [
      "Pclass : 0.21\n",
      "Age : 0.26\n",
      "SibSp : 0.19\n",
      "Parch : 0.2\n",
      "Fare : 0.2\n",
      "Embarked : 0.21\n",
      "Best Double Feature: ['Sex', 'SibSp']\n"
     ]
    }
   ],
   "source": [
    "double_feature_error = []\n",
    "for feat in features_2:\n",
    "    if feat == best_1: continue\n",
    "    double_forest = RandomForestClassifier(n_estimators=best_estimator,criterion=best_function)\n",
    "    double_forest.fit(X_train[[best_1,feat]],Y_train)\n",
    "    predicts = double_forest.predict(X_valid[[best_1,feat]])\n",
    "    err = np.sum(predicts!=Y_valid,dtype=float)/len(Y_valid)\n",
    "    double_feature_error.append(err)\n",
    "    print feat,':',err\n",
    "best_2 = features_2[np.argmin(double_feature_error)]\n",
    "print 'Best Double Feature:',[best_1,best_2]"
   ]
  },
  {
   "cell_type": "code",
   "execution_count": 161,
   "metadata": {
    "collapsed": true
   },
   "outputs": [],
   "source": [
    "features_3 = features.drop([best_1,best_2])"
   ]
  },
  {
   "cell_type": "code",
   "execution_count": 162,
   "metadata": {
    "collapsed": false
   },
   "outputs": [
    {
     "name": "stdout",
     "output_type": "stream",
     "text": [
      "Pclass : 0.18\n",
      "Age : 0.25\n",
      "Parch : 0.2\n",
      "Fare : 0.24\n",
      "Embarked : 0.19\n",
      "Best Triple Feature: ['Sex', 'SibSp', 'Pclass']\n"
     ]
    }
   ],
   "source": [
    "triple_feature_error = []\n",
    "for feat in features_3:\n",
    "    if feat in [best_1,best_2]: continue\n",
    "    triple_forest = RandomForestClassifier(n_estimators=best_estimator,criterion=best_function)\n",
    "    triple_forest.fit(X_train[[best_1,best_2,feat]],Y_train)\n",
    "    predicts = triple_forest.predict(X_valid[[best_1,best_2,feat]])\n",
    "    err = np.sum(predicts!=Y_valid,dtype=float)/len(Y_valid)\n",
    "    triple_feature_error.append(err)\n",
    "    print feat,':',err\n",
    "best_3 = features_3[np.argmin(triple_feature_error)]\n",
    "print 'Best Triple Feature:',[best_1,best_2,best_3]"
   ]
  },
  {
   "cell_type": "code",
   "execution_count": 163,
   "metadata": {
    "collapsed": false
   },
   "outputs": [
    {
     "data": {
      "text/plain": [
       "RandomForestClassifier(bootstrap=True, class_weight=None, criterion='gini',\n",
       "            max_depth=None, max_features='auto', max_leaf_nodes=None,\n",
       "            min_samples_leaf=1, min_samples_split=2,\n",
       "            min_weight_fraction_leaf=0.0, n_estimators=190, n_jobs=1,\n",
       "            oob_score=False, random_state=None, verbose=0,\n",
       "            warm_start=False)"
      ]
     },
     "execution_count": 163,
     "metadata": {},
     "output_type": "execute_result"
    }
   ],
   "source": [
    "three_forest = RandomForestClassifier(n_estimators=best_estimator,criterion=best_function)\n",
    "three_forest.fit(train_x[[best_1,best_2,best_3]],train_y)"
   ]
  },
  {
   "cell_type": "code",
   "execution_count": 164,
   "metadata": {
    "collapsed": true
   },
   "outputs": [],
   "source": [
    "test_predictions_3 = three_forest.predict(test_x[[best_1,best_2,best_3]])\n",
    "np.savetxt('titanic_RF_three.csv',\n",
    "           np.c_[test_raw['PassengerId'],test_predictions_3],\n",
    "           delimiter=',',\n",
    "           header='PassengerId,Survived',\n",
    "           fmt='%d',\n",
    "           comments='')"
   ]
  },
  {
   "cell_type": "code",
   "execution_count": 167,
   "metadata": {
    "collapsed": false
   },
   "outputs": [
    {
     "name": "stdout",
     "output_type": "stream",
     "text": [
      "46\n"
     ]
    }
   ],
   "source": [
    "print np.sum(test_predictions_3 != test_predictions)"
   ]
  },
  {
   "cell_type": "code",
   "execution_count": null,
   "metadata": {
    "collapsed": true
   },
   "outputs": [],
   "source": []
  }
 ],
 "metadata": {
  "kernelspec": {
   "display_name": "Python 2",
   "language": "python",
   "name": "python2"
  },
  "language_info": {
   "codemirror_mode": {
    "name": "ipython",
    "version": 2
   },
   "file_extension": ".py",
   "mimetype": "text/x-python",
   "name": "python",
   "nbconvert_exporter": "python",
   "pygments_lexer": "ipython2",
   "version": "2.7.10"
  }
 },
 "nbformat": 4,
 "nbformat_minor": 0
}
