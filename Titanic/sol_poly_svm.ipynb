{
 "cells": [
  {
   "cell_type": "code",
   "execution_count": 1,
   "metadata": {
    "collapsed": true
   },
   "outputs": [],
   "source": [
    "import numpy as np\n",
    "import pandas as pd\n",
    "from sklearn import linear_model\n",
    "from sklearn.cross_validation import train_test_split\n",
    "from sklearn.cross_validation import KFold\n",
    "from sklearn.svm import SVC\n",
    "import matplotlib.pyplot as plt\n",
    "plt.style.use('bmh')\n",
    "%matplotlib inline"
   ]
  },
  {
   "cell_type": "code",
   "execution_count": 2,
   "metadata": {
    "collapsed": true
   },
   "outputs": [],
   "source": [
    "train_raw = pd.read_csv('data_sets/train.csv')"
   ]
  },
  {
   "cell_type": "code",
   "execution_count": 3,
   "metadata": {
    "collapsed": true
   },
   "outputs": [],
   "source": [
    "def preprocess(data):\n",
    "    gender_map = {'male':1,'female':0}\n",
    "    embarked_map = {'C':0,'Q':1,'S':2}\n",
    "    data['Sex'] = data['Sex'].map(gender_map)\n",
    "    data['Embarked'] = data['Embarked'].map(embarked_map)\n",
    "    data.fillna(-1,inplace=True)\n",
    "    return data"
   ]
  },
  {
   "cell_type": "code",
   "execution_count": 4,
   "metadata": {
    "collapsed": true
   },
   "outputs": [],
   "source": [
    "def calc_error(precitions,actuals):\n",
    "    return np.sum(predictions != actuals,dtype=float)\n",
    "def error_rate(predictions,actuals):\n",
    "    return calc_error(predictions,actuals)/len(predictions)"
   ]
  },
  {
   "cell_type": "code",
   "execution_count": 5,
   "metadata": {
    "collapsed": false
   },
   "outputs": [
    {
     "name": "stdout",
     "output_type": "stream",
     "text": [
      "(891, 8)\n",
      "(891,)\n"
     ]
    }
   ],
   "source": [
    "train = preprocess(train_raw)\n",
    "ignore = ['Name','Ticket','Cabin']\n",
    "train_x = train.drop(['Survived']+ignore,axis=1)\n",
    "train_y = train['Survived']\n",
    "print train_x.shape\n",
    "print train_y.shape"
   ]
  },
  {
   "cell_type": "code",
   "execution_count": 6,
   "metadata": {
    "collapsed": true
   },
   "outputs": [],
   "source": [
    "X_train, X_valid, Y_train, Y_valid = train_test_split(train_x, train_y, test_size=100, random_state=0)"
   ]
  },
  {
   "cell_type": "code",
   "execution_count": 7,
   "metadata": {
    "collapsed": false
   },
   "outputs": [],
   "source": [
    "svm = SVC(kernel='poly',degree=3)"
   ]
  },
  {
   "cell_type": "code",
   "execution_count": null,
   "metadata": {
    "collapsed": false
   },
   "outputs": [],
   "source": [
    "svm.fit(X_train,Y_train)"
   ]
  },
  {
   "cell_type": "code",
   "execution_count": null,
   "metadata": {
    "collapsed": false
   },
   "outputs": [],
   "source": [
    "predictions = svm.predict(X_valid)"
   ]
  },
  {
   "cell_type": "code",
   "execution_count": null,
   "metadata": {
    "collapsed": false
   },
   "outputs": [],
   "source": [
    "print error_rate(predictions,Y_valid.values)"
   ]
  },
  {
   "cell_type": "markdown",
   "metadata": {},
   "source": [
    "# kfold for the degree of the polynomial"
   ]
  },
  {
   "cell_type": "code",
   "execution_count": null,
   "metadata": {
    "collapsed": true
   },
   "outputs": [],
   "source": [
    "k = 10\n",
    "degree_range = np.arange(2,x_train.shape[1])\n",
    "errors = []\n",
    "for degree in degree_range:\n",
    "    kfold = KFold(len(X_train), n_folds=k,shuffle=True,random_state=0)\n",
    "    error = 0\n",
    "    for train_index, val_index in kfold:\n",
    "        x_train = X_train.iloc[train_index]\n",
    "        y_train = Y_train.iloc[train_index]\n",
    "        x_val = X_train.iloc[val_index]\n",
    "        y_val = Y_train.iloc[val_index]\n",
    "        svm = SVC(kernel='poly',degree=degree)\n",
    "        svm.fit(x_train,y_train)\n",
    "        predicts = svm.predict(x_val)\n",
    "        err = np.sum(predicts != y_val.values,dtype=float)\n",
    "        error += err\n",
    "    print degree,':',error/k\n",
    "    errors.append(error/k)\n",
    "best_degree = degree_range[np.argmin(errors)]\n",
    "print 'best degree:', best_degree"
   ]
  }
 ],
 "metadata": {
  "kernelspec": {
   "display_name": "Python 2",
   "language": "python",
   "name": "python2"
  },
  "language_info": {
   "codemirror_mode": {
    "name": "ipython",
    "version": 2
   },
   "file_extension": ".py",
   "mimetype": "text/x-python",
   "name": "python",
   "nbconvert_exporter": "python",
   "pygments_lexer": "ipython2",
   "version": "2.7.10"
  }
 },
 "nbformat": 4,
 "nbformat_minor": 0
}
