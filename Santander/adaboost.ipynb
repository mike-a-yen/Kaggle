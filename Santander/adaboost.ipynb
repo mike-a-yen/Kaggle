{
 "cells": [
  {
   "cell_type": "code",
   "execution_count": 1,
   "metadata": {
    "collapsed": true
   },
   "outputs": [],
   "source": [
    "import numpy as np\n",
    "import pandas as pd\n",
    "from sklearn.neighbors import NearestNeighbors\n",
    "from sklearn.tree import DecisionTreeClassifier\n",
    "from sklearn.ensemble import RandomForestClassifier\n",
    "from sklearn.ensemble import AdaBoostClassifier\n",
    "from sklearn.cross_validation import train_test_split\n",
    "from sklearn.cross_validation import KFold\n",
    "from sklearn import preprocessing\n",
    "import matplotlib.pyplot as plt\n",
    "plt.style.use('bmh')\n",
    "%matplotlib inline"
   ]
  },
  {
   "cell_type": "code",
   "execution_count": 2,
   "metadata": {
    "collapsed": true
   },
   "outputs": [],
   "source": [
    "train_raw = pd.read_csv('data_sets/train.csv')"
   ]
  },
  {
   "cell_type": "code",
   "execution_count": 3,
   "metadata": {
    "collapsed": false
   },
   "outputs": [
    {
     "name": "stderr",
     "output_type": "stream",
     "text": [
      "/Users/mayen/anaconda/lib/python2.7/site-packages/sklearn/preprocessing/data.py:153: UserWarning: Numerical issues were encountered when centering the data and might not be solved. Dataset may contain too large values. You may need to prescale your features.\n",
      "  warnings.warn(\"Numerical issues were encountered \"\n"
     ]
    }
   ],
   "source": [
    "train = train_raw.drop(['ID','TARGET'],axis=1)\n",
    "#train_x = train_x.reindex(np.random.permutation(train_x.index))\n",
    "train_x = preprocessing.scale(train)\n",
    "train_y = train_raw['TARGET'].values"
   ]
  },
  {
   "cell_type": "code",
   "execution_count": 4,
   "metadata": {
    "collapsed": true
   },
   "outputs": [],
   "source": [
    "class0 = train_x[train_y == 0]\n",
    "class1 = train_x[train_y == 1]"
   ]
  },
  {
   "cell_type": "code",
   "execution_count": 5,
   "metadata": {
    "collapsed": true
   },
   "outputs": [],
   "source": [
    "X_train, X_valid, Y_train, Y_valid = train_test_split(train_x, train_y, test_size=0.2, random_state=42)"
   ]
  },
  {
   "cell_type": "code",
   "execution_count": 8,
   "metadata": {
    "collapsed": true
   },
   "outputs": [],
   "source": [
    "def cross_validation(classifier,train_x,train_y,p_range,k=10,parameter='n_estimators',silence=True,**kwargs):\n",
    "    errors = []\n",
    "    for p in p_range:\n",
    "        kfold = KFold(len(X_train), n_folds=k,shuffle=True)\n",
    "        error = 0\n",
    "        params = dict({parameter:p},**kwargs)\n",
    "        for train_index, val_index in kfold:\n",
    "            x_train = train_x[train_index]\n",
    "            y_train = train_y[train_index]\n",
    "            x_val = train_x[val_index]\n",
    "            y_val = train_y[val_index]\n",
    "            clf = classifier(**params)\n",
    "            clf.fit(x_train,y_train)\n",
    "            predictions = clf.predict(x_val)\n",
    "            err = np.sum((predictions != y_val),dtype=float)/len(y_val)\n",
    "            error += err/k\n",
    "        if silence != True:\n",
    "            print p,':',error\n",
    "        errors.append(error)\n",
    "    best = p_range[np.argmin(errors)]\n",
    "    return best,errors\n",
    "\n",
    "def major_class(train_y):\n",
    "    n_class0 = np.sum(train_y == 0)\n",
    "    n_class1 = np.sum(train_y == 1)\n",
    "    if n_class0 > n_class1:\n",
    "        return 0\n",
    "    else:\n",
    "        return 1\n",
    "def minor_class(train_y):\n",
    "    n_class0 = np.sum(train_y == 0)\n",
    "    n_class1 = np.sum(train_y == 1)\n",
    "    if n_class0 < n_class1:\n",
    "        return 0\n",
    "    else:\n",
    "        return 1\n",
    "    \n",
    "def class_diff(train_y):\n",
    "    n_class0 = np.sum(train_y == 0)\n",
    "    n_class1 = np.sum(train_y == 1)\n",
    "    min_class = minor_class(train_y)\n",
    "    if min_class:\n",
    "        class_diff = n_class0 - n_class1\n",
    "    else:\n",
    "        class_diff = n_class1 - n_class0\n",
    "    return class_diff\n",
    "\n",
    "def resample(train_x,train_y,k=5):\n",
    "    '''Resample the data to fix class imbalance\n",
    "        uses nearest neighbors method\n",
    "        data should be scaled to mean 0 and std 1\n",
    "        Returns synthetic data needed to balance\n",
    "    '''\n",
    "    min_class = minor_class(train_y)\n",
    "    mc_data = train_x[train_y == min_class]\n",
    "    cdiff = class_diff(train_y)\n",
    "    \n",
    "    nearest_neighbors = NearestNeighbors()\n",
    "    nearest_neighbors.fit(mc_data)\n",
    "    \n",
    "    idxs = np.random.choice(np.arange(0,len(mc_data)),cdiff,replace=True)\n",
    "    \n",
    "    data_points = mc_data[idxs]\n",
    "    dist,nni = nearest_neighbors.kneighbors(data_points,k)\n",
    "    pivot_points = mc_data[nni[:,np.random.randint(0,k)]]\n",
    "    print 'pp',pivot_points.shape\n",
    "    print 'dp',data_points.shape\n",
    "    scale = np.random.random(cdiff)\n",
    "    synthetic_data = data_points + scale*pivot_points\n",
    "\n",
    "    return synthetic_data"
   ]
  },
  {
   "cell_type": "markdown",
   "metadata": {},
   "source": [
    "# Adaboost Random Forest"
   ]
  },
  {
   "cell_type": "code",
   "execution_count": 9,
   "metadata": {
    "collapsed": false
   },
   "outputs": [
    {
     "data": {
      "text/plain": [
       "(76020, 369)"
      ]
     },
     "execution_count": 9,
     "metadata": {},
     "output_type": "execute_result"
    }
   ],
   "source": [
    "train_x.shape"
   ]
  },
  {
   "cell_type": "code",
   "execution_count": null,
   "metadata": {
    "collapsed": false
   },
   "outputs": [],
   "source": [
    "synthetic_data = resample(train_x,train_y,k=5)"
   ]
  },
  {
   "cell_type": "code",
   "execution_count": null,
   "metadata": {
    "collapsed": true
   },
   "outputs": [],
   "source": [
    "syn_train_x = np.vstack((train_x,synthetic_data)) "
   ]
  },
  {
   "cell_type": "code",
   "execution_count": 14,
   "metadata": {
    "collapsed": false
   },
   "outputs": [
    {
     "name": "stdout",
     "output_type": "stream",
     "text": [
      "1 : 0.0394797421731\n",
      "10 : 0.0394797421731\n",
      "100 : 0.0393975269666\n",
      "1000 : 0.0403512233623\n"
     ]
    }
   ],
   "source": [
    "estimators_range = np.logspace(0,3,4,dtype=int)\n",
    "args = {'base_estimator':RandomForestClassifier(n_estimators=100,max_depth=1)}\n",
    "best_n_estimators, n_estimators_errors = cross_validation(AdaBoostClassifier,\n",
    "                                                         X_train,Y_train,\n",
    "                                                         estimators_range,\n",
    "                                                         parameter='n_estimators',\n",
    "                                                         k=3,\n",
    "                                                         silence=False,\n",
    "                                                         **args)"
   ]
  },
  {
   "cell_type": "code",
   "execution_count": 26,
   "metadata": {
    "collapsed": false
   },
   "outputs": [],
   "source": [
    "depth_range = np.arange(1,11)\n",
    "args = {'base_estimator':RandomForestClassifier(n_estimators=100,max_depth=1)}\n",
    "best_n_estimators, n_estimators_errors = cross_validation(AdaBoostClassifier,\n",
    "                                                         X_train,Y_train,\n",
    "                                                         estimators_range,\n",
    "                                                         parameter='n_estimators',\n",
    "                                                         k=3,\n",
    "                                                         silence=False,\n",
    "                                                         **args)"
   ]
  },
  {
   "cell_type": "code",
   "execution_count": 54,
   "metadata": {
    "collapsed": false
   },
   "outputs": [
    {
     "ename": "ValueError",
     "evalue": "operands could not be broadcast together with shapes (70004,) (70004,369) ",
     "output_type": "error",
     "traceback": [
      "\u001b[0;31m---------------------------------------------------------------------------\u001b[0m",
      "\u001b[0;31mValueError\u001b[0m                                Traceback (most recent call last)",
      "\u001b[0;32m<ipython-input-54-25d4a6f232a7>\u001b[0m in \u001b[0;36m<module>\u001b[0;34m()\u001b[0m\n\u001b[0;32m----> 1\u001b[0;31m \u001b[0mresample\u001b[0m\u001b[0;34m(\u001b[0m\u001b[0mtrain_x\u001b[0m\u001b[0;34m,\u001b[0m\u001b[0mtrain_y\u001b[0m\u001b[0;34m,\u001b[0m\u001b[0mk\u001b[0m\u001b[0;34m=\u001b[0m\u001b[0;36m5\u001b[0m\u001b[0;34m)\u001b[0m\u001b[0;34m\u001b[0m\u001b[0m\n\u001b[0m",
      "\u001b[0;32m<ipython-input-53-0a43982be625>\u001b[0m in \u001b[0;36mresample\u001b[0;34m(train_x, train_y, k)\u001b[0m\n\u001b[1;32m     65\u001b[0m     \u001b[0mpivot_points\u001b[0m \u001b[0;34m=\u001b[0m \u001b[0mmc_data\u001b[0m\u001b[0;34m[\u001b[0m\u001b[0mnni\u001b[0m\u001b[0;34m[\u001b[0m\u001b[0;34m:\u001b[0m\u001b[0;34m,\u001b[0m\u001b[0mnp\u001b[0m\u001b[0;34m.\u001b[0m\u001b[0mrandom\u001b[0m\u001b[0;34m.\u001b[0m\u001b[0mrandint\u001b[0m\u001b[0;34m(\u001b[0m\u001b[0;36m0\u001b[0m\u001b[0;34m,\u001b[0m\u001b[0mk\u001b[0m\u001b[0;34m)\u001b[0m\u001b[0;34m]\u001b[0m\u001b[0;34m]\u001b[0m\u001b[0;34m\u001b[0m\u001b[0m\n\u001b[1;32m     66\u001b[0m     \u001b[0mscale\u001b[0m \u001b[0;34m=\u001b[0m \u001b[0mnp\u001b[0m\u001b[0;34m.\u001b[0m\u001b[0mrandom\u001b[0m\u001b[0;34m.\u001b[0m\u001b[0mrandom\u001b[0m\u001b[0;34m(\u001b[0m\u001b[0mcdiff\u001b[0m\u001b[0;34m)\u001b[0m\u001b[0;34m\u001b[0m\u001b[0m\n\u001b[0;32m---> 67\u001b[0;31m     \u001b[0msynthetic_data\u001b[0m \u001b[0;34m=\u001b[0m \u001b[0mdata_points\u001b[0m \u001b[0;34m+\u001b[0m \u001b[0mscale\u001b[0m\u001b[0;34m*\u001b[0m\u001b[0mpivot_points\u001b[0m\u001b[0;34m\u001b[0m\u001b[0m\n\u001b[0m\u001b[1;32m     68\u001b[0m \u001b[0;34m\u001b[0m\u001b[0m\n\u001b[1;32m     69\u001b[0m     \u001b[0;32mreturn\u001b[0m \u001b[0msynthetic_data\u001b[0m\u001b[0;34m\u001b[0m\u001b[0m\n",
      "\u001b[0;31mValueError\u001b[0m: operands could not be broadcast together with shapes (70004,) (70004,369) "
     ]
    }
   ],
   "source": []
  },
  {
   "cell_type": "code",
   "execution_count": 44,
   "metadata": {
    "collapsed": false
   },
   "outputs": [
    {
     "data": {
      "text/plain": [
       "array([[   0, 2878, 1675, 1504, 1819,  189, 1223, 2839,  344, 1940]])"
      ]
     },
     "execution_count": 44,
     "metadata": {},
     "output_type": "execute_result"
    }
   ],
   "source": []
  },
  {
   "cell_type": "code",
   "execution_count": 41,
   "metadata": {
    "collapsed": false
   },
   "outputs": [
    {
     "name": "stdout",
     "output_type": "stream",
     "text": [
      "73012\n",
      "3008\n"
     ]
    }
   ],
   "source": [
    "nearest_neighbors = NearestNeighbors()\n",
    "nearest_neighbors.fit(class1)\n",
    "nearest_neighbors.kneighbors(class1[np.random.randint(0,len(class1),len(class1))])"
   ]
  },
  {
   "cell_type": "code",
   "execution_count": null,
   "metadata": {
    "collapsed": true
   },
   "outputs": [],
   "source": []
  }
 ],
 "metadata": {
  "kernelspec": {
   "display_name": "Python 2",
   "language": "python",
   "name": "python2"
  },
  "language_info": {
   "codemirror_mode": {
    "name": "ipython",
    "version": 2
   },
   "file_extension": ".py",
   "mimetype": "text/x-python",
   "name": "python",
   "nbconvert_exporter": "python",
   "pygments_lexer": "ipython2",
   "version": "2.7.10"
  }
 },
 "nbformat": 4,
 "nbformat_minor": 0
}
