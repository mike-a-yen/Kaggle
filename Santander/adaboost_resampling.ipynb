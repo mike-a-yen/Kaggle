{
 "cells": [
  {
   "cell_type": "code",
   "execution_count": 1,
   "metadata": {
    "collapsed": true
   },
   "outputs": [],
   "source": [
    "import numpy as np\n",
    "import pandas as pd\n",
    "from sklearn.neighbors import NearestNeighbors\n",
    "from sklearn.tree import DecisionTreeClassifier\n",
    "from sklearn.ensemble import RandomForestClassifier\n",
    "from sklearn.ensemble import AdaBoostClassifier\n",
    "from sklearn.cross_validation import train_test_split\n",
    "from sklearn.cross_validation import KFold\n",
    "from sklearn import preprocessing\n",
    "import matplotlib.pyplot as plt\n",
    "plt.style.use('bmh')\n",
    "%matplotlib inline"
   ]
  },
  {
   "cell_type": "code",
   "execution_count": 2,
   "metadata": {
    "collapsed": true
   },
   "outputs": [],
   "source": [
    "train_raw = pd.read_csv('data_sets/train.csv')"
   ]
  },
  {
   "cell_type": "code",
   "execution_count": 3,
   "metadata": {
    "collapsed": false
   },
   "outputs": [
    {
     "name": "stderr",
     "output_type": "stream",
     "text": [
      "/Users/mayen/anaconda/lib/python2.7/site-packages/sklearn/preprocessing/data.py:153: UserWarning: Numerical issues were encountered when centering the data and might not be solved. Dataset may contain too large values. You may need to prescale your features.\n",
      "  warnings.warn(\"Numerical issues were encountered \"\n"
     ]
    }
   ],
   "source": [
    "train = train_raw.drop(['ID','TARGET'],axis=1)\n",
    "#train_x = train_x.reindex(np.random.permutation(train_x.index))\n",
    "train_x = preprocessing.scale(train)\n",
    "train_y = train_raw['TARGET'].values"
   ]
  },
  {
   "cell_type": "code",
   "execution_count": 4,
   "metadata": {
    "collapsed": true
   },
   "outputs": [],
   "source": [
    "class0 = train_x[train_y == 0]\n",
    "class1 = train_x[train_y == 1]"
   ]
  },
  {
   "cell_type": "code",
   "execution_count": 30,
   "metadata": {
    "collapsed": true
   },
   "outputs": [],
   "source": [
    "def train_test_eqaul(train_x,train_y,split=0.5):\n",
    "    class0idx = train_y==0\n",
    "    class1idx = train_y==1\n",
    "    class0 = train_x[class0idx]\n",
    "    class1 = train_x[class1idx]\n",
    "    n0,n1 = len(class0),len(class1)\n",
    "    \n",
    "    n_split = int(n1*split)\n",
    "    X_valid = np.vstack((class1[0:n_split],\n",
    "                         class0[0:n_split]))\n",
    "    Y_valid = np.concatenate((np.ones(n_split,dtype=int),\n",
    "                              np.zeros(n_split,dtype=int)))\n",
    "    \n",
    "    X_train = np.vstack((class1[n_split:],\n",
    "                         class0[n_split:]))\n",
    "    Y_train = np.concatenate((np.ones(len(class1[n_split:]),dtype=int),\n",
    "                              np.zeros(len(class0[n_split:]),dtype=int)))\n",
    "    \n",
    "    shuffle_train = np.random.choice(np.arange(len(Y_train)),len(Y_train),replace=False)\n",
    "    shuffle_valid = np.random.choice(np.arange(len(Y_valid)),len(Y_valid),replace=False)\n",
    "    \n",
    "    return X_train[shuffle_train],Y_train[shuffle_train],X_valid[shuffle_valid],Y_valid[shuffle_valid]\n",
    "\n",
    "def cross_validation(classifier,train_x,train_y,p_range,k=10,parameter='n_estimators',silence=True,**kwargs):\n",
    "    errors = []\n",
    "    for p in p_range:\n",
    "        kfold = KFold(len(X_train), n_folds=k,shuffle=True)\n",
    "        error = 0\n",
    "        params = dict({parameter:p},**kwargs)\n",
    "        for train_index, val_index in kfold:\n",
    "            x_train = train_x[train_index]\n",
    "            y_train = train_y[train_index]\n",
    "            x_val = train_x[val_index]\n",
    "            y_val = train_y[val_index]\n",
    "            clf = classifier(**params)\n",
    "            clf.fit(x_train,y_train)\n",
    "            predictions = clf.predict(x_val)\n",
    "            err = np.sum((predictions != y_val),dtype=float)/len(y_val)\n",
    "            error += err/k\n",
    "        if silence != True:\n",
    "            print p,':',error\n",
    "        errors.append(error)\n",
    "    best = p_range[np.argmin(errors)]\n",
    "    return best,errors\n",
    "\n",
    "def major_class(train_y):\n",
    "    n_class0 = np.sum(train_y == 0)\n",
    "    n_class1 = np.sum(train_y == 1)\n",
    "    if n_class0 > n_class1:\n",
    "        return 0\n",
    "    else:\n",
    "        return 1\n",
    "def minor_class(train_y):\n",
    "    n_class0 = np.sum(train_y == 0)\n",
    "    n_class1 = np.sum(train_y == 1)\n",
    "    if n_class0 < n_class1:\n",
    "        return 0\n",
    "    else:\n",
    "        return 1\n",
    "    \n",
    "def class_diff(train_y):\n",
    "    n_class0 = np.sum(train_y == 0)\n",
    "    n_class1 = np.sum(train_y == 1)\n",
    "    min_class = minor_class(train_y)\n",
    "    if min_class:\n",
    "        class_diff = n_class0 - n_class1\n",
    "    else:\n",
    "        class_diff = n_class1 - n_class0\n",
    "    return class_diff\n",
    "\n",
    "def resample(train_x,train_y,k=5):\n",
    "    '''Resample the data to fix class imbalance\n",
    "        uses nearest neighbors method\n",
    "        data should be scaled to mean 0 and std 1\n",
    "        Returns synthetic data needed to balance\n",
    "    '''\n",
    "    min_class = minor_class(train_y)\n",
    "    mc_data = train_x[train_y == min_class]\n",
    "    cdiff = class_diff(train_y)\n",
    "    \n",
    "    nearest_neighbors = NearestNeighbors()\n",
    "    nearest_neighbors.fit(mc_data)\n",
    "    \n",
    "    idxs = np.random.choice(np.arange(0,len(mc_data)),cdiff,replace=True)\n",
    "    \n",
    "    data_points = mc_data[idxs]\n",
    "    dist,nni = nearest_neighbors.kneighbors(data_points,k)\n",
    "    pivot_points = mc_data[nni[:,np.random.randint(0,k)]]\n",
    "    print 'pp',pivot_points.shape\n",
    "    print 'dp',data_points.shape\n",
    "    scale = np.random.random(cdiff)[:,None]\n",
    "    synthetic_data = data_points + scale*pivot_points\n",
    "\n",
    "    return synthetic_data,min_class*np.ones(cdiff)"
   ]
  },
  {
   "cell_type": "code",
   "execution_count": 33,
   "metadata": {
    "collapsed": false
   },
   "outputs": [
    {
     "name": "stdout",
     "output_type": "stream",
     "text": [
      "0.0205993535309\n",
      "0.5\n"
     ]
    }
   ],
   "source": [
    "X_train,Y_train,X_valid,Y_valid = train_test_eqaul(train_x,train_y,split=0.5)\n",
    "print np.mean(Y_train)\n",
    "print np.mean(Y_valid)"
   ]
  },
  {
   "cell_type": "markdown",
   "metadata": {},
   "source": [
    "# Adaboost Random Forest"
   ]
  },
  {
   "cell_type": "code",
   "execution_count": 34,
   "metadata": {
    "collapsed": false
   },
   "outputs": [
    {
     "name": "stdout",
     "output_type": "stream",
     "text": [
      "pp (70004, 369)\n",
      "dp (70004, 369)\n"
     ]
    }
   ],
   "source": [
    "synthetic_data,synthetic_labels = resample(X_train,Y_train,k=5)"
   ]
  },
  {
   "cell_type": "code",
   "execution_count": 35,
   "metadata": {
    "collapsed": false
   },
   "outputs": [],
   "source": [
    "syn_train_x = np.vstack((X_train,synthetic_data))\n",
    "syn_train_y = np.concatenate((Y_train,synthetic_labels))"
   ]
  },
  {
   "cell_type": "code",
   "execution_count": 36,
   "metadata": {
    "collapsed": false
   },
   "outputs": [
    {
     "name": "stdout",
     "output_type": "stream",
     "text": [
      "0.0395685345962\n",
      "0.5\n"
     ]
    }
   ],
   "source": [
    "# test class imbalance\n",
    "print np.mean(train_y)\n",
    "print np.mean(syn_train_y)"
   ]
  },
  {
   "cell_type": "code",
   "execution_count": null,
   "metadata": {
    "collapsed": false
   },
   "outputs": [],
   "source": [
    "clf = AdaBoostClassifier(RandomForestClassifier(n_estimators=100,\n",
    "                                                max_depth=1),\n",
    "                        n_estimators=100)\n",
    "clf.fit(syn_train_x,syn_train_y)"
   ]
  },
  {
   "cell_type": "code",
   "execution_count": 33,
   "metadata": {
    "collapsed": false
   },
   "outputs": [
    {
     "name": "stdout",
     "output_type": "stream",
     "text": [
      "RandomForestClassifier(bootstrap=True, class_weight=None, criterion='gini',\n",
      "            max_depth=1, max_features='auto', max_leaf_nodes=None,\n",
      "            min_samples_leaf=1, min_samples_split=2,\n",
      "            min_weight_fraction_leaf=0.0, n_estimators=100, n_jobs=1,\n",
      "            oob_score=False, random_state=None, verbose=0,\n",
      "            warm_start=False) : 0.0207839782773\n",
      "RandomForestClassifier(bootstrap=True, class_weight=None, criterion='gini',\n",
      "            max_depth=2, max_features='auto', max_leaf_nodes=None,\n",
      "            min_samples_leaf=1, min_samples_split=2,\n",
      "            min_weight_fraction_leaf=0.0, n_estimators=100, n_jobs=1,\n",
      "            oob_score=False, random_state=None, verbose=0,\n",
      "            warm_start=False) : 0.0207840093687\n",
      "RandomForestClassifier(bootstrap=True, class_weight=None, criterion='gini',\n",
      "            max_depth=3, max_features='auto', max_leaf_nodes=None,\n",
      "            min_samples_leaf=1, min_samples_split=2,\n",
      "            min_weight_fraction_leaf=0.0, n_estimators=100, n_jobs=1,\n",
      "            oob_score=False, random_state=None, verbose=0,\n",
      "            warm_start=False) : 0.0207840364048\n",
      "RandomForestClassifier(bootstrap=True, class_weight=None, criterion='gini',\n",
      "            max_depth=4, max_features='auto', max_leaf_nodes=None,\n",
      "            min_samples_leaf=1, min_samples_split=2,\n",
      "            min_weight_fraction_leaf=0.0, n_estimators=100, n_jobs=1,\n",
      "            oob_score=False, random_state=None, verbose=0,\n",
      "            warm_start=False) : 0.0207840066651\n",
      "RandomForestClassifier(bootstrap=True, class_weight=None, criterion='gini',\n",
      "            max_depth=5, max_features='auto', max_leaf_nodes=None,\n",
      "            min_samples_leaf=1, min_samples_split=2,\n",
      "            min_weight_fraction_leaf=0.0, n_estimators=100, n_jobs=1,\n",
      "            oob_score=False, random_state=None, verbose=0,\n",
      "            warm_start=False) : 0.0207839931471\n",
      "RandomForestClassifier(bootstrap=True, class_weight=None, criterion='gini',\n",
      "            max_depth=6, max_features='auto', max_leaf_nodes=None,\n",
      "            min_samples_leaf=1, min_samples_split=2,\n",
      "            min_weight_fraction_leaf=0.0, n_estimators=100, n_jobs=1,\n",
      "            oob_score=False, random_state=None, verbose=0,\n",
      "            warm_start=False) : 0.0207840026097\n",
      "RandomForestClassifier(bootstrap=True, class_weight=None, criterion='gini',\n",
      "            max_depth=7, max_features='auto', max_leaf_nodes=None,\n",
      "            min_samples_leaf=1, min_samples_split=2,\n",
      "            min_weight_fraction_leaf=0.0, n_estimators=100, n_jobs=1,\n",
      "            oob_score=False, random_state=None, verbose=0,\n",
      "            warm_start=False) : 0.0207840107205\n",
      "RandomForestClassifier(bootstrap=True, class_weight=None, criterion='gini',\n",
      "            max_depth=8, max_features='auto', max_leaf_nodes=None,\n",
      "            min_samples_leaf=1, min_samples_split=2,\n",
      "            min_weight_fraction_leaf=0.0, n_estimators=100, n_jobs=1,\n",
      "            oob_score=False, random_state=None, verbose=0,\n",
      "            warm_start=False) : 0.0208168905849\n",
      "RandomForestClassifier(bootstrap=True, class_weight=None, criterion='gini',\n",
      "            max_depth=9, max_features='auto', max_leaf_nodes=None,\n",
      "            min_samples_leaf=1, min_samples_split=2,\n",
      "            min_weight_fraction_leaf=0.0, n_estimators=100, n_jobs=1,\n",
      "            oob_score=False, random_state=None, verbose=0,\n",
      "            warm_start=False) : 0.0208168730115\n"
     ]
    }
   ],
   "source": [
    "predictions = clf.predict(X_valid,Y_valid)\n",
    "print error_rate(predictions)"
   ]
  },
  {
   "cell_type": "code",
   "execution_count": 34,
   "metadata": {
    "collapsed": false
   },
   "outputs": [
    {
     "data": {
      "text/plain": [
       "RandomForestClassifier(bootstrap=True, class_weight=None, criterion='gini',\n",
       "            max_depth=1, max_features='auto', max_leaf_nodes=None,\n",
       "            min_samples_leaf=1, min_samples_split=2,\n",
       "            min_weight_fraction_leaf=0.0, n_estimators=100, n_jobs=1,\n",
       "            oob_score=False, random_state=None, verbose=0,\n",
       "            warm_start=False)"
      ]
     },
     "execution_count": 34,
     "metadata": {},
     "output_type": "execute_result"
    }
   ],
   "source": [
    "best_depth"
   ]
  },
  {
   "cell_type": "code",
   "execution_count": 41,
   "metadata": {
    "collapsed": false
   },
   "outputs": [
    {
     "name": "stdout",
     "output_type": "stream",
     "text": [
      "73012\n",
      "3008\n"
     ]
    }
   ],
   "source": [
    "nearest_neighbors = NearestNeighbors()\n",
    "nearest_neighbors.fit(class1)\n",
    "nearest_neighbors.kneighbors(class1[np.random.randint(0,len(class1),len(class1))])"
   ]
  },
  {
   "cell_type": "code",
   "execution_count": null,
   "metadata": {
    "collapsed": true
   },
   "outputs": [],
   "source": []
  }
 ],
 "metadata": {
  "kernelspec": {
   "display_name": "Python 2",
   "language": "python",
   "name": "python2"
  },
  "language_info": {
   "codemirror_mode": {
    "name": "ipython",
    "version": 2
   },
   "file_extension": ".py",
   "mimetype": "text/x-python",
   "name": "python",
   "nbconvert_exporter": "python",
   "pygments_lexer": "ipython2",
   "version": "2.7.10"
  }
 },
 "nbformat": 4,
 "nbformat_minor": 0
}
