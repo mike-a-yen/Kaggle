{
 "cells": [
  {
   "cell_type": "code",
   "execution_count": 28,
   "metadata": {
    "collapsed": true
   },
   "outputs": [],
   "source": [
    "import numpy as np\n",
    "import pandas as pd\n",
    "from useful_tools import *\n",
    "from sklearn.neighbors import NearestNeighbors\n",
    "from sklearn.tree import DecisionTreeClassifier\n",
    "from sklearn.ensemble import RandomForestClassifier\n",
    "from sklearn.ensemble import AdaBoostClassifier\n",
    "from sklearn.cross_validation import train_test_split\n",
    "from sklearn.cross_validation import KFold\n",
    "from sklearn import preprocessing\n",
    "from sklearn.metrics import confusion_matrix\n",
    "import matplotlib.pyplot as plt\n",
    "plt.style.use('bmh')\n",
    "%matplotlib inline"
   ]
  },
  {
   "cell_type": "code",
   "execution_count": 2,
   "metadata": {
    "collapsed": true
   },
   "outputs": [],
   "source": [
    "train_raw = pd.read_csv('data_sets/train.csv')"
   ]
  },
  {
   "cell_type": "code",
   "execution_count": 3,
   "metadata": {
    "collapsed": false
   },
   "outputs": [
    {
     "name": "stderr",
     "output_type": "stream",
     "text": [
      "/Users/mayen/anaconda/lib/python2.7/site-packages/sklearn/preprocessing/data.py:153: UserWarning: Numerical issues were encountered when centering the data and might not be solved. Dataset may contain too large values. You may need to prescale your features.\n",
      "  warnings.warn(\"Numerical issues were encountered \"\n"
     ]
    }
   ],
   "source": [
    "train = train_raw.drop(['ID','TARGET'],axis=1)\n",
    "#train_x = train_x.reindex(np.random.permutation(train_x.index))\n",
    "train_x = preprocessing.scale(train)\n",
    "train_y = train_raw['TARGET'].values"
   ]
  },
  {
   "cell_type": "code",
   "execution_count": 4,
   "metadata": {
    "collapsed": true
   },
   "outputs": [],
   "source": [
    "class0 = train_x[train_y == 0]\n",
    "class1 = train_x[train_y == 1]"
   ]
  },
  {
   "cell_type": "code",
   "execution_count": 5,
   "metadata": {
    "collapsed": true
   },
   "outputs": [],
   "source": [
    "def train_test_eqaul(train_x,train_y,split=0.5):\n",
    "    class0idx = train_y==0\n",
    "    class1idx = train_y==1\n",
    "    class0 = train_x[class0idx]\n",
    "    class1 = train_x[class1idx]\n",
    "    n0,n1 = len(class0),len(class1)\n",
    "    min_class = minor_class(train_y)\n",
    "    if min_class:\n",
    "        n_split = int(n1*split)\n",
    "    else:\n",
    "        n_split = int(n0*split)\n",
    "    X_valid = np.vstack((class1[0:n_split],\n",
    "                         class0[0:n_split]))\n",
    "    Y_valid = np.concatenate((np.ones(n_split,dtype=int),\n",
    "                              np.zeros(n_split,dtype=int)))\n",
    "    \n",
    "    X_train = np.vstack((class1[n_split:],\n",
    "                         class0[n_split:]))\n",
    "    Y_train = np.concatenate((np.ones(len(class1[n_split:]),dtype=int),\n",
    "                              np.zeros(len(class0[n_split:]),dtype=int)))\n",
    "    \n",
    "    shuffle_train = np.random.choice(np.arange(len(Y_train)),len(Y_train),replace=False)\n",
    "    shuffle_valid = np.random.choice(np.arange(len(Y_valid)),len(Y_valid),replace=False)\n",
    "    \n",
    "    return X_train[shuffle_train],Y_train[shuffle_train],X_valid[shuffle_valid],Y_valid[shuffle_valid]\n",
    "\n",
    "def cross_validation(classifier,train_x,train_y,p_range,k=10,parameter='n_estimators',silence=True,**kwargs):\n",
    "    errors = []\n",
    "    for p in p_range:\n",
    "        kfold = KFold(len(X_train), n_folds=k,shuffle=True)\n",
    "        error = 0\n",
    "        params = dict({parameter:p},**kwargs)\n",
    "        for train_index, val_index in kfold:\n",
    "            x_train = train_x[train_index]\n",
    "            y_train = train_y[train_index]\n",
    "            x_val = train_x[val_index]\n",
    "            y_val = train_y[val_index]\n",
    "            clf = classifier(**params)\n",
    "            clf.fit(x_train,y_train)\n",
    "            predictions = clf.predict(x_val)\n",
    "            err = np.sum((predictions != y_val),dtype=float)/len(y_val)\n",
    "            error += err/k\n",
    "        if silence != True:\n",
    "            print p,':',error\n",
    "        errors.append(error)\n",
    "    best = p_range[np.argmin(errors)]\n",
    "    return best,errors\n",
    "\n",
    "def major_class(train_y):\n",
    "    n_class0 = np.sum(train_y == 0)\n",
    "    n_class1 = np.sum(train_y == 1)\n",
    "    if n_class0 > n_class1:\n",
    "        return 0\n",
    "    else:\n",
    "        return 1\n",
    "def minor_class(train_y):\n",
    "    n_class0 = np.sum(train_y == 0)\n",
    "    n_class1 = np.sum(train_y == 1)\n",
    "    if n_class0 < n_class1:\n",
    "        return 0\n",
    "    else:\n",
    "        return 1\n",
    "    \n",
    "def class_diff(train_y):\n",
    "    n_class0 = np.sum(train_y == 0)\n",
    "    n_class1 = np.sum(train_y == 1)\n",
    "    min_class = minor_class(train_y)\n",
    "    if min_class:\n",
    "        class_diff = n_class0 - n_class1\n",
    "    else:\n",
    "        class_diff = n_class1 - n_class0\n",
    "    return class_diff\n",
    "\n",
    "def resample(train_x,train_y,k=5):\n",
    "    '''Resample the data to fix class imbalance\n",
    "        uses nearest neighbors method\n",
    "        data should be scaled to mean 0 and std 1\n",
    "        Returns synthetic data needed to balance\n",
    "    '''\n",
    "    min_class = minor_class(train_y)\n",
    "    mc_data = train_x[train_y == min_class]\n",
    "    cdiff = class_diff(train_y)\n",
    "    \n",
    "    nearest_neighbors = NearestNeighbors()\n",
    "    nearest_neighbors.fit(mc_data)\n",
    "    \n",
    "    idxs = np.random.choice(np.arange(0,len(mc_data)),cdiff,replace=True)\n",
    "    \n",
    "    data_points = mc_data[idxs]\n",
    "    dist,nni = nearest_neighbors.kneighbors(data_points,k)\n",
    "    pivot_points = mc_data[nni[:,np.random.randint(0,k)]]\n",
    "    print 'pp',pivot_points.shape\n",
    "    print 'dp',data_points.shape\n",
    "    scale = np.random.random(cdiff)[:,None]\n",
    "    synthetic_data = data_points + scale*pivot_points\n",
    "\n",
    "    return synthetic_data,min_class*np.ones(cdiff)"
   ]
  },
  {
   "cell_type": "code",
   "execution_count": 52,
   "metadata": {
    "collapsed": false
   },
   "outputs": [
    {
     "name": "stdout",
     "output_type": "stream",
     "text": [
      "[1 1 0 ..., 0 1 1]\n",
      "0.0205993535309\n",
      "0.5\n"
     ]
    }
   ],
   "source": [
    "X_train,Y_train,X_valid,Y_valid = train_test_eqaul(train_x,train_y,split=0.5)\n",
    "print Y_valid\n",
    "print np.mean(Y_train)\n",
    "print np.mean(Y_valid)"
   ]
  },
  {
   "cell_type": "markdown",
   "metadata": {},
   "source": [
    "# Adaboost Random Forest"
   ]
  },
  {
   "cell_type": "code",
   "execution_count": 53,
   "metadata": {
    "collapsed": false
   },
   "outputs": [
    {
     "name": "stdout",
     "output_type": "stream",
     "text": [
      "pp (70004, 369)\n",
      "dp (70004, 369)\n"
     ]
    }
   ],
   "source": [
    "synthetic_data,synthetic_labels = resample(X_train,Y_train,k=5)"
   ]
  },
  {
   "cell_type": "code",
   "execution_count": 54,
   "metadata": {
    "collapsed": false
   },
   "outputs": [],
   "source": [
    "syn_train_x = np.vstack((X_train,synthetic_data))\n",
    "syn_train_y = np.concatenate((Y_train,synthetic_labels))\n",
    "shuffleidx = np.random.choice(np.arange(len(syn_train_y)),len(syn_train_y),replace=False)\n",
    "sx_train = syn_train_x[shuffleidx]\n",
    "sy_train = syn_train_y[shuffleidx]"
   ]
  },
  {
   "cell_type": "code",
   "execution_count": 55,
   "metadata": {
    "collapsed": false
   },
   "outputs": [
    {
     "name": "stdout",
     "output_type": "stream",
     "text": [
      "0.0395685345962\n",
      "0.5\n"
     ]
    }
   ],
   "source": [
    "# test class imbalance\n",
    "print np.mean(train_y)\n",
    "print np.mean(sy_train)"
   ]
  },
  {
   "cell_type": "code",
   "execution_count": 40,
   "metadata": {
    "collapsed": false
   },
   "outputs": [
    {
     "data": {
      "text/plain": [
       "RandomForestClassifier(bootstrap=True, class_weight=None, criterion='gini',\n",
       "            max_depth=None, max_features='auto', max_leaf_nodes=None,\n",
       "            min_samples_leaf=1, min_samples_split=2,\n",
       "            min_weight_fraction_leaf=0.0, n_estimators=1000, n_jobs=-1,\n",
       "            oob_score=False, random_state=42, verbose=0, warm_start=False)"
      ]
     },
     "execution_count": 40,
     "metadata": {},
     "output_type": "execute_result"
    }
   ],
   "source": [
    "clf = RandomForestClassifier(n_estimators=1000,n_jobs=-1,random_state=42)\n",
    "clf.fit(sx_train,sy_train)"
   ]
  },
  {
   "cell_type": "code",
   "execution_count": 41,
   "metadata": {
    "collapsed": false
   },
   "outputs": [
    {
     "name": "stdout",
     "output_type": "stream",
     "text": [
      "0.0100631412786\n",
      "0.492686170213\n"
     ]
    }
   ],
   "source": [
    "syn_predictions = clf.predict(X_valid)\n",
    "print np.mean(predictions)\n",
    "print error_rate(syn_predictions,Y_valid)"
   ]
  },
  {
   "cell_type": "code",
   "execution_count": 56,
   "metadata": {
    "collapsed": false
   },
   "outputs": [
    {
     "data": {
      "text/plain": [
       "RandomForestClassifier(bootstrap=True, class_weight=None, criterion='gini',\n",
       "            max_depth=None, max_features='auto', max_leaf_nodes=None,\n",
       "            min_samples_leaf=1, min_samples_split=2,\n",
       "            min_weight_fraction_leaf=0.0, n_estimators=1000, n_jobs=-1,\n",
       "            oob_score=False, random_state=42, verbose=0, warm_start=False)"
      ]
     },
     "execution_count": 56,
     "metadata": {},
     "output_type": "execute_result"
    }
   ],
   "source": [
    "clf = RandomForestClassifier(n_estimators=1000,n_jobs=-1,random_state=42)\n",
    "clf.fit(X_train,Y_train)"
   ]
  },
  {
   "cell_type": "code",
   "execution_count": 57,
   "metadata": {
    "collapsed": false
   },
   "outputs": [
    {
     "name": "stdout",
     "output_type": "stream",
     "text": [
      "0.0109707446809\n",
      "0.492353723404\n"
     ]
    }
   ],
   "source": [
    "predictions = clf.predict(X_valid)\n",
    "print np.mean(predictions)\n",
    "print error_rate(predictions,Y_valid)"
   ]
  },
  {
   "cell_type": "code",
   "execution_count": 46,
   "metadata": {
    "collapsed": false
   },
   "outputs": [],
   "source": [
    "def plot_confusion_matrix(cm, title='Confusion matrix', cmap=plt.cm.Blues):\n",
    "    plt.imshow(cm, interpolation='nearest', cmap=cmap)\n",
    "    plt.title(title)\n",
    "    plt.colorbar()\n",
    "    tick_marks = np.arange(len(cm))\n",
    "    plt.xticks(tick_marks)\n",
    "    plt.yticks(tick_marks)\n",
    "    plt.tight_layout()\n",
    "    plt.ylabel('True label')\n",
    "    plt.xlabel('Predicted label')"
   ]
  },
  {
   "cell_type": "code",
   "execution_count": 58,
   "metadata": {
    "collapsed": false
   },
   "outputs": [
    {
     "name": "stdout",
     "output_type": "stream",
     "text": [
      "0.0109707446809\n"
     ]
    },
    {
     "data": {
      "image/png": "[encoded data removed]",
      "text/plain": [
       "<matplotlib.figure.Figure at 0x1803a5090>"
      ]
     },
     "metadata": {},
     "output_type": "display_data"
    }
   ],
   "source": [
    "print np.mean(predictions)\n",
    "plot_confusion_matrix(confusion_matrix(Y_valid,predictions),title='Non Syn')"
   ]
  },
  {
   "cell_type": "code",
   "execution_count": 50,
   "metadata": {
    "collapsed": false
   },
   "outputs": [
    {
     "name": "stdout",
     "output_type": "stream",
     "text": [
      "0.0106382978723\n"
     ]
    },
    {
     "data": {
      "image/png": "[encoded data removed]",
      "text/plain": [
       "<matplotlib.figure.Figure at 0x2229f4d50>"
      ]
     },
     "metadata": {},
     "output_type": "display_data"
    }
   ],
   "source": [
    "plot_confusion_matrix(confusion_matrix(Y_valid,syn_predictions),title='Syn')\n",
    "print np.mean(syn_predictions)\n",
    "print error_rate()"
   ]
  },
  {
   "cell_type": "code",
   "execution_count": null,
   "metadata": {
    "collapsed": true
   },
   "outputs": [],
   "source": []
  }
 ],
 "metadata": {
  "kernelspec": {
   "display_name": "Python 2",
   "language": "python",
   "name": "python2"
  },
  "language_info": {
   "codemirror_mode": {
    "name": "ipython",
    "version": 2
   },
   "file_extension": ".py",
   "mimetype": "text/x-python",
   "name": "python",
   "nbconvert_exporter": "python",
   "pygments_lexer": "ipython2",
   "version": "2.7.11"
  }
 },
 "nbformat": 4,
 "nbformat_minor": 0
}
